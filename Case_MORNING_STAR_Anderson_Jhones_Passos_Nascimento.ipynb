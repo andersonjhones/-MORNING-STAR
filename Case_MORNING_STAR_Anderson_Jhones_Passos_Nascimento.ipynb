{
  "nbformat": 4,
  "nbformat_minor": 0,
  "metadata": {
    "colab": {
      "provenance": [],
      "collapsed_sections": [],
      "authorship_tag": "ABX9TyNqMY4ejkU5kO+xtdEg21/J",
      "include_colab_link": true
    },
    "kernelspec": {
      "name": "python3",
      "display_name": "Python 3"
    },
    "language_info": {
      "name": "python"
    },
    "widgets": {
      "application/vnd.jupyter.widget-state+json": {
        "d8fccb9d4a2c45d2aa11382deed268f2": {
          "model_module": "@jupyter-widgets/controls",
          "model_name": "HBoxModel",
          "model_module_version": "1.5.0",
          "state": {
            "_dom_classes": [],
            "_model_module": "@jupyter-widgets/controls",
            "_model_module_version": "1.5.0",
            "_model_name": "HBoxModel",
            "_view_count": null,
            "_view_module": "@jupyter-widgets/controls",
            "_view_module_version": "1.5.0",
            "_view_name": "HBoxView",
            "box_style": "",
            "children": [
              "IPY_MODEL_aee20d35be0648d2b1e9dd106c721419",
              "IPY_MODEL_f168a79508564d4b99044ee2ba37cf07",
              "IPY_MODEL_6e5057e4894f4df78f56fcefddafc7c4"
            ],
            "layout": "IPY_MODEL_16d950308f2b48488227a1d92c21113f"
          }
        },
        "aee20d35be0648d2b1e9dd106c721419": {
          "model_module": "@jupyter-widgets/controls",
          "model_name": "HTMLModel",
          "model_module_version": "1.5.0",
          "state": {
            "_dom_classes": [],
            "_model_module": "@jupyter-widgets/controls",
            "_model_module_version": "1.5.0",
            "_model_name": "HTMLModel",
            "_view_count": null,
            "_view_module": "@jupyter-widgets/controls",
            "_view_module_version": "1.5.0",
            "_view_name": "HTMLView",
            "description": "",
            "description_tooltip": null,
            "layout": "IPY_MODEL_a13a27d846114e47adf8a13186d6f4c4",
            "placeholder": "​",
            "style": "IPY_MODEL_26c1f8093d5a4a03aa1df16d21f8132e",
            "value": "100%"
          }
        },
        "f168a79508564d4b99044ee2ba37cf07": {
          "model_module": "@jupyter-widgets/controls",
          "model_name": "FloatProgressModel",
          "model_module_version": "1.5.0",
          "state": {
            "_dom_classes": [],
            "_model_module": "@jupyter-widgets/controls",
            "_model_module_version": "1.5.0",
            "_model_name": "FloatProgressModel",
            "_view_count": null,
            "_view_module": "@jupyter-widgets/controls",
            "_view_module_version": "1.5.0",
            "_view_name": "ProgressView",
            "bar_style": "success",
            "description": "",
            "description_tooltip": null,
            "layout": "IPY_MODEL_74a8a26974c24755abcd2059a79f4e81",
            "max": 2808,
            "min": 0,
            "orientation": "horizontal",
            "style": "IPY_MODEL_424ada04bbf346abb06c21ffc2b8654c",
            "value": 2808
          }
        },
        "6e5057e4894f4df78f56fcefddafc7c4": {
          "model_module": "@jupyter-widgets/controls",
          "model_name": "HTMLModel",
          "model_module_version": "1.5.0",
          "state": {
            "_dom_classes": [],
            "_model_module": "@jupyter-widgets/controls",
            "_model_module_version": "1.5.0",
            "_model_name": "HTMLModel",
            "_view_count": null,
            "_view_module": "@jupyter-widgets/controls",
            "_view_module_version": "1.5.0",
            "_view_name": "HTMLView",
            "description": "",
            "description_tooltip": null,
            "layout": "IPY_MODEL_061df7617d9c4fa288e02056e8eeb406",
            "placeholder": "​",
            "style": "IPY_MODEL_89b64a037dc4492a82052f3b7e0a3ee5",
            "value": " 2808/2808 [34:23&lt;00:00,  1.38it/s]"
          }
        },
        "16d950308f2b48488227a1d92c21113f": {
          "model_module": "@jupyter-widgets/base",
          "model_name": "LayoutModel",
          "model_module_version": "1.2.0",
          "state": {
            "_model_module": "@jupyter-widgets/base",
            "_model_module_version": "1.2.0",
            "_model_name": "LayoutModel",
            "_view_count": null,
            "_view_module": "@jupyter-widgets/base",
            "_view_module_version": "1.2.0",
            "_view_name": "LayoutView",
            "align_content": null,
            "align_items": null,
            "align_self": null,
            "border": null,
            "bottom": null,
            "display": null,
            "flex": null,
            "flex_flow": null,
            "grid_area": null,
            "grid_auto_columns": null,
            "grid_auto_flow": null,
            "grid_auto_rows": null,
            "grid_column": null,
            "grid_gap": null,
            "grid_row": null,
            "grid_template_areas": null,
            "grid_template_columns": null,
            "grid_template_rows": null,
            "height": null,
            "justify_content": null,
            "justify_items": null,
            "left": null,
            "margin": null,
            "max_height": null,
            "max_width": null,
            "min_height": null,
            "min_width": null,
            "object_fit": null,
            "object_position": null,
            "order": null,
            "overflow": null,
            "overflow_x": null,
            "overflow_y": null,
            "padding": null,
            "right": null,
            "top": null,
            "visibility": null,
            "width": null
          }
        },
        "a13a27d846114e47adf8a13186d6f4c4": {
          "model_module": "@jupyter-widgets/base",
          "model_name": "LayoutModel",
          "model_module_version": "1.2.0",
          "state": {
            "_model_module": "@jupyter-widgets/base",
            "_model_module_version": "1.2.0",
            "_model_name": "LayoutModel",
            "_view_count": null,
            "_view_module": "@jupyter-widgets/base",
            "_view_module_version": "1.2.0",
            "_view_name": "LayoutView",
            "align_content": null,
            "align_items": null,
            "align_self": null,
            "border": null,
            "bottom": null,
            "display": null,
            "flex": null,
            "flex_flow": null,
            "grid_area": null,
            "grid_auto_columns": null,
            "grid_auto_flow": null,
            "grid_auto_rows": null,
            "grid_column": null,
            "grid_gap": null,
            "grid_row": null,
            "grid_template_areas": null,
            "grid_template_columns": null,
            "grid_template_rows": null,
            "height": null,
            "justify_content": null,
            "justify_items": null,
            "left": null,
            "margin": null,
            "max_height": null,
            "max_width": null,
            "min_height": null,
            "min_width": null,
            "object_fit": null,
            "object_position": null,
            "order": null,
            "overflow": null,
            "overflow_x": null,
            "overflow_y": null,
            "padding": null,
            "right": null,
            "top": null,
            "visibility": null,
            "width": null
          }
        },
        "26c1f8093d5a4a03aa1df16d21f8132e": {
          "model_module": "@jupyter-widgets/controls",
          "model_name": "DescriptionStyleModel",
          "model_module_version": "1.5.0",
          "state": {
            "_model_module": "@jupyter-widgets/controls",
            "_model_module_version": "1.5.0",
            "_model_name": "DescriptionStyleModel",
            "_view_count": null,
            "_view_module": "@jupyter-widgets/base",
            "_view_module_version": "1.2.0",
            "_view_name": "StyleView",
            "description_width": ""
          }
        },
        "74a8a26974c24755abcd2059a79f4e81": {
          "model_module": "@jupyter-widgets/base",
          "model_name": "LayoutModel",
          "model_module_version": "1.2.0",
          "state": {
            "_model_module": "@jupyter-widgets/base",
            "_model_module_version": "1.2.0",
            "_model_name": "LayoutModel",
            "_view_count": null,
            "_view_module": "@jupyter-widgets/base",
            "_view_module_version": "1.2.0",
            "_view_name": "LayoutView",
            "align_content": null,
            "align_items": null,
            "align_self": null,
            "border": null,
            "bottom": null,
            "display": null,
            "flex": null,
            "flex_flow": null,
            "grid_area": null,
            "grid_auto_columns": null,
            "grid_auto_flow": null,
            "grid_auto_rows": null,
            "grid_column": null,
            "grid_gap": null,
            "grid_row": null,
            "grid_template_areas": null,
            "grid_template_columns": null,
            "grid_template_rows": null,
            "height": null,
            "justify_content": null,
            "justify_items": null,
            "left": null,
            "margin": null,
            "max_height": null,
            "max_width": null,
            "min_height": null,
            "min_width": null,
            "object_fit": null,
            "object_position": null,
            "order": null,
            "overflow": null,
            "overflow_x": null,
            "overflow_y": null,
            "padding": null,
            "right": null,
            "top": null,
            "visibility": null,
            "width": null
          }
        },
        "424ada04bbf346abb06c21ffc2b8654c": {
          "model_module": "@jupyter-widgets/controls",
          "model_name": "ProgressStyleModel",
          "model_module_version": "1.5.0",
          "state": {
            "_model_module": "@jupyter-widgets/controls",
            "_model_module_version": "1.5.0",
            "_model_name": "ProgressStyleModel",
            "_view_count": null,
            "_view_module": "@jupyter-widgets/base",
            "_view_module_version": "1.2.0",
            "_view_name": "StyleView",
            "bar_color": null,
            "description_width": ""
          }
        },
        "061df7617d9c4fa288e02056e8eeb406": {
          "model_module": "@jupyter-widgets/base",
          "model_name": "LayoutModel",
          "model_module_version": "1.2.0",
          "state": {
            "_model_module": "@jupyter-widgets/base",
            "_model_module_version": "1.2.0",
            "_model_name": "LayoutModel",
            "_view_count": null,
            "_view_module": "@jupyter-widgets/base",
            "_view_module_version": "1.2.0",
            "_view_name": "LayoutView",
            "align_content": null,
            "align_items": null,
            "align_self": null,
            "border": null,
            "bottom": null,
            "display": null,
            "flex": null,
            "flex_flow": null,
            "grid_area": null,
            "grid_auto_columns": null,
            "grid_auto_flow": null,
            "grid_auto_rows": null,
            "grid_column": null,
            "grid_gap": null,
            "grid_row": null,
            "grid_template_areas": null,
            "grid_template_columns": null,
            "grid_template_rows": null,
            "height": null,
            "justify_content": null,
            "justify_items": null,
            "left": null,
            "margin": null,
            "max_height": null,
            "max_width": null,
            "min_height": null,
            "min_width": null,
            "object_fit": null,
            "object_position": null,
            "order": null,
            "overflow": null,
            "overflow_x": null,
            "overflow_y": null,
            "padding": null,
            "right": null,
            "top": null,
            "visibility": null,
            "width": null
          }
        },
        "89b64a037dc4492a82052f3b7e0a3ee5": {
          "model_module": "@jupyter-widgets/controls",
          "model_name": "DescriptionStyleModel",
          "model_module_version": "1.5.0",
          "state": {
            "_model_module": "@jupyter-widgets/controls",
            "_model_module_version": "1.5.0",
            "_model_name": "DescriptionStyleModel",
            "_view_count": null,
            "_view_module": "@jupyter-widgets/base",
            "_view_module_version": "1.2.0",
            "_view_name": "StyleView",
            "description_width": ""
          }
        }
      }
    }
  },
  "cells": [
    {
      "cell_type": "markdown",
      "metadata": {
        "id": "view-in-github",
        "colab_type": "text"
      },
      "source": [
        "<a href=\"https://colab.research.google.com/github/andersonjhones/-MORNING-STAR/blob/main/Case_MORNING_STAR_Anderson_Jhones_Passos_Nascimento.ipynb\" target=\"_parent\"><img src=\"https://colab.research.google.com/assets/colab-badge.svg\" alt=\"Open In Colab\"/></a>"
      ]
    },
    {
      "cell_type": "markdown",
      "source": [
        "###**Desafio do processo seletivo da Morning Star - Cientista de Dados.**"
      ],
      "metadata": {
        "id": "37F1dgpAu-nD"
      }
    },
    {
      "cell_type": "markdown",
      "source": [
        "**Desafio - Desenvolva um modelo, treinado com os dados contidos no\n",
        "aquivo dados_pocos.csv, onde passado um poço como entrada, o mesmo\n",
        "retorne uma lista com os 4 poços mais correlatos (com características mais próximas) ao poço de entrada.**"
      ],
      "metadata": {
        "id": "DXqQnXFSvbiZ"
      }
    },
    {
      "cell_type": "markdown",
      "source": [
        "**Características de um poço:**\n",
        "\n",
        "**Nome:** Nome que identifica o projeto do poço\n",
        "\n",
        "**Fase:** É o número da fase. Um projeto é dividido em fases.\n",
        "\n",
        "**Tipo Poço:** Existem aqui 2 tipos de poços **VERTICAL** ou **HORIZONTAL**.\n",
        "\n",
        "**LDA (Lâmina D'Água):** LDA é o valor em metros, que corresponde a distância entre a\n",
        "superfície do mar até o ponto de perfuração em poços subaquático.\n",
        "\n",
        "**Diâmetro Fase:** Para cada fase da perfuração pode-se usar uma broca com diâmetro\n",
        "diferente. Aqui o diâmetro é descrito em polegadas.\n",
        "\n",
        "**Metragem:** Valor em metros que corresponde ao total perfurado naquela fase.\n",
        "\n",
        "**NFases:** Corresponde ao número total de fases que o projeto exigiu."
      ],
      "metadata": {
        "id": "B8d6JKm1vzie"
      }
    },
    {
      "cell_type": "markdown",
      "source": [
        "**Importações de bibliotecas utilizadas.**"
      ],
      "metadata": {
        "id": "KVJvw4eAgL7V"
      }
    },
    {
      "cell_type": "code",
      "execution_count": 1,
      "metadata": {
        "id": "wjo5hRq_8Fp6"
      },
      "outputs": [],
      "source": [
        "import pandas as pd\n",
        "import seaborn as sns\n",
        "import matplotlib.pyplot as plt\n",
        "import matplotlib as m\n",
        "m.rcParams['axes.labelsize'] = 14\n",
        "m.rcParams['xtick.labelsize'] = 12\n",
        "m.rcParams['ytick.labelsize'] = 12\n",
        "from matplotlib.pylab import rcParams \n",
        "rcParams['figure.figsize'] = 20,5\n",
        "import numpy as np\n",
        "from sklearn import metrics\n",
        "from sklearn.metrics import accuracy_score, precision_score, recall_score, f1_score, confusion_matrix,  classification_report\n",
        "from sklearn.model_selection import train_test_split\n",
        "from sklearn.preprocessing import OneHotEncoder\n",
        "from sklearn.preprocessing import MinMaxScaler\n",
        "from sklearn.preprocessing import StandardScaler\n",
        "from sklearn.compose import ColumnTransformer\n",
        "from sklearn.preprocessing import LabelEncoder\n",
        "import pathlib\n",
        "from math import sqrt\n",
        "from imblearn.over_sampling import ADASYN\n",
        "from sklearn.svm import SVC\n",
        "from sklearn.neural_network import MLPClassifier\n",
        "from sklearn.tree import DecisionTreeClassifier\n",
        "from sklearn.naive_bayes import GaussianNB\n",
        "from sklearn.linear_model import LogisticRegression\n",
        "from sklearn.model_selection import cross_val_score\n",
        "from sklearn.model_selection import RepeatedStratifiedKFold\n",
        "from sklearn.ensemble import RandomForestClassifier\n",
        "from sklearn.neighbors import KNeighborsClassifier\n",
        "from numpy import mean\n",
        "from numpy import std"
      ]
    },
    {
      "cell_type": "markdown",
      "source": [
        "**Carregamento do conjunto de dados**"
      ],
      "metadata": {
        "id": "jkyhiu4igc0k"
      }
    },
    {
      "cell_type": "code",
      "source": [
        "dataset_case = 'https://github.com/andersonjhones/-MORNING-STAR/raw/main/dados_pocos.csv'\n",
        "dados= pd.read_csv(dataset_case)"
      ],
      "metadata": {
        "id": "omY-NdJZ-Ubi"
      },
      "execution_count": 2,
      "outputs": []
    },
    {
      "cell_type": "markdown",
      "source": [
        "**Visualizando as primeiras 5 linhas do conjunto de dados**"
      ],
      "metadata": {
        "id": "brkA86hGgjWs"
      }
    },
    {
      "cell_type": "code",
      "source": [
        "dados.head()"
      ],
      "metadata": {
        "colab": {
          "base_uri": "https://localhost:8080/",
          "height": 206
        },
        "id": "XAqh1MeiUT05",
        "outputId": "948609d9-fb08-4e9f-bd41-d8d857f534f3"
      },
      "execution_count": 3,
      "outputs": [
        {
          "output_type": "execute_result",
          "data": {
            "text/plain": [
              "   id nome_poco  fase tipo_poco    lda diametro_fase  metragem  nfases\n",
              "0   0    6C5G4M     1  VERTICAL  598.0            26     607.0       4\n",
              "1   1    6C5G4M     2  VERTICAL  598.0        17 1/2    1306.0       4\n",
              "2   2    6C5G4M     3  VERTICAL  598.0        12 1/4    1201.0       4\n",
              "3   3    6C5G4M     4  VERTICAL  598.0         8 1/2    1445.0       4\n",
              "4   4    8030JC     1  VERTICAL    0.0        17 1/2     410.0       3"
            ],
            "text/html": [
              "\n",
              "  <div id=\"df-17626d13-1f57-40a7-aab8-519ea9b1f3d1\">\n",
              "    <div class=\"colab-df-container\">\n",
              "      <div>\n",
              "<style scoped>\n",
              "    .dataframe tbody tr th:only-of-type {\n",
              "        vertical-align: middle;\n",
              "    }\n",
              "\n",
              "    .dataframe tbody tr th {\n",
              "        vertical-align: top;\n",
              "    }\n",
              "\n",
              "    .dataframe thead th {\n",
              "        text-align: right;\n",
              "    }\n",
              "</style>\n",
              "<table border=\"1\" class=\"dataframe\">\n",
              "  <thead>\n",
              "    <tr style=\"text-align: right;\">\n",
              "      <th></th>\n",
              "      <th>id</th>\n",
              "      <th>nome_poco</th>\n",
              "      <th>fase</th>\n",
              "      <th>tipo_poco</th>\n",
              "      <th>lda</th>\n",
              "      <th>diametro_fase</th>\n",
              "      <th>metragem</th>\n",
              "      <th>nfases</th>\n",
              "    </tr>\n",
              "  </thead>\n",
              "  <tbody>\n",
              "    <tr>\n",
              "      <th>0</th>\n",
              "      <td>0</td>\n",
              "      <td>6C5G4M</td>\n",
              "      <td>1</td>\n",
              "      <td>VERTICAL</td>\n",
              "      <td>598.0</td>\n",
              "      <td>26</td>\n",
              "      <td>607.0</td>\n",
              "      <td>4</td>\n",
              "    </tr>\n",
              "    <tr>\n",
              "      <th>1</th>\n",
              "      <td>1</td>\n",
              "      <td>6C5G4M</td>\n",
              "      <td>2</td>\n",
              "      <td>VERTICAL</td>\n",
              "      <td>598.0</td>\n",
              "      <td>17 1/2</td>\n",
              "      <td>1306.0</td>\n",
              "      <td>4</td>\n",
              "    </tr>\n",
              "    <tr>\n",
              "      <th>2</th>\n",
              "      <td>2</td>\n",
              "      <td>6C5G4M</td>\n",
              "      <td>3</td>\n",
              "      <td>VERTICAL</td>\n",
              "      <td>598.0</td>\n",
              "      <td>12 1/4</td>\n",
              "      <td>1201.0</td>\n",
              "      <td>4</td>\n",
              "    </tr>\n",
              "    <tr>\n",
              "      <th>3</th>\n",
              "      <td>3</td>\n",
              "      <td>6C5G4M</td>\n",
              "      <td>4</td>\n",
              "      <td>VERTICAL</td>\n",
              "      <td>598.0</td>\n",
              "      <td>8 1/2</td>\n",
              "      <td>1445.0</td>\n",
              "      <td>4</td>\n",
              "    </tr>\n",
              "    <tr>\n",
              "      <th>4</th>\n",
              "      <td>4</td>\n",
              "      <td>8030JC</td>\n",
              "      <td>1</td>\n",
              "      <td>VERTICAL</td>\n",
              "      <td>0.0</td>\n",
              "      <td>17 1/2</td>\n",
              "      <td>410.0</td>\n",
              "      <td>3</td>\n",
              "    </tr>\n",
              "  </tbody>\n",
              "</table>\n",
              "</div>\n",
              "      <button class=\"colab-df-convert\" onclick=\"convertToInteractive('df-17626d13-1f57-40a7-aab8-519ea9b1f3d1')\"\n",
              "              title=\"Convert this dataframe to an interactive table.\"\n",
              "              style=\"display:none;\">\n",
              "        \n",
              "  <svg xmlns=\"http://www.w3.org/2000/svg\" height=\"24px\"viewBox=\"0 0 24 24\"\n",
              "       width=\"24px\">\n",
              "    <path d=\"M0 0h24v24H0V0z\" fill=\"none\"/>\n",
              "    <path d=\"M18.56 5.44l.94 2.06.94-2.06 2.06-.94-2.06-.94-.94-2.06-.94 2.06-2.06.94zm-11 1L8.5 8.5l.94-2.06 2.06-.94-2.06-.94L8.5 2.5l-.94 2.06-2.06.94zm10 10l.94 2.06.94-2.06 2.06-.94-2.06-.94-.94-2.06-.94 2.06-2.06.94z\"/><path d=\"M17.41 7.96l-1.37-1.37c-.4-.4-.92-.59-1.43-.59-.52 0-1.04.2-1.43.59L10.3 9.45l-7.72 7.72c-.78.78-.78 2.05 0 2.83L4 21.41c.39.39.9.59 1.41.59.51 0 1.02-.2 1.41-.59l7.78-7.78 2.81-2.81c.8-.78.8-2.07 0-2.86zM5.41 20L4 18.59l7.72-7.72 1.47 1.35L5.41 20z\"/>\n",
              "  </svg>\n",
              "      </button>\n",
              "      \n",
              "  <style>\n",
              "    .colab-df-container {\n",
              "      display:flex;\n",
              "      flex-wrap:wrap;\n",
              "      gap: 12px;\n",
              "    }\n",
              "\n",
              "    .colab-df-convert {\n",
              "      background-color: #E8F0FE;\n",
              "      border: none;\n",
              "      border-radius: 50%;\n",
              "      cursor: pointer;\n",
              "      display: none;\n",
              "      fill: #1967D2;\n",
              "      height: 32px;\n",
              "      padding: 0 0 0 0;\n",
              "      width: 32px;\n",
              "    }\n",
              "\n",
              "    .colab-df-convert:hover {\n",
              "      background-color: #E2EBFA;\n",
              "      box-shadow: 0px 1px 2px rgba(60, 64, 67, 0.3), 0px 1px 3px 1px rgba(60, 64, 67, 0.15);\n",
              "      fill: #174EA6;\n",
              "    }\n",
              "\n",
              "    [theme=dark] .colab-df-convert {\n",
              "      background-color: #3B4455;\n",
              "      fill: #D2E3FC;\n",
              "    }\n",
              "\n",
              "    [theme=dark] .colab-df-convert:hover {\n",
              "      background-color: #434B5C;\n",
              "      box-shadow: 0px 1px 3px 1px rgba(0, 0, 0, 0.15);\n",
              "      filter: drop-shadow(0px 1px 2px rgba(0, 0, 0, 0.3));\n",
              "      fill: #FFFFFF;\n",
              "    }\n",
              "  </style>\n",
              "\n",
              "      <script>\n",
              "        const buttonEl =\n",
              "          document.querySelector('#df-17626d13-1f57-40a7-aab8-519ea9b1f3d1 button.colab-df-convert');\n",
              "        buttonEl.style.display =\n",
              "          google.colab.kernel.accessAllowed ? 'block' : 'none';\n",
              "\n",
              "        async function convertToInteractive(key) {\n",
              "          const element = document.querySelector('#df-17626d13-1f57-40a7-aab8-519ea9b1f3d1');\n",
              "          const dataTable =\n",
              "            await google.colab.kernel.invokeFunction('convertToInteractive',\n",
              "                                                     [key], {});\n",
              "          if (!dataTable) return;\n",
              "\n",
              "          const docLinkHtml = 'Like what you see? Visit the ' +\n",
              "            '<a target=\"_blank\" href=https://colab.research.google.com/notebooks/data_table.ipynb>data table notebook</a>'\n",
              "            + ' to learn more about interactive tables.';\n",
              "          element.innerHTML = '';\n",
              "          dataTable['output_type'] = 'display_data';\n",
              "          await google.colab.output.renderOutput(dataTable, element);\n",
              "          const docLink = document.createElement('div');\n",
              "          docLink.innerHTML = docLinkHtml;\n",
              "          element.appendChild(docLink);\n",
              "        }\n",
              "      </script>\n",
              "    </div>\n",
              "  </div>\n",
              "  "
            ]
          },
          "metadata": {},
          "execution_count": 3
        }
      ]
    },
    {
      "cell_type": "markdown",
      "source": [
        "###**Conhecendo os dados e tratando-os.**"
      ],
      "metadata": {
        "id": "KMuAaFnExKrQ"
      }
    },
    {
      "cell_type": "markdown",
      "source": [
        "**Número de linhas e colunas do dataset**"
      ],
      "metadata": {
        "id": "IWB0sE5tgseV"
      }
    },
    {
      "cell_type": "code",
      "source": [
        "print('O número de linhas e colunas do conjunto de dados é: \\n', dados.shape)"
      ],
      "metadata": {
        "colab": {
          "base_uri": "https://localhost:8080/"
        },
        "id": "z8LVzAFQVAj8",
        "outputId": "3a4b053e-8cdc-4028-9d13-59629c9a22e2"
      },
      "execution_count": 4,
      "outputs": [
        {
          "output_type": "stream",
          "name": "stdout",
          "text": [
            "O número de linhas e colunas do conjunto de dados é: \n",
            " (10649, 8)\n"
          ]
        }
      ]
    },
    {
      "cell_type": "markdown",
      "source": [
        "**Informações sobre o tipo dos dados, se inteiro ou object, por exemplo, e também pode-se perceber que o conjunto de dados não apresenta dados faltantes.**"
      ],
      "metadata": {
        "id": "dTwsiVKYg737"
      }
    },
    {
      "cell_type": "code",
      "source": [
        "dados.info()"
      ],
      "metadata": {
        "colab": {
          "base_uri": "https://localhost:8080/"
        },
        "id": "A7GRpxkaV43B",
        "outputId": "e39e0d0d-3d67-4f05-fbfd-79af91ad40aa"
      },
      "execution_count": null,
      "outputs": [
        {
          "output_type": "stream",
          "name": "stdout",
          "text": [
            "<class 'pandas.core.frame.DataFrame'>\n",
            "RangeIndex: 10649 entries, 0 to 10648\n",
            "Data columns (total 8 columns):\n",
            " #   Column         Non-Null Count  Dtype  \n",
            "---  ------         --------------  -----  \n",
            " 0   id             10649 non-null  int64  \n",
            " 1   nome_poco      10649 non-null  object \n",
            " 2   fase           10649 non-null  int64  \n",
            " 3   tipo_poco      10649 non-null  object \n",
            " 4   lda            10649 non-null  float64\n",
            " 5   diametro_fase  10649 non-null  object \n",
            " 6   metragem       10649 non-null  float64\n",
            " 7   nfases         10649 non-null  int64  \n",
            "dtypes: float64(2), int64(3), object(3)\n",
            "memory usage: 665.7+ KB\n"
          ]
        }
      ]
    },
    {
      "cell_type": "markdown",
      "source": [
        "**Pode-se confirmar abaixo que não há dados nulos.**"
      ],
      "metadata": {
        "id": "xrB_44A3hnKP"
      }
    },
    {
      "cell_type": "code",
      "source": [
        "dados.isnull().sum()"
      ],
      "metadata": {
        "colab": {
          "base_uri": "https://localhost:8080/"
        },
        "id": "5nQRLLFTWepG",
        "outputId": "ec8601c3-787d-4955-acbe-f00275a30ac0"
      },
      "execution_count": 5,
      "outputs": [
        {
          "output_type": "execute_result",
          "data": {
            "text/plain": [
              "id               0\n",
              "nome_poco        0\n",
              "fase             0\n",
              "tipo_poco        0\n",
              "lda              0\n",
              "diametro_fase    0\n",
              "metragem         0\n",
              "nfases           0\n",
              "dtype: int64"
            ]
          },
          "metadata": {},
          "execution_count": 5
        }
      ]
    },
    {
      "cell_type": "markdown",
      "source": [
        "**Com o comando abaixo foi constatado que há 3186 poços distintos.**"
      ],
      "metadata": {
        "id": "UpltrxS2ZNKp"
      }
    },
    {
      "cell_type": "code",
      "source": [
        "dados['nome_poco'].nunique()"
      ],
      "metadata": {
        "colab": {
          "base_uri": "https://localhost:8080/"
        },
        "id": "nRmyIDlFWpMi",
        "outputId": "56cebb7e-47c1-4bda-f869-8fe64a805f50"
      },
      "execution_count": 6,
      "outputs": [
        {
          "output_type": "execute_result",
          "data": {
            "text/plain": [
              "3186"
            ]
          },
          "metadata": {},
          "execution_count": 6
        }
      ]
    },
    {
      "cell_type": "markdown",
      "source": [
        "**Observando a coluna \"tipo_poco\" pode-se ver que o dataset apresenta além dos dois tipos de poços mencionados no arquivo pdf do case (Vertical e Horizontal), também o tipo Direcional, além de 151 observações com valores 0.**"
      ],
      "metadata": {
        "id": "1af4p6RyiGUU"
      }
    },
    {
      "cell_type": "code",
      "source": [
        "dados['tipo_poco'].value_counts()"
      ],
      "metadata": {
        "colab": {
          "base_uri": "https://localhost:8080/"
        },
        "id": "mXUnbbTXlmqS",
        "outputId": "a2f944b7-ada3-4cff-bebc-a1c76d513158"
      },
      "execution_count": 7,
      "outputs": [
        {
          "output_type": "execute_result",
          "data": {
            "text/plain": [
              "VERTICAL      4971\n",
              "DIRECIONAL    3812\n",
              "HORIZONTAL    1715\n",
              "0              151\n",
              "Name: tipo_poco, dtype: int64"
            ]
          },
          "metadata": {},
          "execution_count": 7
        }
      ]
    },
    {
      "cell_type": "markdown",
      "source": [
        "**Índices da coluna \"tipo_poco\" com valor zero.**"
      ],
      "metadata": {
        "id": "SDjzeJU_i2bG"
      }
    },
    {
      "cell_type": "code",
      "source": [
        "dados[dados['tipo_poco']=='0']"
      ],
      "metadata": {
        "colab": {
          "base_uri": "https://localhost:8080/",
          "height": 424
        },
        "id": "N0XcAdQfkEfM",
        "outputId": "48dce12a-a422-4442-95af-23f63546e175"
      },
      "execution_count": 8,
      "outputs": [
        {
          "output_type": "execute_result",
          "data": {
            "text/plain": [
              "          id nome_poco  fase tipo_poco     lda diametro_fase  metragem  nfases\n",
              "324      324    6YYR78     1         0  1671.0            36      63.0       1\n",
              "1377    1377    WK7P95     1         0    24.0            26      67.0       4\n",
              "1378    1378    WK7P95     2         0    24.0        17 1/2     692.0       4\n",
              "1379    1379    WK7P95     3         0    24.0        12 1/4    1649.0       4\n",
              "1380    1380    WK7P95     4         0    24.0         8 1/2    1002.0       4\n",
              "...      ...       ...   ...       ...     ...           ...       ...     ...\n",
              "10644  10644    E25RS3     1         0     0.0            30      60.0       1\n",
              "10645  10645    AR3826     1         0     0.0            30      50.0       1\n",
              "10646  10646    XO8Q23     1         0  1282.0            36      56.0       1\n",
              "10647  10647    7RK405     1         0     0.0            26      49.0       1\n",
              "10648  10648    AX5W4Q     1         0     0.0            36      47.0       1\n",
              "\n",
              "[151 rows x 8 columns]"
            ],
            "text/html": [
              "\n",
              "  <div id=\"df-60b90928-84ff-4c8a-a812-d11536d6d7cf\">\n",
              "    <div class=\"colab-df-container\">\n",
              "      <div>\n",
              "<style scoped>\n",
              "    .dataframe tbody tr th:only-of-type {\n",
              "        vertical-align: middle;\n",
              "    }\n",
              "\n",
              "    .dataframe tbody tr th {\n",
              "        vertical-align: top;\n",
              "    }\n",
              "\n",
              "    .dataframe thead th {\n",
              "        text-align: right;\n",
              "    }\n",
              "</style>\n",
              "<table border=\"1\" class=\"dataframe\">\n",
              "  <thead>\n",
              "    <tr style=\"text-align: right;\">\n",
              "      <th></th>\n",
              "      <th>id</th>\n",
              "      <th>nome_poco</th>\n",
              "      <th>fase</th>\n",
              "      <th>tipo_poco</th>\n",
              "      <th>lda</th>\n",
              "      <th>diametro_fase</th>\n",
              "      <th>metragem</th>\n",
              "      <th>nfases</th>\n",
              "    </tr>\n",
              "  </thead>\n",
              "  <tbody>\n",
              "    <tr>\n",
              "      <th>324</th>\n",
              "      <td>324</td>\n",
              "      <td>6YYR78</td>\n",
              "      <td>1</td>\n",
              "      <td>0</td>\n",
              "      <td>1671.0</td>\n",
              "      <td>36</td>\n",
              "      <td>63.0</td>\n",
              "      <td>1</td>\n",
              "    </tr>\n",
              "    <tr>\n",
              "      <th>1377</th>\n",
              "      <td>1377</td>\n",
              "      <td>WK7P95</td>\n",
              "      <td>1</td>\n",
              "      <td>0</td>\n",
              "      <td>24.0</td>\n",
              "      <td>26</td>\n",
              "      <td>67.0</td>\n",
              "      <td>4</td>\n",
              "    </tr>\n",
              "    <tr>\n",
              "      <th>1378</th>\n",
              "      <td>1378</td>\n",
              "      <td>WK7P95</td>\n",
              "      <td>2</td>\n",
              "      <td>0</td>\n",
              "      <td>24.0</td>\n",
              "      <td>17 1/2</td>\n",
              "      <td>692.0</td>\n",
              "      <td>4</td>\n",
              "    </tr>\n",
              "    <tr>\n",
              "      <th>1379</th>\n",
              "      <td>1379</td>\n",
              "      <td>WK7P95</td>\n",
              "      <td>3</td>\n",
              "      <td>0</td>\n",
              "      <td>24.0</td>\n",
              "      <td>12 1/4</td>\n",
              "      <td>1649.0</td>\n",
              "      <td>4</td>\n",
              "    </tr>\n",
              "    <tr>\n",
              "      <th>1380</th>\n",
              "      <td>1380</td>\n",
              "      <td>WK7P95</td>\n",
              "      <td>4</td>\n",
              "      <td>0</td>\n",
              "      <td>24.0</td>\n",
              "      <td>8 1/2</td>\n",
              "      <td>1002.0</td>\n",
              "      <td>4</td>\n",
              "    </tr>\n",
              "    <tr>\n",
              "      <th>...</th>\n",
              "      <td>...</td>\n",
              "      <td>...</td>\n",
              "      <td>...</td>\n",
              "      <td>...</td>\n",
              "      <td>...</td>\n",
              "      <td>...</td>\n",
              "      <td>...</td>\n",
              "      <td>...</td>\n",
              "    </tr>\n",
              "    <tr>\n",
              "      <th>10644</th>\n",
              "      <td>10644</td>\n",
              "      <td>E25RS3</td>\n",
              "      <td>1</td>\n",
              "      <td>0</td>\n",
              "      <td>0.0</td>\n",
              "      <td>30</td>\n",
              "      <td>60.0</td>\n",
              "      <td>1</td>\n",
              "    </tr>\n",
              "    <tr>\n",
              "      <th>10645</th>\n",
              "      <td>10645</td>\n",
              "      <td>AR3826</td>\n",
              "      <td>1</td>\n",
              "      <td>0</td>\n",
              "      <td>0.0</td>\n",
              "      <td>30</td>\n",
              "      <td>50.0</td>\n",
              "      <td>1</td>\n",
              "    </tr>\n",
              "    <tr>\n",
              "      <th>10646</th>\n",
              "      <td>10646</td>\n",
              "      <td>XO8Q23</td>\n",
              "      <td>1</td>\n",
              "      <td>0</td>\n",
              "      <td>1282.0</td>\n",
              "      <td>36</td>\n",
              "      <td>56.0</td>\n",
              "      <td>1</td>\n",
              "    </tr>\n",
              "    <tr>\n",
              "      <th>10647</th>\n",
              "      <td>10647</td>\n",
              "      <td>7RK405</td>\n",
              "      <td>1</td>\n",
              "      <td>0</td>\n",
              "      <td>0.0</td>\n",
              "      <td>26</td>\n",
              "      <td>49.0</td>\n",
              "      <td>1</td>\n",
              "    </tr>\n",
              "    <tr>\n",
              "      <th>10648</th>\n",
              "      <td>10648</td>\n",
              "      <td>AX5W4Q</td>\n",
              "      <td>1</td>\n",
              "      <td>0</td>\n",
              "      <td>0.0</td>\n",
              "      <td>36</td>\n",
              "      <td>47.0</td>\n",
              "      <td>1</td>\n",
              "    </tr>\n",
              "  </tbody>\n",
              "</table>\n",
              "<p>151 rows × 8 columns</p>\n",
              "</div>\n",
              "      <button class=\"colab-df-convert\" onclick=\"convertToInteractive('df-60b90928-84ff-4c8a-a812-d11536d6d7cf')\"\n",
              "              title=\"Convert this dataframe to an interactive table.\"\n",
              "              style=\"display:none;\">\n",
              "        \n",
              "  <svg xmlns=\"http://www.w3.org/2000/svg\" height=\"24px\"viewBox=\"0 0 24 24\"\n",
              "       width=\"24px\">\n",
              "    <path d=\"M0 0h24v24H0V0z\" fill=\"none\"/>\n",
              "    <path d=\"M18.56 5.44l.94 2.06.94-2.06 2.06-.94-2.06-.94-.94-2.06-.94 2.06-2.06.94zm-11 1L8.5 8.5l.94-2.06 2.06-.94-2.06-.94L8.5 2.5l-.94 2.06-2.06.94zm10 10l.94 2.06.94-2.06 2.06-.94-2.06-.94-.94-2.06-.94 2.06-2.06.94z\"/><path d=\"M17.41 7.96l-1.37-1.37c-.4-.4-.92-.59-1.43-.59-.52 0-1.04.2-1.43.59L10.3 9.45l-7.72 7.72c-.78.78-.78 2.05 0 2.83L4 21.41c.39.39.9.59 1.41.59.51 0 1.02-.2 1.41-.59l7.78-7.78 2.81-2.81c.8-.78.8-2.07 0-2.86zM5.41 20L4 18.59l7.72-7.72 1.47 1.35L5.41 20z\"/>\n",
              "  </svg>\n",
              "      </button>\n",
              "      \n",
              "  <style>\n",
              "    .colab-df-container {\n",
              "      display:flex;\n",
              "      flex-wrap:wrap;\n",
              "      gap: 12px;\n",
              "    }\n",
              "\n",
              "    .colab-df-convert {\n",
              "      background-color: #E8F0FE;\n",
              "      border: none;\n",
              "      border-radius: 50%;\n",
              "      cursor: pointer;\n",
              "      display: none;\n",
              "      fill: #1967D2;\n",
              "      height: 32px;\n",
              "      padding: 0 0 0 0;\n",
              "      width: 32px;\n",
              "    }\n",
              "\n",
              "    .colab-df-convert:hover {\n",
              "      background-color: #E2EBFA;\n",
              "      box-shadow: 0px 1px 2px rgba(60, 64, 67, 0.3), 0px 1px 3px 1px rgba(60, 64, 67, 0.15);\n",
              "      fill: #174EA6;\n",
              "    }\n",
              "\n",
              "    [theme=dark] .colab-df-convert {\n",
              "      background-color: #3B4455;\n",
              "      fill: #D2E3FC;\n",
              "    }\n",
              "\n",
              "    [theme=dark] .colab-df-convert:hover {\n",
              "      background-color: #434B5C;\n",
              "      box-shadow: 0px 1px 3px 1px rgba(0, 0, 0, 0.15);\n",
              "      filter: drop-shadow(0px 1px 2px rgba(0, 0, 0, 0.3));\n",
              "      fill: #FFFFFF;\n",
              "    }\n",
              "  </style>\n",
              "\n",
              "      <script>\n",
              "        const buttonEl =\n",
              "          document.querySelector('#df-60b90928-84ff-4c8a-a812-d11536d6d7cf button.colab-df-convert');\n",
              "        buttonEl.style.display =\n",
              "          google.colab.kernel.accessAllowed ? 'block' : 'none';\n",
              "\n",
              "        async function convertToInteractive(key) {\n",
              "          const element = document.querySelector('#df-60b90928-84ff-4c8a-a812-d11536d6d7cf');\n",
              "          const dataTable =\n",
              "            await google.colab.kernel.invokeFunction('convertToInteractive',\n",
              "                                                     [key], {});\n",
              "          if (!dataTable) return;\n",
              "\n",
              "          const docLinkHtml = 'Like what you see? Visit the ' +\n",
              "            '<a target=\"_blank\" href=https://colab.research.google.com/notebooks/data_table.ipynb>data table notebook</a>'\n",
              "            + ' to learn more about interactive tables.';\n",
              "          element.innerHTML = '';\n",
              "          dataTable['output_type'] = 'display_data';\n",
              "          await google.colab.output.renderOutput(dataTable, element);\n",
              "          const docLink = document.createElement('div');\n",
              "          docLink.innerHTML = docLinkHtml;\n",
              "          element.appendChild(docLink);\n",
              "        }\n",
              "      </script>\n",
              "    </div>\n",
              "  </div>\n",
              "  "
            ]
          },
          "metadata": {},
          "execution_count": 8
        }
      ]
    },
    {
      "cell_type": "markdown",
      "source": [
        "**Com o intuito de comprometer o dataset original carregado, fez-se uma cópia do conjunto de dados chamada dados2.**"
      ],
      "metadata": {
        "id": "vSnjbPs2jG1W"
      }
    },
    {
      "cell_type": "code",
      "source": [
        "dados2=dados.copy()"
      ],
      "metadata": {
        "id": "J63HkeczgYhm"
      },
      "execution_count": 9,
      "outputs": []
    },
    {
      "cell_type": "markdown",
      "source": [
        "**A coluna \"diametro_fase\" está em formato de texto (object), então foram realizados alguns passos em código para deixar a coluna como float. Abaixo está sendo feita uma separação pelo espaço entre a parte inteira e a parte decimal.**"
      ],
      "metadata": {
        "id": "lFlMoprgkBFf"
      }
    },
    {
      "cell_type": "code",
      "source": [
        "dados2[['diametro_inteiro', 'diametro_decimal_texto']] = dados2['diametro_fase'].str.split(' ', expand=True)"
      ],
      "metadata": {
        "id": "32IVqx3oD6Bd"
      },
      "execution_count": 10,
      "outputs": []
    },
    {
      "cell_type": "code",
      "source": [
        "dados2.head()"
      ],
      "metadata": {
        "colab": {
          "base_uri": "https://localhost:8080/",
          "height": 206
        },
        "id": "d2NSs1u9Elj0",
        "outputId": "ad5196c0-4040-467c-de6c-9d017a866bdf"
      },
      "execution_count": 11,
      "outputs": [
        {
          "output_type": "execute_result",
          "data": {
            "text/plain": [
              "   id nome_poco  fase tipo_poco    lda diametro_fase  metragem  nfases  \\\n",
              "0   0    6C5G4M     1  VERTICAL  598.0            26     607.0       4   \n",
              "1   1    6C5G4M     2  VERTICAL  598.0        17 1/2    1306.0       4   \n",
              "2   2    6C5G4M     3  VERTICAL  598.0        12 1/4    1201.0       4   \n",
              "3   3    6C5G4M     4  VERTICAL  598.0         8 1/2    1445.0       4   \n",
              "4   4    8030JC     1  VERTICAL    0.0        17 1/2     410.0       3   \n",
              "\n",
              "  diametro_inteiro diametro_decimal_texto  \n",
              "0               26                   None  \n",
              "1               17                    1/2  \n",
              "2               12                    1/4  \n",
              "3                8                    1/2  \n",
              "4               17                    1/2  "
            ],
            "text/html": [
              "\n",
              "  <div id=\"df-923fb3ea-ae5d-4a4a-bbea-dba0d93f651e\">\n",
              "    <div class=\"colab-df-container\">\n",
              "      <div>\n",
              "<style scoped>\n",
              "    .dataframe tbody tr th:only-of-type {\n",
              "        vertical-align: middle;\n",
              "    }\n",
              "\n",
              "    .dataframe tbody tr th {\n",
              "        vertical-align: top;\n",
              "    }\n",
              "\n",
              "    .dataframe thead th {\n",
              "        text-align: right;\n",
              "    }\n",
              "</style>\n",
              "<table border=\"1\" class=\"dataframe\">\n",
              "  <thead>\n",
              "    <tr style=\"text-align: right;\">\n",
              "      <th></th>\n",
              "      <th>id</th>\n",
              "      <th>nome_poco</th>\n",
              "      <th>fase</th>\n",
              "      <th>tipo_poco</th>\n",
              "      <th>lda</th>\n",
              "      <th>diametro_fase</th>\n",
              "      <th>metragem</th>\n",
              "      <th>nfases</th>\n",
              "      <th>diametro_inteiro</th>\n",
              "      <th>diametro_decimal_texto</th>\n",
              "    </tr>\n",
              "  </thead>\n",
              "  <tbody>\n",
              "    <tr>\n",
              "      <th>0</th>\n",
              "      <td>0</td>\n",
              "      <td>6C5G4M</td>\n",
              "      <td>1</td>\n",
              "      <td>VERTICAL</td>\n",
              "      <td>598.0</td>\n",
              "      <td>26</td>\n",
              "      <td>607.0</td>\n",
              "      <td>4</td>\n",
              "      <td>26</td>\n",
              "      <td>None</td>\n",
              "    </tr>\n",
              "    <tr>\n",
              "      <th>1</th>\n",
              "      <td>1</td>\n",
              "      <td>6C5G4M</td>\n",
              "      <td>2</td>\n",
              "      <td>VERTICAL</td>\n",
              "      <td>598.0</td>\n",
              "      <td>17 1/2</td>\n",
              "      <td>1306.0</td>\n",
              "      <td>4</td>\n",
              "      <td>17</td>\n",
              "      <td>1/2</td>\n",
              "    </tr>\n",
              "    <tr>\n",
              "      <th>2</th>\n",
              "      <td>2</td>\n",
              "      <td>6C5G4M</td>\n",
              "      <td>3</td>\n",
              "      <td>VERTICAL</td>\n",
              "      <td>598.0</td>\n",
              "      <td>12 1/4</td>\n",
              "      <td>1201.0</td>\n",
              "      <td>4</td>\n",
              "      <td>12</td>\n",
              "      <td>1/4</td>\n",
              "    </tr>\n",
              "    <tr>\n",
              "      <th>3</th>\n",
              "      <td>3</td>\n",
              "      <td>6C5G4M</td>\n",
              "      <td>4</td>\n",
              "      <td>VERTICAL</td>\n",
              "      <td>598.0</td>\n",
              "      <td>8 1/2</td>\n",
              "      <td>1445.0</td>\n",
              "      <td>4</td>\n",
              "      <td>8</td>\n",
              "      <td>1/2</td>\n",
              "    </tr>\n",
              "    <tr>\n",
              "      <th>4</th>\n",
              "      <td>4</td>\n",
              "      <td>8030JC</td>\n",
              "      <td>1</td>\n",
              "      <td>VERTICAL</td>\n",
              "      <td>0.0</td>\n",
              "      <td>17 1/2</td>\n",
              "      <td>410.0</td>\n",
              "      <td>3</td>\n",
              "      <td>17</td>\n",
              "      <td>1/2</td>\n",
              "    </tr>\n",
              "  </tbody>\n",
              "</table>\n",
              "</div>\n",
              "      <button class=\"colab-df-convert\" onclick=\"convertToInteractive('df-923fb3ea-ae5d-4a4a-bbea-dba0d93f651e')\"\n",
              "              title=\"Convert this dataframe to an interactive table.\"\n",
              "              style=\"display:none;\">\n",
              "        \n",
              "  <svg xmlns=\"http://www.w3.org/2000/svg\" height=\"24px\"viewBox=\"0 0 24 24\"\n",
              "       width=\"24px\">\n",
              "    <path d=\"M0 0h24v24H0V0z\" fill=\"none\"/>\n",
              "    <path d=\"M18.56 5.44l.94 2.06.94-2.06 2.06-.94-2.06-.94-.94-2.06-.94 2.06-2.06.94zm-11 1L8.5 8.5l.94-2.06 2.06-.94-2.06-.94L8.5 2.5l-.94 2.06-2.06.94zm10 10l.94 2.06.94-2.06 2.06-.94-2.06-.94-.94-2.06-.94 2.06-2.06.94z\"/><path d=\"M17.41 7.96l-1.37-1.37c-.4-.4-.92-.59-1.43-.59-.52 0-1.04.2-1.43.59L10.3 9.45l-7.72 7.72c-.78.78-.78 2.05 0 2.83L4 21.41c.39.39.9.59 1.41.59.51 0 1.02-.2 1.41-.59l7.78-7.78 2.81-2.81c.8-.78.8-2.07 0-2.86zM5.41 20L4 18.59l7.72-7.72 1.47 1.35L5.41 20z\"/>\n",
              "  </svg>\n",
              "      </button>\n",
              "      \n",
              "  <style>\n",
              "    .colab-df-container {\n",
              "      display:flex;\n",
              "      flex-wrap:wrap;\n",
              "      gap: 12px;\n",
              "    }\n",
              "\n",
              "    .colab-df-convert {\n",
              "      background-color: #E8F0FE;\n",
              "      border: none;\n",
              "      border-radius: 50%;\n",
              "      cursor: pointer;\n",
              "      display: none;\n",
              "      fill: #1967D2;\n",
              "      height: 32px;\n",
              "      padding: 0 0 0 0;\n",
              "      width: 32px;\n",
              "    }\n",
              "\n",
              "    .colab-df-convert:hover {\n",
              "      background-color: #E2EBFA;\n",
              "      box-shadow: 0px 1px 2px rgba(60, 64, 67, 0.3), 0px 1px 3px 1px rgba(60, 64, 67, 0.15);\n",
              "      fill: #174EA6;\n",
              "    }\n",
              "\n",
              "    [theme=dark] .colab-df-convert {\n",
              "      background-color: #3B4455;\n",
              "      fill: #D2E3FC;\n",
              "    }\n",
              "\n",
              "    [theme=dark] .colab-df-convert:hover {\n",
              "      background-color: #434B5C;\n",
              "      box-shadow: 0px 1px 3px 1px rgba(0, 0, 0, 0.15);\n",
              "      filter: drop-shadow(0px 1px 2px rgba(0, 0, 0, 0.3));\n",
              "      fill: #FFFFFF;\n",
              "    }\n",
              "  </style>\n",
              "\n",
              "      <script>\n",
              "        const buttonEl =\n",
              "          document.querySelector('#df-923fb3ea-ae5d-4a4a-bbea-dba0d93f651e button.colab-df-convert');\n",
              "        buttonEl.style.display =\n",
              "          google.colab.kernel.accessAllowed ? 'block' : 'none';\n",
              "\n",
              "        async function convertToInteractive(key) {\n",
              "          const element = document.querySelector('#df-923fb3ea-ae5d-4a4a-bbea-dba0d93f651e');\n",
              "          const dataTable =\n",
              "            await google.colab.kernel.invokeFunction('convertToInteractive',\n",
              "                                                     [key], {});\n",
              "          if (!dataTable) return;\n",
              "\n",
              "          const docLinkHtml = 'Like what you see? Visit the ' +\n",
              "            '<a target=\"_blank\" href=https://colab.research.google.com/notebooks/data_table.ipynb>data table notebook</a>'\n",
              "            + ' to learn more about interactive tables.';\n",
              "          element.innerHTML = '';\n",
              "          dataTable['output_type'] = 'display_data';\n",
              "          await google.colab.output.renderOutput(dataTable, element);\n",
              "          const docLink = document.createElement('div');\n",
              "          docLink.innerHTML = docLinkHtml;\n",
              "          element.appendChild(docLink);\n",
              "        }\n",
              "      </script>\n",
              "    </div>\n",
              "  </div>\n",
              "  "
            ]
          },
          "metadata": {},
          "execution_count": 11
        }
      ]
    },
    {
      "cell_type": "markdown",
      "source": [
        "**Transformação da parte inteira do diâmetro da fase em polegadas de object para float.**"
      ],
      "metadata": {
        "id": "fVHYJ-W_kvH6"
      }
    },
    {
      "cell_type": "code",
      "source": [
        "dados2['diametro_inteiro'] = dados2['diametro_inteiro'].astype(float)"
      ],
      "metadata": {
        "id": "zh9YMueZE5I1"
      },
      "execution_count": 12,
      "outputs": []
    },
    {
      "cell_type": "markdown",
      "source": [
        "**Separação da parte decimal, em formato de texto, pela barra que simboliza a divisão de um número pelo outro.**"
      ],
      "metadata": {
        "id": "fr6A4kaplCmd"
      }
    },
    {
      "cell_type": "code",
      "source": [
        "dados2[['diametro_decimal1', 'diametro_decimal2']] = dados2['diametro_decimal_texto'].str.split('/', expand=True)"
      ],
      "metadata": {
        "id": "GtNNrkmLE_lp"
      },
      "execution_count": 13,
      "outputs": []
    },
    {
      "cell_type": "code",
      "source": [
        "dados2.head()"
      ],
      "metadata": {
        "colab": {
          "base_uri": "https://localhost:8080/",
          "height": 270
        },
        "id": "DmqNH0LpFO4E",
        "outputId": "fe4b2120-d0ad-4a85-a997-b19ecf01d2a1"
      },
      "execution_count": 14,
      "outputs": [
        {
          "output_type": "execute_result",
          "data": {
            "text/plain": [
              "   id nome_poco  fase tipo_poco    lda diametro_fase  metragem  nfases  \\\n",
              "0   0    6C5G4M     1  VERTICAL  598.0            26     607.0       4   \n",
              "1   1    6C5G4M     2  VERTICAL  598.0        17 1/2    1306.0       4   \n",
              "2   2    6C5G4M     3  VERTICAL  598.0        12 1/4    1201.0       4   \n",
              "3   3    6C5G4M     4  VERTICAL  598.0         8 1/2    1445.0       4   \n",
              "4   4    8030JC     1  VERTICAL    0.0        17 1/2     410.0       3   \n",
              "\n",
              "   diametro_inteiro diametro_decimal_texto diametro_decimal1 diametro_decimal2  \n",
              "0              26.0                   None              None              None  \n",
              "1              17.0                    1/2                 1                 2  \n",
              "2              12.0                    1/4                 1                 4  \n",
              "3               8.0                    1/2                 1                 2  \n",
              "4              17.0                    1/2                 1                 2  "
            ],
            "text/html": [
              "\n",
              "  <div id=\"df-51be4d2b-5252-41ca-9261-8df5b304d666\">\n",
              "    <div class=\"colab-df-container\">\n",
              "      <div>\n",
              "<style scoped>\n",
              "    .dataframe tbody tr th:only-of-type {\n",
              "        vertical-align: middle;\n",
              "    }\n",
              "\n",
              "    .dataframe tbody tr th {\n",
              "        vertical-align: top;\n",
              "    }\n",
              "\n",
              "    .dataframe thead th {\n",
              "        text-align: right;\n",
              "    }\n",
              "</style>\n",
              "<table border=\"1\" class=\"dataframe\">\n",
              "  <thead>\n",
              "    <tr style=\"text-align: right;\">\n",
              "      <th></th>\n",
              "      <th>id</th>\n",
              "      <th>nome_poco</th>\n",
              "      <th>fase</th>\n",
              "      <th>tipo_poco</th>\n",
              "      <th>lda</th>\n",
              "      <th>diametro_fase</th>\n",
              "      <th>metragem</th>\n",
              "      <th>nfases</th>\n",
              "      <th>diametro_inteiro</th>\n",
              "      <th>diametro_decimal_texto</th>\n",
              "      <th>diametro_decimal1</th>\n",
              "      <th>diametro_decimal2</th>\n",
              "    </tr>\n",
              "  </thead>\n",
              "  <tbody>\n",
              "    <tr>\n",
              "      <th>0</th>\n",
              "      <td>0</td>\n",
              "      <td>6C5G4M</td>\n",
              "      <td>1</td>\n",
              "      <td>VERTICAL</td>\n",
              "      <td>598.0</td>\n",
              "      <td>26</td>\n",
              "      <td>607.0</td>\n",
              "      <td>4</td>\n",
              "      <td>26.0</td>\n",
              "      <td>None</td>\n",
              "      <td>None</td>\n",
              "      <td>None</td>\n",
              "    </tr>\n",
              "    <tr>\n",
              "      <th>1</th>\n",
              "      <td>1</td>\n",
              "      <td>6C5G4M</td>\n",
              "      <td>2</td>\n",
              "      <td>VERTICAL</td>\n",
              "      <td>598.0</td>\n",
              "      <td>17 1/2</td>\n",
              "      <td>1306.0</td>\n",
              "      <td>4</td>\n",
              "      <td>17.0</td>\n",
              "      <td>1/2</td>\n",
              "      <td>1</td>\n",
              "      <td>2</td>\n",
              "    </tr>\n",
              "    <tr>\n",
              "      <th>2</th>\n",
              "      <td>2</td>\n",
              "      <td>6C5G4M</td>\n",
              "      <td>3</td>\n",
              "      <td>VERTICAL</td>\n",
              "      <td>598.0</td>\n",
              "      <td>12 1/4</td>\n",
              "      <td>1201.0</td>\n",
              "      <td>4</td>\n",
              "      <td>12.0</td>\n",
              "      <td>1/4</td>\n",
              "      <td>1</td>\n",
              "      <td>4</td>\n",
              "    </tr>\n",
              "    <tr>\n",
              "      <th>3</th>\n",
              "      <td>3</td>\n",
              "      <td>6C5G4M</td>\n",
              "      <td>4</td>\n",
              "      <td>VERTICAL</td>\n",
              "      <td>598.0</td>\n",
              "      <td>8 1/2</td>\n",
              "      <td>1445.0</td>\n",
              "      <td>4</td>\n",
              "      <td>8.0</td>\n",
              "      <td>1/2</td>\n",
              "      <td>1</td>\n",
              "      <td>2</td>\n",
              "    </tr>\n",
              "    <tr>\n",
              "      <th>4</th>\n",
              "      <td>4</td>\n",
              "      <td>8030JC</td>\n",
              "      <td>1</td>\n",
              "      <td>VERTICAL</td>\n",
              "      <td>0.0</td>\n",
              "      <td>17 1/2</td>\n",
              "      <td>410.0</td>\n",
              "      <td>3</td>\n",
              "      <td>17.0</td>\n",
              "      <td>1/2</td>\n",
              "      <td>1</td>\n",
              "      <td>2</td>\n",
              "    </tr>\n",
              "  </tbody>\n",
              "</table>\n",
              "</div>\n",
              "      <button class=\"colab-df-convert\" onclick=\"convertToInteractive('df-51be4d2b-5252-41ca-9261-8df5b304d666')\"\n",
              "              title=\"Convert this dataframe to an interactive table.\"\n",
              "              style=\"display:none;\">\n",
              "        \n",
              "  <svg xmlns=\"http://www.w3.org/2000/svg\" height=\"24px\"viewBox=\"0 0 24 24\"\n",
              "       width=\"24px\">\n",
              "    <path d=\"M0 0h24v24H0V0z\" fill=\"none\"/>\n",
              "    <path d=\"M18.56 5.44l.94 2.06.94-2.06 2.06-.94-2.06-.94-.94-2.06-.94 2.06-2.06.94zm-11 1L8.5 8.5l.94-2.06 2.06-.94-2.06-.94L8.5 2.5l-.94 2.06-2.06.94zm10 10l.94 2.06.94-2.06 2.06-.94-2.06-.94-.94-2.06-.94 2.06-2.06.94z\"/><path d=\"M17.41 7.96l-1.37-1.37c-.4-.4-.92-.59-1.43-.59-.52 0-1.04.2-1.43.59L10.3 9.45l-7.72 7.72c-.78.78-.78 2.05 0 2.83L4 21.41c.39.39.9.59 1.41.59.51 0 1.02-.2 1.41-.59l7.78-7.78 2.81-2.81c.8-.78.8-2.07 0-2.86zM5.41 20L4 18.59l7.72-7.72 1.47 1.35L5.41 20z\"/>\n",
              "  </svg>\n",
              "      </button>\n",
              "      \n",
              "  <style>\n",
              "    .colab-df-container {\n",
              "      display:flex;\n",
              "      flex-wrap:wrap;\n",
              "      gap: 12px;\n",
              "    }\n",
              "\n",
              "    .colab-df-convert {\n",
              "      background-color: #E8F0FE;\n",
              "      border: none;\n",
              "      border-radius: 50%;\n",
              "      cursor: pointer;\n",
              "      display: none;\n",
              "      fill: #1967D2;\n",
              "      height: 32px;\n",
              "      padding: 0 0 0 0;\n",
              "      width: 32px;\n",
              "    }\n",
              "\n",
              "    .colab-df-convert:hover {\n",
              "      background-color: #E2EBFA;\n",
              "      box-shadow: 0px 1px 2px rgba(60, 64, 67, 0.3), 0px 1px 3px 1px rgba(60, 64, 67, 0.15);\n",
              "      fill: #174EA6;\n",
              "    }\n",
              "\n",
              "    [theme=dark] .colab-df-convert {\n",
              "      background-color: #3B4455;\n",
              "      fill: #D2E3FC;\n",
              "    }\n",
              "\n",
              "    [theme=dark] .colab-df-convert:hover {\n",
              "      background-color: #434B5C;\n",
              "      box-shadow: 0px 1px 3px 1px rgba(0, 0, 0, 0.15);\n",
              "      filter: drop-shadow(0px 1px 2px rgba(0, 0, 0, 0.3));\n",
              "      fill: #FFFFFF;\n",
              "    }\n",
              "  </style>\n",
              "\n",
              "      <script>\n",
              "        const buttonEl =\n",
              "          document.querySelector('#df-51be4d2b-5252-41ca-9261-8df5b304d666 button.colab-df-convert');\n",
              "        buttonEl.style.display =\n",
              "          google.colab.kernel.accessAllowed ? 'block' : 'none';\n",
              "\n",
              "        async function convertToInteractive(key) {\n",
              "          const element = document.querySelector('#df-51be4d2b-5252-41ca-9261-8df5b304d666');\n",
              "          const dataTable =\n",
              "            await google.colab.kernel.invokeFunction('convertToInteractive',\n",
              "                                                     [key], {});\n",
              "          if (!dataTable) return;\n",
              "\n",
              "          const docLinkHtml = 'Like what you see? Visit the ' +\n",
              "            '<a target=\"_blank\" href=https://colab.research.google.com/notebooks/data_table.ipynb>data table notebook</a>'\n",
              "            + ' to learn more about interactive tables.';\n",
              "          element.innerHTML = '';\n",
              "          dataTable['output_type'] = 'display_data';\n",
              "          await google.colab.output.renderOutput(dataTable, element);\n",
              "          const docLink = document.createElement('div');\n",
              "          docLink.innerHTML = docLinkHtml;\n",
              "          element.appendChild(docLink);\n",
              "        }\n",
              "      </script>\n",
              "    </div>\n",
              "  </div>\n",
              "  "
            ]
          },
          "metadata": {},
          "execution_count": 14
        }
      ]
    },
    {
      "cell_type": "markdown",
      "source": [
        "**Transformação das partes decimais de object para float.**"
      ],
      "metadata": {
        "id": "4IYZT_zMlT-J"
      }
    },
    {
      "cell_type": "code",
      "source": [
        "dados2['diametro_decimal1'] = dados2['diametro_decimal1'].astype(float)\n",
        "dados2['diametro_decimal2'] = dados2['diametro_decimal2'].astype(float)"
      ],
      "metadata": {
        "id": "K6kANgUQFheA"
      },
      "execution_count": 15,
      "outputs": []
    },
    {
      "cell_type": "markdown",
      "source": [
        "**Criação da coluna \"diametro_decimal_total\".**"
      ],
      "metadata": {
        "id": "zXBoDANtld_n"
      }
    },
    {
      "cell_type": "code",
      "source": [
        "dados2['diametro_decimal_total'] = dados2['diametro_decimal1']/dados2['diametro_decimal2']"
      ],
      "metadata": {
        "id": "XBFu1XkRGDQm"
      },
      "execution_count": 16,
      "outputs": []
    },
    {
      "cell_type": "code",
      "source": [
        "dados2.head()"
      ],
      "metadata": {
        "colab": {
          "base_uri": "https://localhost:8080/",
          "height": 270
        },
        "id": "eDO3237LGT21",
        "outputId": "99ef4594-3339-4f2c-aa2c-2733a6ee5363"
      },
      "execution_count": 17,
      "outputs": [
        {
          "output_type": "execute_result",
          "data": {
            "text/plain": [
              "   id nome_poco  fase tipo_poco    lda diametro_fase  metragem  nfases  \\\n",
              "0   0    6C5G4M     1  VERTICAL  598.0            26     607.0       4   \n",
              "1   1    6C5G4M     2  VERTICAL  598.0        17 1/2    1306.0       4   \n",
              "2   2    6C5G4M     3  VERTICAL  598.0        12 1/4    1201.0       4   \n",
              "3   3    6C5G4M     4  VERTICAL  598.0         8 1/2    1445.0       4   \n",
              "4   4    8030JC     1  VERTICAL    0.0        17 1/2     410.0       3   \n",
              "\n",
              "   diametro_inteiro diametro_decimal_texto  diametro_decimal1  \\\n",
              "0              26.0                   None                NaN   \n",
              "1              17.0                    1/2                1.0   \n",
              "2              12.0                    1/4                1.0   \n",
              "3               8.0                    1/2                1.0   \n",
              "4              17.0                    1/2                1.0   \n",
              "\n",
              "   diametro_decimal2  diametro_decimal_total  \n",
              "0                NaN                     NaN  \n",
              "1                2.0                    0.50  \n",
              "2                4.0                    0.25  \n",
              "3                2.0                    0.50  \n",
              "4                2.0                    0.50  "
            ],
            "text/html": [
              "\n",
              "  <div id=\"df-ea418125-0185-4177-9fe5-2925f0dda816\">\n",
              "    <div class=\"colab-df-container\">\n",
              "      <div>\n",
              "<style scoped>\n",
              "    .dataframe tbody tr th:only-of-type {\n",
              "        vertical-align: middle;\n",
              "    }\n",
              "\n",
              "    .dataframe tbody tr th {\n",
              "        vertical-align: top;\n",
              "    }\n",
              "\n",
              "    .dataframe thead th {\n",
              "        text-align: right;\n",
              "    }\n",
              "</style>\n",
              "<table border=\"1\" class=\"dataframe\">\n",
              "  <thead>\n",
              "    <tr style=\"text-align: right;\">\n",
              "      <th></th>\n",
              "      <th>id</th>\n",
              "      <th>nome_poco</th>\n",
              "      <th>fase</th>\n",
              "      <th>tipo_poco</th>\n",
              "      <th>lda</th>\n",
              "      <th>diametro_fase</th>\n",
              "      <th>metragem</th>\n",
              "      <th>nfases</th>\n",
              "      <th>diametro_inteiro</th>\n",
              "      <th>diametro_decimal_texto</th>\n",
              "      <th>diametro_decimal1</th>\n",
              "      <th>diametro_decimal2</th>\n",
              "      <th>diametro_decimal_total</th>\n",
              "    </tr>\n",
              "  </thead>\n",
              "  <tbody>\n",
              "    <tr>\n",
              "      <th>0</th>\n",
              "      <td>0</td>\n",
              "      <td>6C5G4M</td>\n",
              "      <td>1</td>\n",
              "      <td>VERTICAL</td>\n",
              "      <td>598.0</td>\n",
              "      <td>26</td>\n",
              "      <td>607.0</td>\n",
              "      <td>4</td>\n",
              "      <td>26.0</td>\n",
              "      <td>None</td>\n",
              "      <td>NaN</td>\n",
              "      <td>NaN</td>\n",
              "      <td>NaN</td>\n",
              "    </tr>\n",
              "    <tr>\n",
              "      <th>1</th>\n",
              "      <td>1</td>\n",
              "      <td>6C5G4M</td>\n",
              "      <td>2</td>\n",
              "      <td>VERTICAL</td>\n",
              "      <td>598.0</td>\n",
              "      <td>17 1/2</td>\n",
              "      <td>1306.0</td>\n",
              "      <td>4</td>\n",
              "      <td>17.0</td>\n",
              "      <td>1/2</td>\n",
              "      <td>1.0</td>\n",
              "      <td>2.0</td>\n",
              "      <td>0.50</td>\n",
              "    </tr>\n",
              "    <tr>\n",
              "      <th>2</th>\n",
              "      <td>2</td>\n",
              "      <td>6C5G4M</td>\n",
              "      <td>3</td>\n",
              "      <td>VERTICAL</td>\n",
              "      <td>598.0</td>\n",
              "      <td>12 1/4</td>\n",
              "      <td>1201.0</td>\n",
              "      <td>4</td>\n",
              "      <td>12.0</td>\n",
              "      <td>1/4</td>\n",
              "      <td>1.0</td>\n",
              "      <td>4.0</td>\n",
              "      <td>0.25</td>\n",
              "    </tr>\n",
              "    <tr>\n",
              "      <th>3</th>\n",
              "      <td>3</td>\n",
              "      <td>6C5G4M</td>\n",
              "      <td>4</td>\n",
              "      <td>VERTICAL</td>\n",
              "      <td>598.0</td>\n",
              "      <td>8 1/2</td>\n",
              "      <td>1445.0</td>\n",
              "      <td>4</td>\n",
              "      <td>8.0</td>\n",
              "      <td>1/2</td>\n",
              "      <td>1.0</td>\n",
              "      <td>2.0</td>\n",
              "      <td>0.50</td>\n",
              "    </tr>\n",
              "    <tr>\n",
              "      <th>4</th>\n",
              "      <td>4</td>\n",
              "      <td>8030JC</td>\n",
              "      <td>1</td>\n",
              "      <td>VERTICAL</td>\n",
              "      <td>0.0</td>\n",
              "      <td>17 1/2</td>\n",
              "      <td>410.0</td>\n",
              "      <td>3</td>\n",
              "      <td>17.0</td>\n",
              "      <td>1/2</td>\n",
              "      <td>1.0</td>\n",
              "      <td>2.0</td>\n",
              "      <td>0.50</td>\n",
              "    </tr>\n",
              "  </tbody>\n",
              "</table>\n",
              "</div>\n",
              "      <button class=\"colab-df-convert\" onclick=\"convertToInteractive('df-ea418125-0185-4177-9fe5-2925f0dda816')\"\n",
              "              title=\"Convert this dataframe to an interactive table.\"\n",
              "              style=\"display:none;\">\n",
              "        \n",
              "  <svg xmlns=\"http://www.w3.org/2000/svg\" height=\"24px\"viewBox=\"0 0 24 24\"\n",
              "       width=\"24px\">\n",
              "    <path d=\"M0 0h24v24H0V0z\" fill=\"none\"/>\n",
              "    <path d=\"M18.56 5.44l.94 2.06.94-2.06 2.06-.94-2.06-.94-.94-2.06-.94 2.06-2.06.94zm-11 1L8.5 8.5l.94-2.06 2.06-.94-2.06-.94L8.5 2.5l-.94 2.06-2.06.94zm10 10l.94 2.06.94-2.06 2.06-.94-2.06-.94-.94-2.06-.94 2.06-2.06.94z\"/><path d=\"M17.41 7.96l-1.37-1.37c-.4-.4-.92-.59-1.43-.59-.52 0-1.04.2-1.43.59L10.3 9.45l-7.72 7.72c-.78.78-.78 2.05 0 2.83L4 21.41c.39.39.9.59 1.41.59.51 0 1.02-.2 1.41-.59l7.78-7.78 2.81-2.81c.8-.78.8-2.07 0-2.86zM5.41 20L4 18.59l7.72-7.72 1.47 1.35L5.41 20z\"/>\n",
              "  </svg>\n",
              "      </button>\n",
              "      \n",
              "  <style>\n",
              "    .colab-df-container {\n",
              "      display:flex;\n",
              "      flex-wrap:wrap;\n",
              "      gap: 12px;\n",
              "    }\n",
              "\n",
              "    .colab-df-convert {\n",
              "      background-color: #E8F0FE;\n",
              "      border: none;\n",
              "      border-radius: 50%;\n",
              "      cursor: pointer;\n",
              "      display: none;\n",
              "      fill: #1967D2;\n",
              "      height: 32px;\n",
              "      padding: 0 0 0 0;\n",
              "      width: 32px;\n",
              "    }\n",
              "\n",
              "    .colab-df-convert:hover {\n",
              "      background-color: #E2EBFA;\n",
              "      box-shadow: 0px 1px 2px rgba(60, 64, 67, 0.3), 0px 1px 3px 1px rgba(60, 64, 67, 0.15);\n",
              "      fill: #174EA6;\n",
              "    }\n",
              "\n",
              "    [theme=dark] .colab-df-convert {\n",
              "      background-color: #3B4455;\n",
              "      fill: #D2E3FC;\n",
              "    }\n",
              "\n",
              "    [theme=dark] .colab-df-convert:hover {\n",
              "      background-color: #434B5C;\n",
              "      box-shadow: 0px 1px 3px 1px rgba(0, 0, 0, 0.15);\n",
              "      filter: drop-shadow(0px 1px 2px rgba(0, 0, 0, 0.3));\n",
              "      fill: #FFFFFF;\n",
              "    }\n",
              "  </style>\n",
              "\n",
              "      <script>\n",
              "        const buttonEl =\n",
              "          document.querySelector('#df-ea418125-0185-4177-9fe5-2925f0dda816 button.colab-df-convert');\n",
              "        buttonEl.style.display =\n",
              "          google.colab.kernel.accessAllowed ? 'block' : 'none';\n",
              "\n",
              "        async function convertToInteractive(key) {\n",
              "          const element = document.querySelector('#df-ea418125-0185-4177-9fe5-2925f0dda816');\n",
              "          const dataTable =\n",
              "            await google.colab.kernel.invokeFunction('convertToInteractive',\n",
              "                                                     [key], {});\n",
              "          if (!dataTable) return;\n",
              "\n",
              "          const docLinkHtml = 'Like what you see? Visit the ' +\n",
              "            '<a target=\"_blank\" href=https://colab.research.google.com/notebooks/data_table.ipynb>data table notebook</a>'\n",
              "            + ' to learn more about interactive tables.';\n",
              "          element.innerHTML = '';\n",
              "          dataTable['output_type'] = 'display_data';\n",
              "          await google.colab.output.renderOutput(dataTable, element);\n",
              "          const docLink = document.createElement('div');\n",
              "          docLink.innerHTML = docLinkHtml;\n",
              "          element.appendChild(docLink);\n",
              "        }\n",
              "      </script>\n",
              "    </div>\n",
              "  </div>\n",
              "  "
            ]
          },
          "metadata": {},
          "execution_count": 17
        }
      ]
    },
    {
      "cell_type": "markdown",
      "source": [
        "**A coluna \"diametro_decimal_total\" apresenta alguns valores NAN (Note a number), porque em alguns casos não havia a parte decimal e então vou colocado um valor NAN pela linguagem. Por esse motivo o valor NAN está sendo substituido por zero, caso contrário, quando fosse feita a soma com a parte inteira, a soma resultaria em um valor NAN.**"
      ],
      "metadata": {
        "id": "aWsj36ILlq_P"
      }
    },
    {
      "cell_type": "code",
      "source": [
        "dados2['diametro_decimal_total']=dados2['diametro_decimal_total'].fillna(0)"
      ],
      "metadata": {
        "id": "m-eNGYDgG7ZU"
      },
      "execution_count": 18,
      "outputs": []
    },
    {
      "cell_type": "code",
      "source": [
        "dados2.head()"
      ],
      "metadata": {
        "colab": {
          "base_uri": "https://localhost:8080/",
          "height": 270
        },
        "id": "1QHkun8vHLww",
        "outputId": "689f2e58-31cf-4014-f18d-f62fbe923458"
      },
      "execution_count": 19,
      "outputs": [
        {
          "output_type": "execute_result",
          "data": {
            "text/plain": [
              "   id nome_poco  fase tipo_poco    lda diametro_fase  metragem  nfases  \\\n",
              "0   0    6C5G4M     1  VERTICAL  598.0            26     607.0       4   \n",
              "1   1    6C5G4M     2  VERTICAL  598.0        17 1/2    1306.0       4   \n",
              "2   2    6C5G4M     3  VERTICAL  598.0        12 1/4    1201.0       4   \n",
              "3   3    6C5G4M     4  VERTICAL  598.0         8 1/2    1445.0       4   \n",
              "4   4    8030JC     1  VERTICAL    0.0        17 1/2     410.0       3   \n",
              "\n",
              "   diametro_inteiro diametro_decimal_texto  diametro_decimal1  \\\n",
              "0              26.0                   None                NaN   \n",
              "1              17.0                    1/2                1.0   \n",
              "2              12.0                    1/4                1.0   \n",
              "3               8.0                    1/2                1.0   \n",
              "4              17.0                    1/2                1.0   \n",
              "\n",
              "   diametro_decimal2  diametro_decimal_total  \n",
              "0                NaN                    0.00  \n",
              "1                2.0                    0.50  \n",
              "2                4.0                    0.25  \n",
              "3                2.0                    0.50  \n",
              "4                2.0                    0.50  "
            ],
            "text/html": [
              "\n",
              "  <div id=\"df-7f4ee8a5-c377-4ccb-be39-c0fe4138e6cc\">\n",
              "    <div class=\"colab-df-container\">\n",
              "      <div>\n",
              "<style scoped>\n",
              "    .dataframe tbody tr th:only-of-type {\n",
              "        vertical-align: middle;\n",
              "    }\n",
              "\n",
              "    .dataframe tbody tr th {\n",
              "        vertical-align: top;\n",
              "    }\n",
              "\n",
              "    .dataframe thead th {\n",
              "        text-align: right;\n",
              "    }\n",
              "</style>\n",
              "<table border=\"1\" class=\"dataframe\">\n",
              "  <thead>\n",
              "    <tr style=\"text-align: right;\">\n",
              "      <th></th>\n",
              "      <th>id</th>\n",
              "      <th>nome_poco</th>\n",
              "      <th>fase</th>\n",
              "      <th>tipo_poco</th>\n",
              "      <th>lda</th>\n",
              "      <th>diametro_fase</th>\n",
              "      <th>metragem</th>\n",
              "      <th>nfases</th>\n",
              "      <th>diametro_inteiro</th>\n",
              "      <th>diametro_decimal_texto</th>\n",
              "      <th>diametro_decimal1</th>\n",
              "      <th>diametro_decimal2</th>\n",
              "      <th>diametro_decimal_total</th>\n",
              "    </tr>\n",
              "  </thead>\n",
              "  <tbody>\n",
              "    <tr>\n",
              "      <th>0</th>\n",
              "      <td>0</td>\n",
              "      <td>6C5G4M</td>\n",
              "      <td>1</td>\n",
              "      <td>VERTICAL</td>\n",
              "      <td>598.0</td>\n",
              "      <td>26</td>\n",
              "      <td>607.0</td>\n",
              "      <td>4</td>\n",
              "      <td>26.0</td>\n",
              "      <td>None</td>\n",
              "      <td>NaN</td>\n",
              "      <td>NaN</td>\n",
              "      <td>0.00</td>\n",
              "    </tr>\n",
              "    <tr>\n",
              "      <th>1</th>\n",
              "      <td>1</td>\n",
              "      <td>6C5G4M</td>\n",
              "      <td>2</td>\n",
              "      <td>VERTICAL</td>\n",
              "      <td>598.0</td>\n",
              "      <td>17 1/2</td>\n",
              "      <td>1306.0</td>\n",
              "      <td>4</td>\n",
              "      <td>17.0</td>\n",
              "      <td>1/2</td>\n",
              "      <td>1.0</td>\n",
              "      <td>2.0</td>\n",
              "      <td>0.50</td>\n",
              "    </tr>\n",
              "    <tr>\n",
              "      <th>2</th>\n",
              "      <td>2</td>\n",
              "      <td>6C5G4M</td>\n",
              "      <td>3</td>\n",
              "      <td>VERTICAL</td>\n",
              "      <td>598.0</td>\n",
              "      <td>12 1/4</td>\n",
              "      <td>1201.0</td>\n",
              "      <td>4</td>\n",
              "      <td>12.0</td>\n",
              "      <td>1/4</td>\n",
              "      <td>1.0</td>\n",
              "      <td>4.0</td>\n",
              "      <td>0.25</td>\n",
              "    </tr>\n",
              "    <tr>\n",
              "      <th>3</th>\n",
              "      <td>3</td>\n",
              "      <td>6C5G4M</td>\n",
              "      <td>4</td>\n",
              "      <td>VERTICAL</td>\n",
              "      <td>598.0</td>\n",
              "      <td>8 1/2</td>\n",
              "      <td>1445.0</td>\n",
              "      <td>4</td>\n",
              "      <td>8.0</td>\n",
              "      <td>1/2</td>\n",
              "      <td>1.0</td>\n",
              "      <td>2.0</td>\n",
              "      <td>0.50</td>\n",
              "    </tr>\n",
              "    <tr>\n",
              "      <th>4</th>\n",
              "      <td>4</td>\n",
              "      <td>8030JC</td>\n",
              "      <td>1</td>\n",
              "      <td>VERTICAL</td>\n",
              "      <td>0.0</td>\n",
              "      <td>17 1/2</td>\n",
              "      <td>410.0</td>\n",
              "      <td>3</td>\n",
              "      <td>17.0</td>\n",
              "      <td>1/2</td>\n",
              "      <td>1.0</td>\n",
              "      <td>2.0</td>\n",
              "      <td>0.50</td>\n",
              "    </tr>\n",
              "  </tbody>\n",
              "</table>\n",
              "</div>\n",
              "      <button class=\"colab-df-convert\" onclick=\"convertToInteractive('df-7f4ee8a5-c377-4ccb-be39-c0fe4138e6cc')\"\n",
              "              title=\"Convert this dataframe to an interactive table.\"\n",
              "              style=\"display:none;\">\n",
              "        \n",
              "  <svg xmlns=\"http://www.w3.org/2000/svg\" height=\"24px\"viewBox=\"0 0 24 24\"\n",
              "       width=\"24px\">\n",
              "    <path d=\"M0 0h24v24H0V0z\" fill=\"none\"/>\n",
              "    <path d=\"M18.56 5.44l.94 2.06.94-2.06 2.06-.94-2.06-.94-.94-2.06-.94 2.06-2.06.94zm-11 1L8.5 8.5l.94-2.06 2.06-.94-2.06-.94L8.5 2.5l-.94 2.06-2.06.94zm10 10l.94 2.06.94-2.06 2.06-.94-2.06-.94-.94-2.06-.94 2.06-2.06.94z\"/><path d=\"M17.41 7.96l-1.37-1.37c-.4-.4-.92-.59-1.43-.59-.52 0-1.04.2-1.43.59L10.3 9.45l-7.72 7.72c-.78.78-.78 2.05 0 2.83L4 21.41c.39.39.9.59 1.41.59.51 0 1.02-.2 1.41-.59l7.78-7.78 2.81-2.81c.8-.78.8-2.07 0-2.86zM5.41 20L4 18.59l7.72-7.72 1.47 1.35L5.41 20z\"/>\n",
              "  </svg>\n",
              "      </button>\n",
              "      \n",
              "  <style>\n",
              "    .colab-df-container {\n",
              "      display:flex;\n",
              "      flex-wrap:wrap;\n",
              "      gap: 12px;\n",
              "    }\n",
              "\n",
              "    .colab-df-convert {\n",
              "      background-color: #E8F0FE;\n",
              "      border: none;\n",
              "      border-radius: 50%;\n",
              "      cursor: pointer;\n",
              "      display: none;\n",
              "      fill: #1967D2;\n",
              "      height: 32px;\n",
              "      padding: 0 0 0 0;\n",
              "      width: 32px;\n",
              "    }\n",
              "\n",
              "    .colab-df-convert:hover {\n",
              "      background-color: #E2EBFA;\n",
              "      box-shadow: 0px 1px 2px rgba(60, 64, 67, 0.3), 0px 1px 3px 1px rgba(60, 64, 67, 0.15);\n",
              "      fill: #174EA6;\n",
              "    }\n",
              "\n",
              "    [theme=dark] .colab-df-convert {\n",
              "      background-color: #3B4455;\n",
              "      fill: #D2E3FC;\n",
              "    }\n",
              "\n",
              "    [theme=dark] .colab-df-convert:hover {\n",
              "      background-color: #434B5C;\n",
              "      box-shadow: 0px 1px 3px 1px rgba(0, 0, 0, 0.15);\n",
              "      filter: drop-shadow(0px 1px 2px rgba(0, 0, 0, 0.3));\n",
              "      fill: #FFFFFF;\n",
              "    }\n",
              "  </style>\n",
              "\n",
              "      <script>\n",
              "        const buttonEl =\n",
              "          document.querySelector('#df-7f4ee8a5-c377-4ccb-be39-c0fe4138e6cc button.colab-df-convert');\n",
              "        buttonEl.style.display =\n",
              "          google.colab.kernel.accessAllowed ? 'block' : 'none';\n",
              "\n",
              "        async function convertToInteractive(key) {\n",
              "          const element = document.querySelector('#df-7f4ee8a5-c377-4ccb-be39-c0fe4138e6cc');\n",
              "          const dataTable =\n",
              "            await google.colab.kernel.invokeFunction('convertToInteractive',\n",
              "                                                     [key], {});\n",
              "          if (!dataTable) return;\n",
              "\n",
              "          const docLinkHtml = 'Like what you see? Visit the ' +\n",
              "            '<a target=\"_blank\" href=https://colab.research.google.com/notebooks/data_table.ipynb>data table notebook</a>'\n",
              "            + ' to learn more about interactive tables.';\n",
              "          element.innerHTML = '';\n",
              "          dataTable['output_type'] = 'display_data';\n",
              "          await google.colab.output.renderOutput(dataTable, element);\n",
              "          const docLink = document.createElement('div');\n",
              "          docLink.innerHTML = docLinkHtml;\n",
              "          element.appendChild(docLink);\n",
              "        }\n",
              "      </script>\n",
              "    </div>\n",
              "  </div>\n",
              "  "
            ]
          },
          "metadata": {},
          "execution_count": 19
        }
      ]
    },
    {
      "cell_type": "markdown",
      "source": [
        "**Criação da coluna \"dpolegaadastotal\", que contém o diâmetro total em polegadas da fase.**"
      ],
      "metadata": {
        "id": "yhr6m0LAmXsB"
      }
    },
    {
      "cell_type": "code",
      "source": [
        "dados2['dpolegadastotal'] = dados2['diametro_inteiro']+dados2['diametro_decimal_total']"
      ],
      "metadata": {
        "id": "bAKKmj97HV5h"
      },
      "execution_count": 20,
      "outputs": []
    },
    {
      "cell_type": "code",
      "source": [
        "dados2.head()"
      ],
      "metadata": {
        "colab": {
          "base_uri": "https://localhost:8080/",
          "height": 270
        },
        "id": "KpEnXbn0I-Ko",
        "outputId": "d7a705b8-a0d6-4570-c18c-92832d1a7b31"
      },
      "execution_count": 21,
      "outputs": [
        {
          "output_type": "execute_result",
          "data": {
            "text/plain": [
              "   id nome_poco  fase tipo_poco    lda diametro_fase  metragem  nfases  \\\n",
              "0   0    6C5G4M     1  VERTICAL  598.0            26     607.0       4   \n",
              "1   1    6C5G4M     2  VERTICAL  598.0        17 1/2    1306.0       4   \n",
              "2   2    6C5G4M     3  VERTICAL  598.0        12 1/4    1201.0       4   \n",
              "3   3    6C5G4M     4  VERTICAL  598.0         8 1/2    1445.0       4   \n",
              "4   4    8030JC     1  VERTICAL    0.0        17 1/2     410.0       3   \n",
              "\n",
              "   diametro_inteiro diametro_decimal_texto  diametro_decimal1  \\\n",
              "0              26.0                   None                NaN   \n",
              "1              17.0                    1/2                1.0   \n",
              "2              12.0                    1/4                1.0   \n",
              "3               8.0                    1/2                1.0   \n",
              "4              17.0                    1/2                1.0   \n",
              "\n",
              "   diametro_decimal2  diametro_decimal_total  dpolegadastotal  \n",
              "0                NaN                    0.00            26.00  \n",
              "1                2.0                    0.50            17.50  \n",
              "2                4.0                    0.25            12.25  \n",
              "3                2.0                    0.50             8.50  \n",
              "4                2.0                    0.50            17.50  "
            ],
            "text/html": [
              "\n",
              "  <div id=\"df-ca0edd1a-f0dd-4957-87f5-ae9482ba523f\">\n",
              "    <div class=\"colab-df-container\">\n",
              "      <div>\n",
              "<style scoped>\n",
              "    .dataframe tbody tr th:only-of-type {\n",
              "        vertical-align: middle;\n",
              "    }\n",
              "\n",
              "    .dataframe tbody tr th {\n",
              "        vertical-align: top;\n",
              "    }\n",
              "\n",
              "    .dataframe thead th {\n",
              "        text-align: right;\n",
              "    }\n",
              "</style>\n",
              "<table border=\"1\" class=\"dataframe\">\n",
              "  <thead>\n",
              "    <tr style=\"text-align: right;\">\n",
              "      <th></th>\n",
              "      <th>id</th>\n",
              "      <th>nome_poco</th>\n",
              "      <th>fase</th>\n",
              "      <th>tipo_poco</th>\n",
              "      <th>lda</th>\n",
              "      <th>diametro_fase</th>\n",
              "      <th>metragem</th>\n",
              "      <th>nfases</th>\n",
              "      <th>diametro_inteiro</th>\n",
              "      <th>diametro_decimal_texto</th>\n",
              "      <th>diametro_decimal1</th>\n",
              "      <th>diametro_decimal2</th>\n",
              "      <th>diametro_decimal_total</th>\n",
              "      <th>dpolegadastotal</th>\n",
              "    </tr>\n",
              "  </thead>\n",
              "  <tbody>\n",
              "    <tr>\n",
              "      <th>0</th>\n",
              "      <td>0</td>\n",
              "      <td>6C5G4M</td>\n",
              "      <td>1</td>\n",
              "      <td>VERTICAL</td>\n",
              "      <td>598.0</td>\n",
              "      <td>26</td>\n",
              "      <td>607.0</td>\n",
              "      <td>4</td>\n",
              "      <td>26.0</td>\n",
              "      <td>None</td>\n",
              "      <td>NaN</td>\n",
              "      <td>NaN</td>\n",
              "      <td>0.00</td>\n",
              "      <td>26.00</td>\n",
              "    </tr>\n",
              "    <tr>\n",
              "      <th>1</th>\n",
              "      <td>1</td>\n",
              "      <td>6C5G4M</td>\n",
              "      <td>2</td>\n",
              "      <td>VERTICAL</td>\n",
              "      <td>598.0</td>\n",
              "      <td>17 1/2</td>\n",
              "      <td>1306.0</td>\n",
              "      <td>4</td>\n",
              "      <td>17.0</td>\n",
              "      <td>1/2</td>\n",
              "      <td>1.0</td>\n",
              "      <td>2.0</td>\n",
              "      <td>0.50</td>\n",
              "      <td>17.50</td>\n",
              "    </tr>\n",
              "    <tr>\n",
              "      <th>2</th>\n",
              "      <td>2</td>\n",
              "      <td>6C5G4M</td>\n",
              "      <td>3</td>\n",
              "      <td>VERTICAL</td>\n",
              "      <td>598.0</td>\n",
              "      <td>12 1/4</td>\n",
              "      <td>1201.0</td>\n",
              "      <td>4</td>\n",
              "      <td>12.0</td>\n",
              "      <td>1/4</td>\n",
              "      <td>1.0</td>\n",
              "      <td>4.0</td>\n",
              "      <td>0.25</td>\n",
              "      <td>12.25</td>\n",
              "    </tr>\n",
              "    <tr>\n",
              "      <th>3</th>\n",
              "      <td>3</td>\n",
              "      <td>6C5G4M</td>\n",
              "      <td>4</td>\n",
              "      <td>VERTICAL</td>\n",
              "      <td>598.0</td>\n",
              "      <td>8 1/2</td>\n",
              "      <td>1445.0</td>\n",
              "      <td>4</td>\n",
              "      <td>8.0</td>\n",
              "      <td>1/2</td>\n",
              "      <td>1.0</td>\n",
              "      <td>2.0</td>\n",
              "      <td>0.50</td>\n",
              "      <td>8.50</td>\n",
              "    </tr>\n",
              "    <tr>\n",
              "      <th>4</th>\n",
              "      <td>4</td>\n",
              "      <td>8030JC</td>\n",
              "      <td>1</td>\n",
              "      <td>VERTICAL</td>\n",
              "      <td>0.0</td>\n",
              "      <td>17 1/2</td>\n",
              "      <td>410.0</td>\n",
              "      <td>3</td>\n",
              "      <td>17.0</td>\n",
              "      <td>1/2</td>\n",
              "      <td>1.0</td>\n",
              "      <td>2.0</td>\n",
              "      <td>0.50</td>\n",
              "      <td>17.50</td>\n",
              "    </tr>\n",
              "  </tbody>\n",
              "</table>\n",
              "</div>\n",
              "      <button class=\"colab-df-convert\" onclick=\"convertToInteractive('df-ca0edd1a-f0dd-4957-87f5-ae9482ba523f')\"\n",
              "              title=\"Convert this dataframe to an interactive table.\"\n",
              "              style=\"display:none;\">\n",
              "        \n",
              "  <svg xmlns=\"http://www.w3.org/2000/svg\" height=\"24px\"viewBox=\"0 0 24 24\"\n",
              "       width=\"24px\">\n",
              "    <path d=\"M0 0h24v24H0V0z\" fill=\"none\"/>\n",
              "    <path d=\"M18.56 5.44l.94 2.06.94-2.06 2.06-.94-2.06-.94-.94-2.06-.94 2.06-2.06.94zm-11 1L8.5 8.5l.94-2.06 2.06-.94-2.06-.94L8.5 2.5l-.94 2.06-2.06.94zm10 10l.94 2.06.94-2.06 2.06-.94-2.06-.94-.94-2.06-.94 2.06-2.06.94z\"/><path d=\"M17.41 7.96l-1.37-1.37c-.4-.4-.92-.59-1.43-.59-.52 0-1.04.2-1.43.59L10.3 9.45l-7.72 7.72c-.78.78-.78 2.05 0 2.83L4 21.41c.39.39.9.59 1.41.59.51 0 1.02-.2 1.41-.59l7.78-7.78 2.81-2.81c.8-.78.8-2.07 0-2.86zM5.41 20L4 18.59l7.72-7.72 1.47 1.35L5.41 20z\"/>\n",
              "  </svg>\n",
              "      </button>\n",
              "      \n",
              "  <style>\n",
              "    .colab-df-container {\n",
              "      display:flex;\n",
              "      flex-wrap:wrap;\n",
              "      gap: 12px;\n",
              "    }\n",
              "\n",
              "    .colab-df-convert {\n",
              "      background-color: #E8F0FE;\n",
              "      border: none;\n",
              "      border-radius: 50%;\n",
              "      cursor: pointer;\n",
              "      display: none;\n",
              "      fill: #1967D2;\n",
              "      height: 32px;\n",
              "      padding: 0 0 0 0;\n",
              "      width: 32px;\n",
              "    }\n",
              "\n",
              "    .colab-df-convert:hover {\n",
              "      background-color: #E2EBFA;\n",
              "      box-shadow: 0px 1px 2px rgba(60, 64, 67, 0.3), 0px 1px 3px 1px rgba(60, 64, 67, 0.15);\n",
              "      fill: #174EA6;\n",
              "    }\n",
              "\n",
              "    [theme=dark] .colab-df-convert {\n",
              "      background-color: #3B4455;\n",
              "      fill: #D2E3FC;\n",
              "    }\n",
              "\n",
              "    [theme=dark] .colab-df-convert:hover {\n",
              "      background-color: #434B5C;\n",
              "      box-shadow: 0px 1px 3px 1px rgba(0, 0, 0, 0.15);\n",
              "      filter: drop-shadow(0px 1px 2px rgba(0, 0, 0, 0.3));\n",
              "      fill: #FFFFFF;\n",
              "    }\n",
              "  </style>\n",
              "\n",
              "      <script>\n",
              "        const buttonEl =\n",
              "          document.querySelector('#df-ca0edd1a-f0dd-4957-87f5-ae9482ba523f button.colab-df-convert');\n",
              "        buttonEl.style.display =\n",
              "          google.colab.kernel.accessAllowed ? 'block' : 'none';\n",
              "\n",
              "        async function convertToInteractive(key) {\n",
              "          const element = document.querySelector('#df-ca0edd1a-f0dd-4957-87f5-ae9482ba523f');\n",
              "          const dataTable =\n",
              "            await google.colab.kernel.invokeFunction('convertToInteractive',\n",
              "                                                     [key], {});\n",
              "          if (!dataTable) return;\n",
              "\n",
              "          const docLinkHtml = 'Like what you see? Visit the ' +\n",
              "            '<a target=\"_blank\" href=https://colab.research.google.com/notebooks/data_table.ipynb>data table notebook</a>'\n",
              "            + ' to learn more about interactive tables.';\n",
              "          element.innerHTML = '';\n",
              "          dataTable['output_type'] = 'display_data';\n",
              "          await google.colab.output.renderOutput(dataTable, element);\n",
              "          const docLink = document.createElement('div');\n",
              "          docLink.innerHTML = docLinkHtml;\n",
              "          element.appendChild(docLink);\n",
              "        }\n",
              "      </script>\n",
              "    </div>\n",
              "  </div>\n",
              "  "
            ]
          },
          "metadata": {},
          "execution_count": 21
        }
      ]
    },
    {
      "cell_type": "markdown",
      "source": [
        "**O conjunto de dados chamado \"dados_classificadores será usado posteriormente.**"
      ],
      "metadata": {
        "id": "JfLt8LfxqipI"
      }
    },
    {
      "cell_type": "code",
      "source": [
        "dados_classificadores = dados2.copy()"
      ],
      "metadata": {
        "id": "WRObZxxFeGfb"
      },
      "execution_count": 22,
      "outputs": []
    },
    {
      "cell_type": "markdown",
      "source": [
        "**Exclusão de colunas desnecessárias na análise de correlação, que será aplicada.**"
      ],
      "metadata": {
        "id": "sHKUYEdTmoHP"
      }
    },
    {
      "cell_type": "code",
      "source": [
        "dados2.drop(['fase', 'id', 'diametro_fase', 'diametro_inteiro', 'diametro_decimal_texto',  'diametro_decimal1', \n",
        "             'diametro_decimal2', 'diametro_decimal_total'],  axis=1, inplace=True)"
      ],
      "metadata": {
        "id": "xXqpe5kdJU3v"
      },
      "execution_count": 23,
      "outputs": []
    },
    {
      "cell_type": "code",
      "source": [
        "dados2.head()"
      ],
      "metadata": {
        "colab": {
          "base_uri": "https://localhost:8080/",
          "height": 206
        },
        "id": "WxB-lCs4KJ1m",
        "outputId": "ce5d2ada-973a-42fd-b952-6228b63cbb5c"
      },
      "execution_count": 24,
      "outputs": [
        {
          "output_type": "execute_result",
          "data": {
            "text/plain": [
              "  nome_poco tipo_poco    lda  metragem  nfases  dpolegadastotal\n",
              "0    6C5G4M  VERTICAL  598.0     607.0       4            26.00\n",
              "1    6C5G4M  VERTICAL  598.0    1306.0       4            17.50\n",
              "2    6C5G4M  VERTICAL  598.0    1201.0       4            12.25\n",
              "3    6C5G4M  VERTICAL  598.0    1445.0       4             8.50\n",
              "4    8030JC  VERTICAL    0.0     410.0       3            17.50"
            ],
            "text/html": [
              "\n",
              "  <div id=\"df-e647f23c-f317-4f33-96e9-f147c4666688\">\n",
              "    <div class=\"colab-df-container\">\n",
              "      <div>\n",
              "<style scoped>\n",
              "    .dataframe tbody tr th:only-of-type {\n",
              "        vertical-align: middle;\n",
              "    }\n",
              "\n",
              "    .dataframe tbody tr th {\n",
              "        vertical-align: top;\n",
              "    }\n",
              "\n",
              "    .dataframe thead th {\n",
              "        text-align: right;\n",
              "    }\n",
              "</style>\n",
              "<table border=\"1\" class=\"dataframe\">\n",
              "  <thead>\n",
              "    <tr style=\"text-align: right;\">\n",
              "      <th></th>\n",
              "      <th>nome_poco</th>\n",
              "      <th>tipo_poco</th>\n",
              "      <th>lda</th>\n",
              "      <th>metragem</th>\n",
              "      <th>nfases</th>\n",
              "      <th>dpolegadastotal</th>\n",
              "    </tr>\n",
              "  </thead>\n",
              "  <tbody>\n",
              "    <tr>\n",
              "      <th>0</th>\n",
              "      <td>6C5G4M</td>\n",
              "      <td>VERTICAL</td>\n",
              "      <td>598.0</td>\n",
              "      <td>607.0</td>\n",
              "      <td>4</td>\n",
              "      <td>26.00</td>\n",
              "    </tr>\n",
              "    <tr>\n",
              "      <th>1</th>\n",
              "      <td>6C5G4M</td>\n",
              "      <td>VERTICAL</td>\n",
              "      <td>598.0</td>\n",
              "      <td>1306.0</td>\n",
              "      <td>4</td>\n",
              "      <td>17.50</td>\n",
              "    </tr>\n",
              "    <tr>\n",
              "      <th>2</th>\n",
              "      <td>6C5G4M</td>\n",
              "      <td>VERTICAL</td>\n",
              "      <td>598.0</td>\n",
              "      <td>1201.0</td>\n",
              "      <td>4</td>\n",
              "      <td>12.25</td>\n",
              "    </tr>\n",
              "    <tr>\n",
              "      <th>3</th>\n",
              "      <td>6C5G4M</td>\n",
              "      <td>VERTICAL</td>\n",
              "      <td>598.0</td>\n",
              "      <td>1445.0</td>\n",
              "      <td>4</td>\n",
              "      <td>8.50</td>\n",
              "    </tr>\n",
              "    <tr>\n",
              "      <th>4</th>\n",
              "      <td>8030JC</td>\n",
              "      <td>VERTICAL</td>\n",
              "      <td>0.0</td>\n",
              "      <td>410.0</td>\n",
              "      <td>3</td>\n",
              "      <td>17.50</td>\n",
              "    </tr>\n",
              "  </tbody>\n",
              "</table>\n",
              "</div>\n",
              "      <button class=\"colab-df-convert\" onclick=\"convertToInteractive('df-e647f23c-f317-4f33-96e9-f147c4666688')\"\n",
              "              title=\"Convert this dataframe to an interactive table.\"\n",
              "              style=\"display:none;\">\n",
              "        \n",
              "  <svg xmlns=\"http://www.w3.org/2000/svg\" height=\"24px\"viewBox=\"0 0 24 24\"\n",
              "       width=\"24px\">\n",
              "    <path d=\"M0 0h24v24H0V0z\" fill=\"none\"/>\n",
              "    <path d=\"M18.56 5.44l.94 2.06.94-2.06 2.06-.94-2.06-.94-.94-2.06-.94 2.06-2.06.94zm-11 1L8.5 8.5l.94-2.06 2.06-.94-2.06-.94L8.5 2.5l-.94 2.06-2.06.94zm10 10l.94 2.06.94-2.06 2.06-.94-2.06-.94-.94-2.06-.94 2.06-2.06.94z\"/><path d=\"M17.41 7.96l-1.37-1.37c-.4-.4-.92-.59-1.43-.59-.52 0-1.04.2-1.43.59L10.3 9.45l-7.72 7.72c-.78.78-.78 2.05 0 2.83L4 21.41c.39.39.9.59 1.41.59.51 0 1.02-.2 1.41-.59l7.78-7.78 2.81-2.81c.8-.78.8-2.07 0-2.86zM5.41 20L4 18.59l7.72-7.72 1.47 1.35L5.41 20z\"/>\n",
              "  </svg>\n",
              "      </button>\n",
              "      \n",
              "  <style>\n",
              "    .colab-df-container {\n",
              "      display:flex;\n",
              "      flex-wrap:wrap;\n",
              "      gap: 12px;\n",
              "    }\n",
              "\n",
              "    .colab-df-convert {\n",
              "      background-color: #E8F0FE;\n",
              "      border: none;\n",
              "      border-radius: 50%;\n",
              "      cursor: pointer;\n",
              "      display: none;\n",
              "      fill: #1967D2;\n",
              "      height: 32px;\n",
              "      padding: 0 0 0 0;\n",
              "      width: 32px;\n",
              "    }\n",
              "\n",
              "    .colab-df-convert:hover {\n",
              "      background-color: #E2EBFA;\n",
              "      box-shadow: 0px 1px 2px rgba(60, 64, 67, 0.3), 0px 1px 3px 1px rgba(60, 64, 67, 0.15);\n",
              "      fill: #174EA6;\n",
              "    }\n",
              "\n",
              "    [theme=dark] .colab-df-convert {\n",
              "      background-color: #3B4455;\n",
              "      fill: #D2E3FC;\n",
              "    }\n",
              "\n",
              "    [theme=dark] .colab-df-convert:hover {\n",
              "      background-color: #434B5C;\n",
              "      box-shadow: 0px 1px 3px 1px rgba(0, 0, 0, 0.15);\n",
              "      filter: drop-shadow(0px 1px 2px rgba(0, 0, 0, 0.3));\n",
              "      fill: #FFFFFF;\n",
              "    }\n",
              "  </style>\n",
              "\n",
              "      <script>\n",
              "        const buttonEl =\n",
              "          document.querySelector('#df-e647f23c-f317-4f33-96e9-f147c4666688 button.colab-df-convert');\n",
              "        buttonEl.style.display =\n",
              "          google.colab.kernel.accessAllowed ? 'block' : 'none';\n",
              "\n",
              "        async function convertToInteractive(key) {\n",
              "          const element = document.querySelector('#df-e647f23c-f317-4f33-96e9-f147c4666688');\n",
              "          const dataTable =\n",
              "            await google.colab.kernel.invokeFunction('convertToInteractive',\n",
              "                                                     [key], {});\n",
              "          if (!dataTable) return;\n",
              "\n",
              "          const docLinkHtml = 'Like what you see? Visit the ' +\n",
              "            '<a target=\"_blank\" href=https://colab.research.google.com/notebooks/data_table.ipynb>data table notebook</a>'\n",
              "            + ' to learn more about interactive tables.';\n",
              "          element.innerHTML = '';\n",
              "          dataTable['output_type'] = 'display_data';\n",
              "          await google.colab.output.renderOutput(dataTable, element);\n",
              "          const docLink = document.createElement('div');\n",
              "          docLink.innerHTML = docLinkHtml;\n",
              "          element.appendChild(docLink);\n",
              "        }\n",
              "      </script>\n",
              "    </div>\n",
              "  </div>\n",
              "  "
            ]
          },
          "metadata": {},
          "execution_count": 24
        }
      ]
    },
    {
      "cell_type": "markdown",
      "source": [
        "**Exclusão das linhas com o tipo do poço zerado. Algumas possibilidades poderiam ser feitas, como trocar o \"0\" por poços em maior quantidade, que é o caso do poço vertical, ou poderia ser perguntado ao setor de onde veio os dados se esta inclusão de zeros trata-se de um erro humano, ou o banco de dados foi corrompido, ou não se sabia o tipo do poço e por isso foi colocado zero, dentre outras possibilidades, mas neste caso preferiu-se excluir as linhas zeradas.**"
      ],
      "metadata": {
        "id": "jcjj39Pum98b"
      }
    },
    {
      "cell_type": "code",
      "source": [
        "indexzeros = dados2[dados2['tipo_poco'] == '0'].index"
      ],
      "metadata": {
        "id": "eOLuVJja6ju7"
      },
      "execution_count": 25,
      "outputs": []
    },
    {
      "cell_type": "code",
      "source": [
        "dados2.drop(indexzeros , inplace=True)"
      ],
      "metadata": {
        "id": "dU8VxMM47exG"
      },
      "execution_count": 26,
      "outputs": []
    },
    {
      "cell_type": "code",
      "source": [
        "dados2['tipo_poco'].value_counts()"
      ],
      "metadata": {
        "colab": {
          "base_uri": "https://localhost:8080/"
        },
        "id": "DKbJDbkS7lar",
        "outputId": "3be0f96e-06c7-42e6-a830-4086202dd885"
      },
      "execution_count": 27,
      "outputs": [
        {
          "output_type": "execute_result",
          "data": {
            "text/plain": [
              "VERTICAL      4971\n",
              "DIRECIONAL    3812\n",
              "HORIZONTAL    1715\n",
              "Name: tipo_poco, dtype: int64"
            ]
          },
          "metadata": {},
          "execution_count": 27
        }
      ]
    },
    {
      "cell_type": "markdown",
      "source": [
        "**Com a exclusão das linhas zeradas da coluna \"tipo_poco\", o índice precisa ser resetado para ficar em ordem normal, pois os índices das linhas com zeros foram excluídos.**"
      ],
      "metadata": {
        "id": "sO5FUumAuAPP"
      }
    },
    {
      "cell_type": "code",
      "source": [
        "dados2.reset_index(drop=True, inplace=True)"
      ],
      "metadata": {
        "id": "L5uGenp_78sP"
      },
      "execution_count": 28,
      "outputs": []
    },
    {
      "cell_type": "code",
      "source": [
        "dados2.head()"
      ],
      "metadata": {
        "colab": {
          "base_uri": "https://localhost:8080/",
          "height": 206
        },
        "id": "WmsNXHnE7pGB",
        "outputId": "16dc512f-2328-49ce-8d4f-1f6b43384e55"
      },
      "execution_count": 29,
      "outputs": [
        {
          "output_type": "execute_result",
          "data": {
            "text/plain": [
              "  nome_poco tipo_poco    lda  metragem  nfases  dpolegadastotal\n",
              "0    6C5G4M  VERTICAL  598.0     607.0       4            26.00\n",
              "1    6C5G4M  VERTICAL  598.0    1306.0       4            17.50\n",
              "2    6C5G4M  VERTICAL  598.0    1201.0       4            12.25\n",
              "3    6C5G4M  VERTICAL  598.0    1445.0       4             8.50\n",
              "4    8030JC  VERTICAL    0.0     410.0       3            17.50"
            ],
            "text/html": [
              "\n",
              "  <div id=\"df-26e6ff15-74d6-4f68-b568-995ebdf54737\">\n",
              "    <div class=\"colab-df-container\">\n",
              "      <div>\n",
              "<style scoped>\n",
              "    .dataframe tbody tr th:only-of-type {\n",
              "        vertical-align: middle;\n",
              "    }\n",
              "\n",
              "    .dataframe tbody tr th {\n",
              "        vertical-align: top;\n",
              "    }\n",
              "\n",
              "    .dataframe thead th {\n",
              "        text-align: right;\n",
              "    }\n",
              "</style>\n",
              "<table border=\"1\" class=\"dataframe\">\n",
              "  <thead>\n",
              "    <tr style=\"text-align: right;\">\n",
              "      <th></th>\n",
              "      <th>nome_poco</th>\n",
              "      <th>tipo_poco</th>\n",
              "      <th>lda</th>\n",
              "      <th>metragem</th>\n",
              "      <th>nfases</th>\n",
              "      <th>dpolegadastotal</th>\n",
              "    </tr>\n",
              "  </thead>\n",
              "  <tbody>\n",
              "    <tr>\n",
              "      <th>0</th>\n",
              "      <td>6C5G4M</td>\n",
              "      <td>VERTICAL</td>\n",
              "      <td>598.0</td>\n",
              "      <td>607.0</td>\n",
              "      <td>4</td>\n",
              "      <td>26.00</td>\n",
              "    </tr>\n",
              "    <tr>\n",
              "      <th>1</th>\n",
              "      <td>6C5G4M</td>\n",
              "      <td>VERTICAL</td>\n",
              "      <td>598.0</td>\n",
              "      <td>1306.0</td>\n",
              "      <td>4</td>\n",
              "      <td>17.50</td>\n",
              "    </tr>\n",
              "    <tr>\n",
              "      <th>2</th>\n",
              "      <td>6C5G4M</td>\n",
              "      <td>VERTICAL</td>\n",
              "      <td>598.0</td>\n",
              "      <td>1201.0</td>\n",
              "      <td>4</td>\n",
              "      <td>12.25</td>\n",
              "    </tr>\n",
              "    <tr>\n",
              "      <th>3</th>\n",
              "      <td>6C5G4M</td>\n",
              "      <td>VERTICAL</td>\n",
              "      <td>598.0</td>\n",
              "      <td>1445.0</td>\n",
              "      <td>4</td>\n",
              "      <td>8.50</td>\n",
              "    </tr>\n",
              "    <tr>\n",
              "      <th>4</th>\n",
              "      <td>8030JC</td>\n",
              "      <td>VERTICAL</td>\n",
              "      <td>0.0</td>\n",
              "      <td>410.0</td>\n",
              "      <td>3</td>\n",
              "      <td>17.50</td>\n",
              "    </tr>\n",
              "  </tbody>\n",
              "</table>\n",
              "</div>\n",
              "      <button class=\"colab-df-convert\" onclick=\"convertToInteractive('df-26e6ff15-74d6-4f68-b568-995ebdf54737')\"\n",
              "              title=\"Convert this dataframe to an interactive table.\"\n",
              "              style=\"display:none;\">\n",
              "        \n",
              "  <svg xmlns=\"http://www.w3.org/2000/svg\" height=\"24px\"viewBox=\"0 0 24 24\"\n",
              "       width=\"24px\">\n",
              "    <path d=\"M0 0h24v24H0V0z\" fill=\"none\"/>\n",
              "    <path d=\"M18.56 5.44l.94 2.06.94-2.06 2.06-.94-2.06-.94-.94-2.06-.94 2.06-2.06.94zm-11 1L8.5 8.5l.94-2.06 2.06-.94-2.06-.94L8.5 2.5l-.94 2.06-2.06.94zm10 10l.94 2.06.94-2.06 2.06-.94-2.06-.94-.94-2.06-.94 2.06-2.06.94z\"/><path d=\"M17.41 7.96l-1.37-1.37c-.4-.4-.92-.59-1.43-.59-.52 0-1.04.2-1.43.59L10.3 9.45l-7.72 7.72c-.78.78-.78 2.05 0 2.83L4 21.41c.39.39.9.59 1.41.59.51 0 1.02-.2 1.41-.59l7.78-7.78 2.81-2.81c.8-.78.8-2.07 0-2.86zM5.41 20L4 18.59l7.72-7.72 1.47 1.35L5.41 20z\"/>\n",
              "  </svg>\n",
              "      </button>\n",
              "      \n",
              "  <style>\n",
              "    .colab-df-container {\n",
              "      display:flex;\n",
              "      flex-wrap:wrap;\n",
              "      gap: 12px;\n",
              "    }\n",
              "\n",
              "    .colab-df-convert {\n",
              "      background-color: #E8F0FE;\n",
              "      border: none;\n",
              "      border-radius: 50%;\n",
              "      cursor: pointer;\n",
              "      display: none;\n",
              "      fill: #1967D2;\n",
              "      height: 32px;\n",
              "      padding: 0 0 0 0;\n",
              "      width: 32px;\n",
              "    }\n",
              "\n",
              "    .colab-df-convert:hover {\n",
              "      background-color: #E2EBFA;\n",
              "      box-shadow: 0px 1px 2px rgba(60, 64, 67, 0.3), 0px 1px 3px 1px rgba(60, 64, 67, 0.15);\n",
              "      fill: #174EA6;\n",
              "    }\n",
              "\n",
              "    [theme=dark] .colab-df-convert {\n",
              "      background-color: #3B4455;\n",
              "      fill: #D2E3FC;\n",
              "    }\n",
              "\n",
              "    [theme=dark] .colab-df-convert:hover {\n",
              "      background-color: #434B5C;\n",
              "      box-shadow: 0px 1px 3px 1px rgba(0, 0, 0, 0.15);\n",
              "      filter: drop-shadow(0px 1px 2px rgba(0, 0, 0, 0.3));\n",
              "      fill: #FFFFFF;\n",
              "    }\n",
              "  </style>\n",
              "\n",
              "      <script>\n",
              "        const buttonEl =\n",
              "          document.querySelector('#df-26e6ff15-74d6-4f68-b568-995ebdf54737 button.colab-df-convert');\n",
              "        buttonEl.style.display =\n",
              "          google.colab.kernel.accessAllowed ? 'block' : 'none';\n",
              "\n",
              "        async function convertToInteractive(key) {\n",
              "          const element = document.querySelector('#df-26e6ff15-74d6-4f68-b568-995ebdf54737');\n",
              "          const dataTable =\n",
              "            await google.colab.kernel.invokeFunction('convertToInteractive',\n",
              "                                                     [key], {});\n",
              "          if (!dataTable) return;\n",
              "\n",
              "          const docLinkHtml = 'Like what you see? Visit the ' +\n",
              "            '<a target=\"_blank\" href=https://colab.research.google.com/notebooks/data_table.ipynb>data table notebook</a>'\n",
              "            + ' to learn more about interactive tables.';\n",
              "          element.innerHTML = '';\n",
              "          dataTable['output_type'] = 'display_data';\n",
              "          await google.colab.output.renderOutput(dataTable, element);\n",
              "          const docLink = document.createElement('div');\n",
              "          docLink.innerHTML = docLinkHtml;\n",
              "          element.appendChild(docLink);\n",
              "        }\n",
              "      </script>\n",
              "    </div>\n",
              "  </div>\n",
              "  "
            ]
          },
          "metadata": {},
          "execution_count": 29
        }
      ]
    },
    {
      "cell_type": "markdown",
      "source": [
        "**Conferindo o shape do dataset pode-se perceber que 151 linhas foram deletadas.**"
      ],
      "metadata": {
        "id": "eiPKtFZDuqG2"
      }
    },
    {
      "cell_type": "code",
      "source": [
        "dados2.shape"
      ],
      "metadata": {
        "colab": {
          "base_uri": "https://localhost:8080/"
        },
        "id": "Vc5ACZRn7_QX",
        "outputId": "7465112e-9d6d-4037-bf65-c41db9fc7e79"
      },
      "execution_count": 30,
      "outputs": [
        {
          "output_type": "execute_result",
          "data": {
            "text/plain": [
              "(10498, 6)"
            ]
          },
          "metadata": {},
          "execution_count": 30
        }
      ]
    },
    {
      "cell_type": "markdown",
      "source": [
        "### **Aplicação do classificador de máxima correlação (usando a distância cosseno).**"
      ],
      "metadata": {
        "id": "rcOoB_03Wjr_"
      }
    },
    {
      "cell_type": "markdown",
      "source": [
        "**Para a aplicação do primeiro algoritmo que será criado, visando encontrar os 4 poços mais correlacionados com o poço a ser dado como entreda (os atributos do poço), os dados serão agrupados pelo nome do poço e pelo número de fases, neste caso daria o mesmo que agrupar só pelo nome do poço, está sendo feita a média das colunas para a aplicação da similaridade por cosseno (medida de similaridade). A similaridade por cosseno é uma medida da similareda de entre dois vetores num espaço vetorial que avalia o valor do cosseno do ângulo compreendido entre eles. Esta função trigonométrica proporciona um valor igual a 1 se o ângulo compreendido é zero, isto é se ambos vetores apontam a um mesmo lugar. Para esse algoritmo a coluna fase também foi excluída, pois decidiu-se não fazer a média das fases e sim deixar a coluna com o número total de fases \"nfases\" no cálculo das 4 maiores correlações. Serão usados os atributos \"nfases\",\t\"lda\",\t\"metragem\" e\t\"dpolegadastotal\" no cálculo das similaridades.**"
      ],
      "metadata": {
        "id": "1OG7fVWauz7v"
      }
    },
    {
      "cell_type": "code",
      "source": [
        "dados3 = dados2.groupby(['nome_poco', 'nfases']).mean().reset_index()\n",
        "dados3.head()"
      ],
      "metadata": {
        "colab": {
          "base_uri": "https://localhost:8080/",
          "height": 206
        },
        "id": "-LOiEzXj9cm1",
        "outputId": "e0f9eaf6-e0a3-491e-ed05-ed3d315a771c"
      },
      "execution_count": 31,
      "outputs": [
        {
          "output_type": "execute_result",
          "data": {
            "text/plain": [
              "  nome_poco  nfases     lda  metragem  dpolegadastotal\n",
              "0    001L7P       6  2140.0     654.5           18.750\n",
              "1    004E6L       1  1034.0    1983.0           12.250\n",
              "2    0056I8       2  1195.0     559.0           26.750\n",
              "3    0089FG       2  1723.0     920.5           16.125\n",
              "4    00DL2O       1  1315.0    1078.0            8.500"
            ],
            "text/html": [
              "\n",
              "  <div id=\"df-ed396834-a80e-41a1-a95e-d33f151f2e6b\">\n",
              "    <div class=\"colab-df-container\">\n",
              "      <div>\n",
              "<style scoped>\n",
              "    .dataframe tbody tr th:only-of-type {\n",
              "        vertical-align: middle;\n",
              "    }\n",
              "\n",
              "    .dataframe tbody tr th {\n",
              "        vertical-align: top;\n",
              "    }\n",
              "\n",
              "    .dataframe thead th {\n",
              "        text-align: right;\n",
              "    }\n",
              "</style>\n",
              "<table border=\"1\" class=\"dataframe\">\n",
              "  <thead>\n",
              "    <tr style=\"text-align: right;\">\n",
              "      <th></th>\n",
              "      <th>nome_poco</th>\n",
              "      <th>nfases</th>\n",
              "      <th>lda</th>\n",
              "      <th>metragem</th>\n",
              "      <th>dpolegadastotal</th>\n",
              "    </tr>\n",
              "  </thead>\n",
              "  <tbody>\n",
              "    <tr>\n",
              "      <th>0</th>\n",
              "      <td>001L7P</td>\n",
              "      <td>6</td>\n",
              "      <td>2140.0</td>\n",
              "      <td>654.5</td>\n",
              "      <td>18.750</td>\n",
              "    </tr>\n",
              "    <tr>\n",
              "      <th>1</th>\n",
              "      <td>004E6L</td>\n",
              "      <td>1</td>\n",
              "      <td>1034.0</td>\n",
              "      <td>1983.0</td>\n",
              "      <td>12.250</td>\n",
              "    </tr>\n",
              "    <tr>\n",
              "      <th>2</th>\n",
              "      <td>0056I8</td>\n",
              "      <td>2</td>\n",
              "      <td>1195.0</td>\n",
              "      <td>559.0</td>\n",
              "      <td>26.750</td>\n",
              "    </tr>\n",
              "    <tr>\n",
              "      <th>3</th>\n",
              "      <td>0089FG</td>\n",
              "      <td>2</td>\n",
              "      <td>1723.0</td>\n",
              "      <td>920.5</td>\n",
              "      <td>16.125</td>\n",
              "    </tr>\n",
              "    <tr>\n",
              "      <th>4</th>\n",
              "      <td>00DL2O</td>\n",
              "      <td>1</td>\n",
              "      <td>1315.0</td>\n",
              "      <td>1078.0</td>\n",
              "      <td>8.500</td>\n",
              "    </tr>\n",
              "  </tbody>\n",
              "</table>\n",
              "</div>\n",
              "      <button class=\"colab-df-convert\" onclick=\"convertToInteractive('df-ed396834-a80e-41a1-a95e-d33f151f2e6b')\"\n",
              "              title=\"Convert this dataframe to an interactive table.\"\n",
              "              style=\"display:none;\">\n",
              "        \n",
              "  <svg xmlns=\"http://www.w3.org/2000/svg\" height=\"24px\"viewBox=\"0 0 24 24\"\n",
              "       width=\"24px\">\n",
              "    <path d=\"M0 0h24v24H0V0z\" fill=\"none\"/>\n",
              "    <path d=\"M18.56 5.44l.94 2.06.94-2.06 2.06-.94-2.06-.94-.94-2.06-.94 2.06-2.06.94zm-11 1L8.5 8.5l.94-2.06 2.06-.94-2.06-.94L8.5 2.5l-.94 2.06-2.06.94zm10 10l.94 2.06.94-2.06 2.06-.94-2.06-.94-.94-2.06-.94 2.06-2.06.94z\"/><path d=\"M17.41 7.96l-1.37-1.37c-.4-.4-.92-.59-1.43-.59-.52 0-1.04.2-1.43.59L10.3 9.45l-7.72 7.72c-.78.78-.78 2.05 0 2.83L4 21.41c.39.39.9.59 1.41.59.51 0 1.02-.2 1.41-.59l7.78-7.78 2.81-2.81c.8-.78.8-2.07 0-2.86zM5.41 20L4 18.59l7.72-7.72 1.47 1.35L5.41 20z\"/>\n",
              "  </svg>\n",
              "      </button>\n",
              "      \n",
              "  <style>\n",
              "    .colab-df-container {\n",
              "      display:flex;\n",
              "      flex-wrap:wrap;\n",
              "      gap: 12px;\n",
              "    }\n",
              "\n",
              "    .colab-df-convert {\n",
              "      background-color: #E8F0FE;\n",
              "      border: none;\n",
              "      border-radius: 50%;\n",
              "      cursor: pointer;\n",
              "      display: none;\n",
              "      fill: #1967D2;\n",
              "      height: 32px;\n",
              "      padding: 0 0 0 0;\n",
              "      width: 32px;\n",
              "    }\n",
              "\n",
              "    .colab-df-convert:hover {\n",
              "      background-color: #E2EBFA;\n",
              "      box-shadow: 0px 1px 2px rgba(60, 64, 67, 0.3), 0px 1px 3px 1px rgba(60, 64, 67, 0.15);\n",
              "      fill: #174EA6;\n",
              "    }\n",
              "\n",
              "    [theme=dark] .colab-df-convert {\n",
              "      background-color: #3B4455;\n",
              "      fill: #D2E3FC;\n",
              "    }\n",
              "\n",
              "    [theme=dark] .colab-df-convert:hover {\n",
              "      background-color: #434B5C;\n",
              "      box-shadow: 0px 1px 3px 1px rgba(0, 0, 0, 0.15);\n",
              "      filter: drop-shadow(0px 1px 2px rgba(0, 0, 0, 0.3));\n",
              "      fill: #FFFFFF;\n",
              "    }\n",
              "  </style>\n",
              "\n",
              "      <script>\n",
              "        const buttonEl =\n",
              "          document.querySelector('#df-ed396834-a80e-41a1-a95e-d33f151f2e6b button.colab-df-convert');\n",
              "        buttonEl.style.display =\n",
              "          google.colab.kernel.accessAllowed ? 'block' : 'none';\n",
              "\n",
              "        async function convertToInteractive(key) {\n",
              "          const element = document.querySelector('#df-ed396834-a80e-41a1-a95e-d33f151f2e6b');\n",
              "          const dataTable =\n",
              "            await google.colab.kernel.invokeFunction('convertToInteractive',\n",
              "                                                     [key], {});\n",
              "          if (!dataTable) return;\n",
              "\n",
              "          const docLinkHtml = 'Like what you see? Visit the ' +\n",
              "            '<a target=\"_blank\" href=https://colab.research.google.com/notebooks/data_table.ipynb>data table notebook</a>'\n",
              "            + ' to learn more about interactive tables.';\n",
              "          element.innerHTML = '';\n",
              "          dataTable['output_type'] = 'display_data';\n",
              "          await google.colab.output.renderOutput(dataTable, element);\n",
              "          const docLink = document.createElement('div');\n",
              "          docLink.innerHTML = docLinkHtml;\n",
              "          element.appendChild(docLink);\n",
              "        }\n",
              "      </script>\n",
              "    </div>\n",
              "  </div>\n",
              "  "
            ]
          },
          "metadata": {},
          "execution_count": 31
        }
      ]
    },
    {
      "cell_type": "markdown",
      "source": [
        "**Shape dos dados depois de agrupados pelo nome do poço**"
      ],
      "metadata": {
        "id": "iOkie_4Fw4M2"
      }
    },
    {
      "cell_type": "code",
      "source": [
        "dados3.shape"
      ],
      "metadata": {
        "colab": {
          "base_uri": "https://localhost:8080/"
        },
        "id": "uKE2xH6EKrWD",
        "outputId": "f04d8983-e4a3-466b-e177-6ffc3253d2e2"
      },
      "execution_count": 32,
      "outputs": [
        {
          "output_type": "execute_result",
          "data": {
            "text/plain": [
              "(3120, 5)"
            ]
          },
          "metadata": {},
          "execution_count": 32
        }
      ]
    },
    {
      "cell_type": "markdown",
      "source": [
        "**Através do comando describe foi possível constatar que a coluna \"lda\" também aparesenta valores zerados, pois o valor mínimo da coluna é zero. Na verdade, antes do agrupamento a coluna tinha 125 linhas zeradas, era uma possibilidade fazer a exclusão das linhas, mas preferiu-se manter as linhas, algumas zeradas foram substituídas pela média no agrupamento feito pelo tipo de poço ,pelo nome do poço e pelo número de fases, então a média dos valores de lda zerados foi feita segundo cada poço, por exemplo, um poço com duas fases, sendo uma zerada ficou com a média do valor dividido por dois, ou seja, (valor_existente_do_poço+0)/2. Preferiu-se fazer dessa forma do que excluir as linhas ou substituir o valor zero pela média ou mediana geral. Depois do agrupamento a coluna \"lda\" ainda ficou com 53 linhas zeradas, nessa parte os zeros foram substituídos pela média do valor da coluna, já que média e media estavam muito próximas para essa coluna.**"
      ],
      "metadata": {
        "id": "uDsGkENarDG8"
      }
    },
    {
      "cell_type": "code",
      "source": [
        "dados3['lda'].describe()"
      ],
      "metadata": {
        "colab": {
          "base_uri": "https://localhost:8080/"
        },
        "id": "mHwDPoYMfvmz",
        "outputId": "910608b9-f352-4d28-cfa4-ef6742c17eca"
      },
      "execution_count": 33,
      "outputs": [
        {
          "output_type": "execute_result",
          "data": {
            "text/plain": [
              "count    3120.000000\n",
              "mean     1104.565994\n",
              "std       679.331179\n",
              "min         0.000000\n",
              "25%       551.750000\n",
              "50%      1094.000000\n",
              "75%      1593.000000\n",
              "max      2988.000000\n",
              "Name: lda, dtype: float64"
            ]
          },
          "metadata": {},
          "execution_count": 33
        }
      ]
    },
    {
      "cell_type": "markdown",
      "source": [
        "**Substituição das linhas zeradas de \"lda\" pela média da coluna.**"
      ],
      "metadata": {
        "id": "dWQK1j5QuKsj"
      }
    },
    {
      "cell_type": "code",
      "source": [
        "dados3['lda'][dados3['lda']==0].count()"
      ],
      "metadata": {
        "colab": {
          "base_uri": "https://localhost:8080/"
        },
        "id": "ECXp8NIgfbCx",
        "outputId": "f3dc9916-9928-40f8-aa5e-c286090eb549"
      },
      "execution_count": 34,
      "outputs": [
        {
          "output_type": "execute_result",
          "data": {
            "text/plain": [
              "53"
            ]
          },
          "metadata": {},
          "execution_count": 34
        }
      ]
    },
    {
      "cell_type": "code",
      "source": [
        "dados3['lda'][dados3['lda'] > 0].mean()"
      ],
      "metadata": {
        "colab": {
          "base_uri": "https://localhost:8080/"
        },
        "id": "V612RbVBf-yb",
        "outputId": "5b9b6fb9-b6b4-435d-9f39-ff67ebf466a5"
      },
      "execution_count": 35,
      "outputs": [
        {
          "output_type": "execute_result",
          "data": {
            "text/plain": [
              "1123.6537006847082"
            ]
          },
          "metadata": {},
          "execution_count": 35
        }
      ]
    },
    {
      "cell_type": "code",
      "source": [
        "dados3.loc[dados3['lda'] ==0, 'lda'] = 1123.65370"
      ],
      "metadata": {
        "id": "hRYKnZeKgWly"
      },
      "execution_count": 36,
      "outputs": []
    },
    {
      "cell_type": "code",
      "source": [
        "dados3.loc[dados3['lda'] == 0]"
      ],
      "metadata": {
        "colab": {
          "base_uri": "https://localhost:8080/",
          "height": 49
        },
        "id": "wruwSj-2gfms",
        "outputId": "b26b2b41-3ad4-4108-d04d-ef36c2de4e33"
      },
      "execution_count": 37,
      "outputs": [
        {
          "output_type": "execute_result",
          "data": {
            "text/plain": [
              "Empty DataFrame\n",
              "Columns: [nome_poco, nfases, lda, metragem, dpolegadastotal]\n",
              "Index: []"
            ],
            "text/html": [
              "\n",
              "  <div id=\"df-0dd32d62-bafe-4d9d-9048-a022f97a2122\">\n",
              "    <div class=\"colab-df-container\">\n",
              "      <div>\n",
              "<style scoped>\n",
              "    .dataframe tbody tr th:only-of-type {\n",
              "        vertical-align: middle;\n",
              "    }\n",
              "\n",
              "    .dataframe tbody tr th {\n",
              "        vertical-align: top;\n",
              "    }\n",
              "\n",
              "    .dataframe thead th {\n",
              "        text-align: right;\n",
              "    }\n",
              "</style>\n",
              "<table border=\"1\" class=\"dataframe\">\n",
              "  <thead>\n",
              "    <tr style=\"text-align: right;\">\n",
              "      <th></th>\n",
              "      <th>nome_poco</th>\n",
              "      <th>nfases</th>\n",
              "      <th>lda</th>\n",
              "      <th>metragem</th>\n",
              "      <th>dpolegadastotal</th>\n",
              "    </tr>\n",
              "  </thead>\n",
              "  <tbody>\n",
              "  </tbody>\n",
              "</table>\n",
              "</div>\n",
              "      <button class=\"colab-df-convert\" onclick=\"convertToInteractive('df-0dd32d62-bafe-4d9d-9048-a022f97a2122')\"\n",
              "              title=\"Convert this dataframe to an interactive table.\"\n",
              "              style=\"display:none;\">\n",
              "        \n",
              "  <svg xmlns=\"http://www.w3.org/2000/svg\" height=\"24px\"viewBox=\"0 0 24 24\"\n",
              "       width=\"24px\">\n",
              "    <path d=\"M0 0h24v24H0V0z\" fill=\"none\"/>\n",
              "    <path d=\"M18.56 5.44l.94 2.06.94-2.06 2.06-.94-2.06-.94-.94-2.06-.94 2.06-2.06.94zm-11 1L8.5 8.5l.94-2.06 2.06-.94-2.06-.94L8.5 2.5l-.94 2.06-2.06.94zm10 10l.94 2.06.94-2.06 2.06-.94-2.06-.94-.94-2.06-.94 2.06-2.06.94z\"/><path d=\"M17.41 7.96l-1.37-1.37c-.4-.4-.92-.59-1.43-.59-.52 0-1.04.2-1.43.59L10.3 9.45l-7.72 7.72c-.78.78-.78 2.05 0 2.83L4 21.41c.39.39.9.59 1.41.59.51 0 1.02-.2 1.41-.59l7.78-7.78 2.81-2.81c.8-.78.8-2.07 0-2.86zM5.41 20L4 18.59l7.72-7.72 1.47 1.35L5.41 20z\"/>\n",
              "  </svg>\n",
              "      </button>\n",
              "      \n",
              "  <style>\n",
              "    .colab-df-container {\n",
              "      display:flex;\n",
              "      flex-wrap:wrap;\n",
              "      gap: 12px;\n",
              "    }\n",
              "\n",
              "    .colab-df-convert {\n",
              "      background-color: #E8F0FE;\n",
              "      border: none;\n",
              "      border-radius: 50%;\n",
              "      cursor: pointer;\n",
              "      display: none;\n",
              "      fill: #1967D2;\n",
              "      height: 32px;\n",
              "      padding: 0 0 0 0;\n",
              "      width: 32px;\n",
              "    }\n",
              "\n",
              "    .colab-df-convert:hover {\n",
              "      background-color: #E2EBFA;\n",
              "      box-shadow: 0px 1px 2px rgba(60, 64, 67, 0.3), 0px 1px 3px 1px rgba(60, 64, 67, 0.15);\n",
              "      fill: #174EA6;\n",
              "    }\n",
              "\n",
              "    [theme=dark] .colab-df-convert {\n",
              "      background-color: #3B4455;\n",
              "      fill: #D2E3FC;\n",
              "    }\n",
              "\n",
              "    [theme=dark] .colab-df-convert:hover {\n",
              "      background-color: #434B5C;\n",
              "      box-shadow: 0px 1px 3px 1px rgba(0, 0, 0, 0.15);\n",
              "      filter: drop-shadow(0px 1px 2px rgba(0, 0, 0, 0.3));\n",
              "      fill: #FFFFFF;\n",
              "    }\n",
              "  </style>\n",
              "\n",
              "      <script>\n",
              "        const buttonEl =\n",
              "          document.querySelector('#df-0dd32d62-bafe-4d9d-9048-a022f97a2122 button.colab-df-convert');\n",
              "        buttonEl.style.display =\n",
              "          google.colab.kernel.accessAllowed ? 'block' : 'none';\n",
              "\n",
              "        async function convertToInteractive(key) {\n",
              "          const element = document.querySelector('#df-0dd32d62-bafe-4d9d-9048-a022f97a2122');\n",
              "          const dataTable =\n",
              "            await google.colab.kernel.invokeFunction('convertToInteractive',\n",
              "                                                     [key], {});\n",
              "          if (!dataTable) return;\n",
              "\n",
              "          const docLinkHtml = 'Like what you see? Visit the ' +\n",
              "            '<a target=\"_blank\" href=https://colab.research.google.com/notebooks/data_table.ipynb>data table notebook</a>'\n",
              "            + ' to learn more about interactive tables.';\n",
              "          element.innerHTML = '';\n",
              "          dataTable['output_type'] = 'display_data';\n",
              "          await google.colab.output.renderOutput(dataTable, element);\n",
              "          const docLink = document.createElement('div');\n",
              "          docLink.innerHTML = docLinkHtml;\n",
              "          element.appendChild(docLink);\n",
              "        }\n",
              "      </script>\n",
              "    </div>\n",
              "  </div>\n",
              "  "
            ]
          },
          "metadata": {},
          "execution_count": 37
        }
      ]
    },
    {
      "cell_type": "markdown",
      "source": [
        "**A coluna \"dpolegadastotal\" antes do agrupamento também continha 7 linhas zeradas, da mesma forma preferiu-se não excluir as linhas. Quando foi feito o agrupamento a coluna não teve mais valores zerados.**"
      ],
      "metadata": {
        "id": "XAPhWCAauYXU"
      }
    },
    {
      "cell_type": "code",
      "source": [
        "dados3['dpolegadastotal'][dados3['dpolegadastotal']==0].count()"
      ],
      "metadata": {
        "colab": {
          "base_uri": "https://localhost:8080/"
        },
        "id": "owOFylq1grDk",
        "outputId": "7b4ff679-b0c1-4223-ae9a-92656e634f36"
      },
      "execution_count": 38,
      "outputs": [
        {
          "output_type": "execute_result",
          "data": {
            "text/plain": [
              "0"
            ]
          },
          "metadata": {},
          "execution_count": 38
        }
      ]
    },
    {
      "cell_type": "markdown",
      "source": [
        "**A coluna \"metragem\" antes do agrupamento também continha 480 linhas zeradas, da mesma forma preferiu-se não excluir as linhas, mesmo elas representando uma parte até significativa do dataset, entre 4 e 5% do total dos dados. Quando foi feito o agrupamento a coluna teve apenas 5 valores zerados restantes.**"
      ],
      "metadata": {
        "id": "F1JKjHlRvlUY"
      }
    },
    {
      "cell_type": "markdown",
      "source": [
        "**Substituição das linhas zeradas de \"metragem\" pela mediana da coluna. A média estava maior que a mediana, então preferiu-se substituir os valores zeros pela mediana, pois 50% dos dados estão abaixo da mediana, que é 692, e não acima como mostra a média de valor 711.**"
      ],
      "metadata": {
        "id": "P5zpZg06w9KA"
      }
    },
    {
      "cell_type": "code",
      "source": [
        "dados3['metragem'].describe()"
      ],
      "metadata": {
        "colab": {
          "base_uri": "https://localhost:8080/"
        },
        "id": "CiBBT3lYxMkV",
        "outputId": "c821693e-cb49-4ffd-9bb9-8dc888c56abc"
      },
      "execution_count": 39,
      "outputs": [
        {
          "output_type": "execute_result",
          "data": {
            "text/plain": [
              "count    3120.000000\n",
              "mean      711.353006\n",
              "std       300.169367\n",
              "min         0.000000\n",
              "25%       519.265000\n",
              "50%       692.100000\n",
              "75%       875.700000\n",
              "max      2638.000000\n",
              "Name: metragem, dtype: float64"
            ]
          },
          "metadata": {},
          "execution_count": 39
        }
      ]
    },
    {
      "cell_type": "code",
      "source": [
        "dados3['metragem'][dados3['metragem']==0].count()"
      ],
      "metadata": {
        "colab": {
          "base_uri": "https://localhost:8080/"
        },
        "id": "AbTeWNmHg0Aj",
        "outputId": "71dcacc8-d501-400a-e182-5fcd2f2a01c2"
      },
      "execution_count": 40,
      "outputs": [
        {
          "output_type": "execute_result",
          "data": {
            "text/plain": [
              "5"
            ]
          },
          "metadata": {},
          "execution_count": 40
        }
      ]
    },
    {
      "cell_type": "code",
      "source": [
        "dados3['metragem'][dados3['metragem'] > 0].median()"
      ],
      "metadata": {
        "colab": {
          "base_uri": "https://localhost:8080/"
        },
        "id": "WQopknsbg_ex",
        "outputId": "9e4fa4ce-1523-4f90-ced5-ccabe41c3569"
      },
      "execution_count": 41,
      "outputs": [
        {
          "output_type": "execute_result",
          "data": {
            "text/plain": [
              "692.5"
            ]
          },
          "metadata": {},
          "execution_count": 41
        }
      ]
    },
    {
      "cell_type": "code",
      "source": [
        "dados3.loc[dados3['metragem'] ==0, 'metragem'] = 692.5"
      ],
      "metadata": {
        "id": "7OXUwfCkhbGT"
      },
      "execution_count": 42,
      "outputs": []
    },
    {
      "cell_type": "code",
      "source": [
        "dados3.loc[dados3['metragem'] == 0]"
      ],
      "metadata": {
        "colab": {
          "base_uri": "https://localhost:8080/",
          "height": 49
        },
        "id": "O2gXyLGAhM2i",
        "outputId": "4fac37cc-23eb-4e97-a6f6-5488696be925"
      },
      "execution_count": 43,
      "outputs": [
        {
          "output_type": "execute_result",
          "data": {
            "text/plain": [
              "Empty DataFrame\n",
              "Columns: [nome_poco, nfases, lda, metragem, dpolegadastotal]\n",
              "Index: []"
            ],
            "text/html": [
              "\n",
              "  <div id=\"df-47c88123-cb0a-45ea-95b9-34a28d903e21\">\n",
              "    <div class=\"colab-df-container\">\n",
              "      <div>\n",
              "<style scoped>\n",
              "    .dataframe tbody tr th:only-of-type {\n",
              "        vertical-align: middle;\n",
              "    }\n",
              "\n",
              "    .dataframe tbody tr th {\n",
              "        vertical-align: top;\n",
              "    }\n",
              "\n",
              "    .dataframe thead th {\n",
              "        text-align: right;\n",
              "    }\n",
              "</style>\n",
              "<table border=\"1\" class=\"dataframe\">\n",
              "  <thead>\n",
              "    <tr style=\"text-align: right;\">\n",
              "      <th></th>\n",
              "      <th>nome_poco</th>\n",
              "      <th>nfases</th>\n",
              "      <th>lda</th>\n",
              "      <th>metragem</th>\n",
              "      <th>dpolegadastotal</th>\n",
              "    </tr>\n",
              "  </thead>\n",
              "  <tbody>\n",
              "  </tbody>\n",
              "</table>\n",
              "</div>\n",
              "      <button class=\"colab-df-convert\" onclick=\"convertToInteractive('df-47c88123-cb0a-45ea-95b9-34a28d903e21')\"\n",
              "              title=\"Convert this dataframe to an interactive table.\"\n",
              "              style=\"display:none;\">\n",
              "        \n",
              "  <svg xmlns=\"http://www.w3.org/2000/svg\" height=\"24px\"viewBox=\"0 0 24 24\"\n",
              "       width=\"24px\">\n",
              "    <path d=\"M0 0h24v24H0V0z\" fill=\"none\"/>\n",
              "    <path d=\"M18.56 5.44l.94 2.06.94-2.06 2.06-.94-2.06-.94-.94-2.06-.94 2.06-2.06.94zm-11 1L8.5 8.5l.94-2.06 2.06-.94-2.06-.94L8.5 2.5l-.94 2.06-2.06.94zm10 10l.94 2.06.94-2.06 2.06-.94-2.06-.94-.94-2.06-.94 2.06-2.06.94z\"/><path d=\"M17.41 7.96l-1.37-1.37c-.4-.4-.92-.59-1.43-.59-.52 0-1.04.2-1.43.59L10.3 9.45l-7.72 7.72c-.78.78-.78 2.05 0 2.83L4 21.41c.39.39.9.59 1.41.59.51 0 1.02-.2 1.41-.59l7.78-7.78 2.81-2.81c.8-.78.8-2.07 0-2.86zM5.41 20L4 18.59l7.72-7.72 1.47 1.35L5.41 20z\"/>\n",
              "  </svg>\n",
              "      </button>\n",
              "      \n",
              "  <style>\n",
              "    .colab-df-container {\n",
              "      display:flex;\n",
              "      flex-wrap:wrap;\n",
              "      gap: 12px;\n",
              "    }\n",
              "\n",
              "    .colab-df-convert {\n",
              "      background-color: #E8F0FE;\n",
              "      border: none;\n",
              "      border-radius: 50%;\n",
              "      cursor: pointer;\n",
              "      display: none;\n",
              "      fill: #1967D2;\n",
              "      height: 32px;\n",
              "      padding: 0 0 0 0;\n",
              "      width: 32px;\n",
              "    }\n",
              "\n",
              "    .colab-df-convert:hover {\n",
              "      background-color: #E2EBFA;\n",
              "      box-shadow: 0px 1px 2px rgba(60, 64, 67, 0.3), 0px 1px 3px 1px rgba(60, 64, 67, 0.15);\n",
              "      fill: #174EA6;\n",
              "    }\n",
              "\n",
              "    [theme=dark] .colab-df-convert {\n",
              "      background-color: #3B4455;\n",
              "      fill: #D2E3FC;\n",
              "    }\n",
              "\n",
              "    [theme=dark] .colab-df-convert:hover {\n",
              "      background-color: #434B5C;\n",
              "      box-shadow: 0px 1px 3px 1px rgba(0, 0, 0, 0.15);\n",
              "      filter: drop-shadow(0px 1px 2px rgba(0, 0, 0, 0.3));\n",
              "      fill: #FFFFFF;\n",
              "    }\n",
              "  </style>\n",
              "\n",
              "      <script>\n",
              "        const buttonEl =\n",
              "          document.querySelector('#df-47c88123-cb0a-45ea-95b9-34a28d903e21 button.colab-df-convert');\n",
              "        buttonEl.style.display =\n",
              "          google.colab.kernel.accessAllowed ? 'block' : 'none';\n",
              "\n",
              "        async function convertToInteractive(key) {\n",
              "          const element = document.querySelector('#df-47c88123-cb0a-45ea-95b9-34a28d903e21');\n",
              "          const dataTable =\n",
              "            await google.colab.kernel.invokeFunction('convertToInteractive',\n",
              "                                                     [key], {});\n",
              "          if (!dataTable) return;\n",
              "\n",
              "          const docLinkHtml = 'Like what you see? Visit the ' +\n",
              "            '<a target=\"_blank\" href=https://colab.research.google.com/notebooks/data_table.ipynb>data table notebook</a>'\n",
              "            + ' to learn more about interactive tables.';\n",
              "          element.innerHTML = '';\n",
              "          dataTable['output_type'] = 'display_data';\n",
              "          await google.colab.output.renderOutput(dataTable, element);\n",
              "          const docLink = document.createElement('div');\n",
              "          docLink.innerHTML = docLinkHtml;\n",
              "          element.appendChild(docLink);\n",
              "        }\n",
              "      </script>\n",
              "    </div>\n",
              "  </div>\n",
              "  "
            ]
          },
          "metadata": {},
          "execution_count": 43
        }
      ]
    },
    {
      "cell_type": "code",
      "source": [
        "dados3.shape"
      ],
      "metadata": {
        "colab": {
          "base_uri": "https://localhost:8080/"
        },
        "id": "5_nyU565hnSv",
        "outputId": "c7016474-15d3-4af4-8141-9377b262a679"
      },
      "execution_count": 44,
      "outputs": [
        {
          "output_type": "execute_result",
          "data": {
            "text/plain": [
              "(3120, 5)"
            ]
          },
          "metadata": {},
          "execution_count": 44
        }
      ]
    },
    {
      "cell_type": "markdown",
      "source": [
        "**Tendo em vista que a coluna \"nome_poco\" é em formato de texto e também não serve, nesse caso, para a análise de correlação. A coluna não foi utilizada nos cálculos. Foram utilizadas as 4 colunas restantes de dados3.** "
      ],
      "metadata": {
        "id": "N_-Ja6UN1j6x"
      }
    },
    {
      "cell_type": "markdown",
      "source": [
        "**O conjunto de dados chamado \"dados_testes é justamente o conjunto separado para a entrada de dados e comparação com as observações restantes para obter a máxima correlação.**"
      ],
      "metadata": {
        "id": "UqNk8iqgyDoe"
      }
    },
    {
      "cell_type": "code",
      "source": [
        "dados_testes = dados3.iloc[0:5,1:]\n",
        "dados_testes"
      ],
      "metadata": {
        "colab": {
          "base_uri": "https://localhost:8080/",
          "height": 206
        },
        "id": "99Ceo8KV2oEi",
        "outputId": "f7eed1b7-0d55-482d-bffb-4a7cab2852c5"
      },
      "execution_count": 135,
      "outputs": [
        {
          "output_type": "execute_result",
          "data": {
            "text/plain": [
              "   nfases     lda  metragem  dpolegadastotal\n",
              "0       6  2140.0     654.5           18.750\n",
              "1       1  1034.0    1983.0           12.250\n",
              "2       2  1195.0     559.0           26.750\n",
              "3       2  1723.0     920.5           16.125\n",
              "4       1  1315.0    1078.0            8.500"
            ],
            "text/html": [
              "\n",
              "  <div id=\"df-7559f0c9-7fe1-445f-93a4-1d6f2397969c\">\n",
              "    <div class=\"colab-df-container\">\n",
              "      <div>\n",
              "<style scoped>\n",
              "    .dataframe tbody tr th:only-of-type {\n",
              "        vertical-align: middle;\n",
              "    }\n",
              "\n",
              "    .dataframe tbody tr th {\n",
              "        vertical-align: top;\n",
              "    }\n",
              "\n",
              "    .dataframe thead th {\n",
              "        text-align: right;\n",
              "    }\n",
              "</style>\n",
              "<table border=\"1\" class=\"dataframe\">\n",
              "  <thead>\n",
              "    <tr style=\"text-align: right;\">\n",
              "      <th></th>\n",
              "      <th>nfases</th>\n",
              "      <th>lda</th>\n",
              "      <th>metragem</th>\n",
              "      <th>dpolegadastotal</th>\n",
              "    </tr>\n",
              "  </thead>\n",
              "  <tbody>\n",
              "    <tr>\n",
              "      <th>0</th>\n",
              "      <td>6</td>\n",
              "      <td>2140.0</td>\n",
              "      <td>654.5</td>\n",
              "      <td>18.750</td>\n",
              "    </tr>\n",
              "    <tr>\n",
              "      <th>1</th>\n",
              "      <td>1</td>\n",
              "      <td>1034.0</td>\n",
              "      <td>1983.0</td>\n",
              "      <td>12.250</td>\n",
              "    </tr>\n",
              "    <tr>\n",
              "      <th>2</th>\n",
              "      <td>2</td>\n",
              "      <td>1195.0</td>\n",
              "      <td>559.0</td>\n",
              "      <td>26.750</td>\n",
              "    </tr>\n",
              "    <tr>\n",
              "      <th>3</th>\n",
              "      <td>2</td>\n",
              "      <td>1723.0</td>\n",
              "      <td>920.5</td>\n",
              "      <td>16.125</td>\n",
              "    </tr>\n",
              "    <tr>\n",
              "      <th>4</th>\n",
              "      <td>1</td>\n",
              "      <td>1315.0</td>\n",
              "      <td>1078.0</td>\n",
              "      <td>8.500</td>\n",
              "    </tr>\n",
              "  </tbody>\n",
              "</table>\n",
              "</div>\n",
              "      <button class=\"colab-df-convert\" onclick=\"convertToInteractive('df-7559f0c9-7fe1-445f-93a4-1d6f2397969c')\"\n",
              "              title=\"Convert this dataframe to an interactive table.\"\n",
              "              style=\"display:none;\">\n",
              "        \n",
              "  <svg xmlns=\"http://www.w3.org/2000/svg\" height=\"24px\"viewBox=\"0 0 24 24\"\n",
              "       width=\"24px\">\n",
              "    <path d=\"M0 0h24v24H0V0z\" fill=\"none\"/>\n",
              "    <path d=\"M18.56 5.44l.94 2.06.94-2.06 2.06-.94-2.06-.94-.94-2.06-.94 2.06-2.06.94zm-11 1L8.5 8.5l.94-2.06 2.06-.94-2.06-.94L8.5 2.5l-.94 2.06-2.06.94zm10 10l.94 2.06.94-2.06 2.06-.94-2.06-.94-.94-2.06-.94 2.06-2.06.94z\"/><path d=\"M17.41 7.96l-1.37-1.37c-.4-.4-.92-.59-1.43-.59-.52 0-1.04.2-1.43.59L10.3 9.45l-7.72 7.72c-.78.78-.78 2.05 0 2.83L4 21.41c.39.39.9.59 1.41.59.51 0 1.02-.2 1.41-.59l7.78-7.78 2.81-2.81c.8-.78.8-2.07 0-2.86zM5.41 20L4 18.59l7.72-7.72 1.47 1.35L5.41 20z\"/>\n",
              "  </svg>\n",
              "      </button>\n",
              "      \n",
              "  <style>\n",
              "    .colab-df-container {\n",
              "      display:flex;\n",
              "      flex-wrap:wrap;\n",
              "      gap: 12px;\n",
              "    }\n",
              "\n",
              "    .colab-df-convert {\n",
              "      background-color: #E8F0FE;\n",
              "      border: none;\n",
              "      border-radius: 50%;\n",
              "      cursor: pointer;\n",
              "      display: none;\n",
              "      fill: #1967D2;\n",
              "      height: 32px;\n",
              "      padding: 0 0 0 0;\n",
              "      width: 32px;\n",
              "    }\n",
              "\n",
              "    .colab-df-convert:hover {\n",
              "      background-color: #E2EBFA;\n",
              "      box-shadow: 0px 1px 2px rgba(60, 64, 67, 0.3), 0px 1px 3px 1px rgba(60, 64, 67, 0.15);\n",
              "      fill: #174EA6;\n",
              "    }\n",
              "\n",
              "    [theme=dark] .colab-df-convert {\n",
              "      background-color: #3B4455;\n",
              "      fill: #D2E3FC;\n",
              "    }\n",
              "\n",
              "    [theme=dark] .colab-df-convert:hover {\n",
              "      background-color: #434B5C;\n",
              "      box-shadow: 0px 1px 3px 1px rgba(0, 0, 0, 0.15);\n",
              "      filter: drop-shadow(0px 1px 2px rgba(0, 0, 0, 0.3));\n",
              "      fill: #FFFFFF;\n",
              "    }\n",
              "  </style>\n",
              "\n",
              "      <script>\n",
              "        const buttonEl =\n",
              "          document.querySelector('#df-7559f0c9-7fe1-445f-93a4-1d6f2397969c button.colab-df-convert');\n",
              "        buttonEl.style.display =\n",
              "          google.colab.kernel.accessAllowed ? 'block' : 'none';\n",
              "\n",
              "        async function convertToInteractive(key) {\n",
              "          const element = document.querySelector('#df-7559f0c9-7fe1-445f-93a4-1d6f2397969c');\n",
              "          const dataTable =\n",
              "            await google.colab.kernel.invokeFunction('convertToInteractive',\n",
              "                                                     [key], {});\n",
              "          if (!dataTable) return;\n",
              "\n",
              "          const docLinkHtml = 'Like what you see? Visit the ' +\n",
              "            '<a target=\"_blank\" href=https://colab.research.google.com/notebooks/data_table.ipynb>data table notebook</a>'\n",
              "            + ' to learn more about interactive tables.';\n",
              "          element.innerHTML = '';\n",
              "          dataTable['output_type'] = 'display_data';\n",
              "          await google.colab.output.renderOutput(dataTable, element);\n",
              "          const docLink = document.createElement('div');\n",
              "          docLink.innerHTML = docLinkHtml;\n",
              "          element.appendChild(docLink);\n",
              "        }\n",
              "      </script>\n",
              "    </div>\n",
              "  </div>\n",
              "  "
            ]
          },
          "metadata": {},
          "execution_count": 135
        }
      ]
    },
    {
      "cell_type": "markdown",
      "source": [
        "**Dados de poços a serem comparados com as características do poço passadas como entrada.**"
      ],
      "metadata": {
        "id": "4scg32uXfLj4"
      }
    },
    {
      "cell_type": "code",
      "source": [
        "dados_pocos = dados3.iloc[5:, 1:]\n",
        "dados_pocos.reset_index(drop=True, inplace=True)\n",
        "dados_pocos.head()"
      ],
      "metadata": {
        "colab": {
          "base_uri": "https://localhost:8080/",
          "height": 206
        },
        "id": "yY317gNmWTYc",
        "outputId": "930a4649-fd12-4c4f-88e7-19119c59c4c0"
      },
      "execution_count": 279,
      "outputs": [
        {
          "output_type": "execute_result",
          "data": {
            "text/plain": [
              "   nfases        lda  metragem  dpolegadastotal\n",
              "0       5  2270.0000     657.6        20.050000\n",
              "1       1  1357.0000     692.0        12.250000\n",
              "2       1  1123.6537     331.0        17.500000\n",
              "3       6    81.0000     628.0        17.958333\n",
              "4       2    89.0000     233.5        10.375000"
            ],
            "text/html": [
              "\n",
              "  <div id=\"df-4813dbb3-6b63-4a3e-883d-a1c1561c6ee6\">\n",
              "    <div class=\"colab-df-container\">\n",
              "      <div>\n",
              "<style scoped>\n",
              "    .dataframe tbody tr th:only-of-type {\n",
              "        vertical-align: middle;\n",
              "    }\n",
              "\n",
              "    .dataframe tbody tr th {\n",
              "        vertical-align: top;\n",
              "    }\n",
              "\n",
              "    .dataframe thead th {\n",
              "        text-align: right;\n",
              "    }\n",
              "</style>\n",
              "<table border=\"1\" class=\"dataframe\">\n",
              "  <thead>\n",
              "    <tr style=\"text-align: right;\">\n",
              "      <th></th>\n",
              "      <th>nfases</th>\n",
              "      <th>lda</th>\n",
              "      <th>metragem</th>\n",
              "      <th>dpolegadastotal</th>\n",
              "    </tr>\n",
              "  </thead>\n",
              "  <tbody>\n",
              "    <tr>\n",
              "      <th>0</th>\n",
              "      <td>5</td>\n",
              "      <td>2270.0000</td>\n",
              "      <td>657.6</td>\n",
              "      <td>20.050000</td>\n",
              "    </tr>\n",
              "    <tr>\n",
              "      <th>1</th>\n",
              "      <td>1</td>\n",
              "      <td>1357.0000</td>\n",
              "      <td>692.0</td>\n",
              "      <td>12.250000</td>\n",
              "    </tr>\n",
              "    <tr>\n",
              "      <th>2</th>\n",
              "      <td>1</td>\n",
              "      <td>1123.6537</td>\n",
              "      <td>331.0</td>\n",
              "      <td>17.500000</td>\n",
              "    </tr>\n",
              "    <tr>\n",
              "      <th>3</th>\n",
              "      <td>6</td>\n",
              "      <td>81.0000</td>\n",
              "      <td>628.0</td>\n",
              "      <td>17.958333</td>\n",
              "    </tr>\n",
              "    <tr>\n",
              "      <th>4</th>\n",
              "      <td>2</td>\n",
              "      <td>89.0000</td>\n",
              "      <td>233.5</td>\n",
              "      <td>10.375000</td>\n",
              "    </tr>\n",
              "  </tbody>\n",
              "</table>\n",
              "</div>\n",
              "      <button class=\"colab-df-convert\" onclick=\"convertToInteractive('df-4813dbb3-6b63-4a3e-883d-a1c1561c6ee6')\"\n",
              "              title=\"Convert this dataframe to an interactive table.\"\n",
              "              style=\"display:none;\">\n",
              "        \n",
              "  <svg xmlns=\"http://www.w3.org/2000/svg\" height=\"24px\"viewBox=\"0 0 24 24\"\n",
              "       width=\"24px\">\n",
              "    <path d=\"M0 0h24v24H0V0z\" fill=\"none\"/>\n",
              "    <path d=\"M18.56 5.44l.94 2.06.94-2.06 2.06-.94-2.06-.94-.94-2.06-.94 2.06-2.06.94zm-11 1L8.5 8.5l.94-2.06 2.06-.94-2.06-.94L8.5 2.5l-.94 2.06-2.06.94zm10 10l.94 2.06.94-2.06 2.06-.94-2.06-.94-.94-2.06-.94 2.06-2.06.94z\"/><path d=\"M17.41 7.96l-1.37-1.37c-.4-.4-.92-.59-1.43-.59-.52 0-1.04.2-1.43.59L10.3 9.45l-7.72 7.72c-.78.78-.78 2.05 0 2.83L4 21.41c.39.39.9.59 1.41.59.51 0 1.02-.2 1.41-.59l7.78-7.78 2.81-2.81c.8-.78.8-2.07 0-2.86zM5.41 20L4 18.59l7.72-7.72 1.47 1.35L5.41 20z\"/>\n",
              "  </svg>\n",
              "      </button>\n",
              "      \n",
              "  <style>\n",
              "    .colab-df-container {\n",
              "      display:flex;\n",
              "      flex-wrap:wrap;\n",
              "      gap: 12px;\n",
              "    }\n",
              "\n",
              "    .colab-df-convert {\n",
              "      background-color: #E8F0FE;\n",
              "      border: none;\n",
              "      border-radius: 50%;\n",
              "      cursor: pointer;\n",
              "      display: none;\n",
              "      fill: #1967D2;\n",
              "      height: 32px;\n",
              "      padding: 0 0 0 0;\n",
              "      width: 32px;\n",
              "    }\n",
              "\n",
              "    .colab-df-convert:hover {\n",
              "      background-color: #E2EBFA;\n",
              "      box-shadow: 0px 1px 2px rgba(60, 64, 67, 0.3), 0px 1px 3px 1px rgba(60, 64, 67, 0.15);\n",
              "      fill: #174EA6;\n",
              "    }\n",
              "\n",
              "    [theme=dark] .colab-df-convert {\n",
              "      background-color: #3B4455;\n",
              "      fill: #D2E3FC;\n",
              "    }\n",
              "\n",
              "    [theme=dark] .colab-df-convert:hover {\n",
              "      background-color: #434B5C;\n",
              "      box-shadow: 0px 1px 3px 1px rgba(0, 0, 0, 0.15);\n",
              "      filter: drop-shadow(0px 1px 2px rgba(0, 0, 0, 0.3));\n",
              "      fill: #FFFFFF;\n",
              "    }\n",
              "  </style>\n",
              "\n",
              "      <script>\n",
              "        const buttonEl =\n",
              "          document.querySelector('#df-4813dbb3-6b63-4a3e-883d-a1c1561c6ee6 button.colab-df-convert');\n",
              "        buttonEl.style.display =\n",
              "          google.colab.kernel.accessAllowed ? 'block' : 'none';\n",
              "\n",
              "        async function convertToInteractive(key) {\n",
              "          const element = document.querySelector('#df-4813dbb3-6b63-4a3e-883d-a1c1561c6ee6');\n",
              "          const dataTable =\n",
              "            await google.colab.kernel.invokeFunction('convertToInteractive',\n",
              "                                                     [key], {});\n",
              "          if (!dataTable) return;\n",
              "\n",
              "          const docLinkHtml = 'Like what you see? Visit the ' +\n",
              "            '<a target=\"_blank\" href=https://colab.research.google.com/notebooks/data_table.ipynb>data table notebook</a>'\n",
              "            + ' to learn more about interactive tables.';\n",
              "          element.innerHTML = '';\n",
              "          dataTable['output_type'] = 'display_data';\n",
              "          await google.colab.output.renderOutput(dataTable, element);\n",
              "          const docLink = document.createElement('div');\n",
              "          docLink.innerHTML = docLinkHtml;\n",
              "          element.appendChild(docLink);\n",
              "        }\n",
              "      </script>\n",
              "    </div>\n",
              "  </div>\n",
              "  "
            ]
          },
          "metadata": {},
          "execution_count": 279
        }
      ]
    },
    {
      "cell_type": "markdown",
      "source": [
        "**Entrada de poço para comparação com as características dos demais.**"
      ],
      "metadata": {
        "id": "CWUoJu4qfuks"
      }
    },
    {
      "cell_type": "code",
      "source": [
        "Testes=dados_testes.iloc[0:1,0:].to_numpy()"
      ],
      "metadata": {
        "id": "Fv181adEZMAV"
      },
      "execution_count": 282,
      "outputs": []
    },
    {
      "cell_type": "markdown",
      "source": [
        "**Aplicação do equacionamento da simiralidade por cosseno.**"
      ],
      "metadata": {
        "id": "4FBOETJ0gBD5"
      }
    },
    {
      "cell_type": "code",
      "source": [
        "dTestes = np.sqrt(np.sum(np.square(Testes)))"
      ],
      "metadata": {
        "id": "CQiRdoYqYvxD"
      },
      "execution_count": 284,
      "outputs": []
    },
    {
      "cell_type": "markdown",
      "source": [
        "**Passando os dados dos poços para o formato do numpy.**"
      ],
      "metadata": {
        "id": "C_6MBaypgPS6"
      }
    },
    {
      "cell_type": "code",
      "source": [
        "dados_pocos=dados_pocos.to_numpy()"
      ],
      "metadata": {
        "id": "OUD_UcYuZ07n"
      },
      "execution_count": 285,
      "outputs": []
    },
    {
      "cell_type": "code",
      "source": [
        "dpocost=dados_pocos.T"
      ],
      "metadata": {
        "id": "X2edTUbDausU"
      },
      "execution_count": 291,
      "outputs": []
    },
    {
      "cell_type": "markdown",
      "source": [
        "**Lista vazia para receber os dados do loop for.**"
      ],
      "metadata": {
        "id": "vGikaMiJgYkI"
      }
    },
    {
      "cell_type": "code",
      "source": [
        "conjunto1=[]"
      ],
      "metadata": {
        "id": "zee0XWCnZ-gd"
      },
      "execution_count": 286,
      "outputs": []
    },
    {
      "cell_type": "code",
      "source": [
        "for i in range(len(dados_pocos)):\n",
        "  dms = np.sqrt(np.sum(np.square(dados_pocos[i].T)))\n",
        "  conjunto1.append(dms)\n",
        "  "
      ],
      "metadata": {
        "id": "R6ctCvfQZ8Gc"
      },
      "execution_count": 287,
      "outputs": []
    },
    {
      "cell_type": "markdown",
      "source": [
        "**Dados de saída do loop em formato de array numpy.**"
      ],
      "metadata": {
        "id": "eOJuWY9DghLm"
      }
    },
    {
      "cell_type": "code",
      "source": [
        "dcpocos=np.array(conjunto1)"
      ],
      "metadata": {
        "id": "vdbzTv63aPUH"
      },
      "execution_count": 289,
      "outputs": []
    },
    {
      "cell_type": "markdown",
      "source": [
        "**Aplicação da equação que dará os resultados das similaridades entre os poços.**"
      ],
      "metadata": {
        "id": "FjGzJQfcgst_"
      }
    },
    {
      "cell_type": "code",
      "source": [
        "Quatro_maiores_similaridades = Testes@dpocost/(dTestes*dcpocos)"
      ],
      "metadata": {
        "id": "zaCxsCHaalcz"
      },
      "execution_count": 293,
      "outputs": []
    },
    {
      "cell_type": "markdown",
      "source": [
        "**Mudando o shape dos dados para o formato de vetor coluna.**"
      ],
      "metadata": {
        "id": "vzCjWdgfg3_T"
      }
    },
    {
      "cell_type": "code",
      "source": [
        "Quatro_maiores_similaridades = Quatro_maiores_similaridades.reshape(-1)"
      ],
      "metadata": {
        "id": "Gt2LNagtbKJ2"
      },
      "execution_count": 294,
      "outputs": []
    },
    {
      "cell_type": "markdown",
      "source": [
        "**Coletando as 4 maiores similaridades com a busca de seus índices.**"
      ],
      "metadata": {
        "id": "l8ZaVL36hCGN"
      }
    },
    {
      "cell_type": "code",
      "source": [
        "kcosseno = 4\n",
        "\n",
        "idxcosseno = np.argpartition(Quatro_maiores_similaridades, kcosseno)[-4:]\n",
        "print('Os índices dos 4 poços mais correlacionados são: \\n', idxcosseno)\n",
        "print()\n",
        "print('Os 4 poços mais correlacionados tem distância euclidiana de: \\n', Quatro_maiores_similaridades[idxcosseno[:kcosseno]])"
      ],
      "metadata": {
        "colab": {
          "base_uri": "https://localhost:8080/"
        },
        "id": "uImftcYmbN2V",
        "outputId": "a58701a4-8f0c-43fe-d23c-295d9279cf04"
      },
      "execution_count": 295,
      "outputs": [
        {
          "output_type": "stream",
          "name": "stdout",
          "text": [
            "Os índices dos 4 poços mais correlacionados são: \n",
            " [   9 3112    2    0]\n",
            "\n",
            "Os 4 poços mais correlacionados tem distância euclidiana de: \n",
            " [0.9992883  0.99794671 0.99992342 0.99988982]\n"
          ]
        }
      ]
    },
    {
      "cell_type": "markdown",
      "source": [
        "**Poço passado como entrada de dados.**"
      ],
      "metadata": {
        "id": "NsZV8oAxhQbj"
      }
    },
    {
      "cell_type": "code",
      "source": [
        "dados_testes.iloc[0:1,0:]"
      ],
      "metadata": {
        "colab": {
          "base_uri": "https://localhost:8080/",
          "height": 81
        },
        "id": "bD7SWUk0dY1W",
        "outputId": "62aa3735-2128-46d1-fb4d-f487d7ca349b"
      },
      "execution_count": 296,
      "outputs": [
        {
          "output_type": "execute_result",
          "data": {
            "text/plain": [
              "   nfases     lda  metragem  dpolegadastotal\n",
              "0       6  2140.0     654.5            18.75"
            ],
            "text/html": [
              "\n",
              "  <div id=\"df-4496ad7c-e5d0-4cde-bc92-cdfb3b2d3840\">\n",
              "    <div class=\"colab-df-container\">\n",
              "      <div>\n",
              "<style scoped>\n",
              "    .dataframe tbody tr th:only-of-type {\n",
              "        vertical-align: middle;\n",
              "    }\n",
              "\n",
              "    .dataframe tbody tr th {\n",
              "        vertical-align: top;\n",
              "    }\n",
              "\n",
              "    .dataframe thead th {\n",
              "        text-align: right;\n",
              "    }\n",
              "</style>\n",
              "<table border=\"1\" class=\"dataframe\">\n",
              "  <thead>\n",
              "    <tr style=\"text-align: right;\">\n",
              "      <th></th>\n",
              "      <th>nfases</th>\n",
              "      <th>lda</th>\n",
              "      <th>metragem</th>\n",
              "      <th>dpolegadastotal</th>\n",
              "    </tr>\n",
              "  </thead>\n",
              "  <tbody>\n",
              "    <tr>\n",
              "      <th>0</th>\n",
              "      <td>6</td>\n",
              "      <td>2140.0</td>\n",
              "      <td>654.5</td>\n",
              "      <td>18.75</td>\n",
              "    </tr>\n",
              "  </tbody>\n",
              "</table>\n",
              "</div>\n",
              "      <button class=\"colab-df-convert\" onclick=\"convertToInteractive('df-4496ad7c-e5d0-4cde-bc92-cdfb3b2d3840')\"\n",
              "              title=\"Convert this dataframe to an interactive table.\"\n",
              "              style=\"display:none;\">\n",
              "        \n",
              "  <svg xmlns=\"http://www.w3.org/2000/svg\" height=\"24px\"viewBox=\"0 0 24 24\"\n",
              "       width=\"24px\">\n",
              "    <path d=\"M0 0h24v24H0V0z\" fill=\"none\"/>\n",
              "    <path d=\"M18.56 5.44l.94 2.06.94-2.06 2.06-.94-2.06-.94-.94-2.06-.94 2.06-2.06.94zm-11 1L8.5 8.5l.94-2.06 2.06-.94-2.06-.94L8.5 2.5l-.94 2.06-2.06.94zm10 10l.94 2.06.94-2.06 2.06-.94-2.06-.94-.94-2.06-.94 2.06-2.06.94z\"/><path d=\"M17.41 7.96l-1.37-1.37c-.4-.4-.92-.59-1.43-.59-.52 0-1.04.2-1.43.59L10.3 9.45l-7.72 7.72c-.78.78-.78 2.05 0 2.83L4 21.41c.39.39.9.59 1.41.59.51 0 1.02-.2 1.41-.59l7.78-7.78 2.81-2.81c.8-.78.8-2.07 0-2.86zM5.41 20L4 18.59l7.72-7.72 1.47 1.35L5.41 20z\"/>\n",
              "  </svg>\n",
              "      </button>\n",
              "      \n",
              "  <style>\n",
              "    .colab-df-container {\n",
              "      display:flex;\n",
              "      flex-wrap:wrap;\n",
              "      gap: 12px;\n",
              "    }\n",
              "\n",
              "    .colab-df-convert {\n",
              "      background-color: #E8F0FE;\n",
              "      border: none;\n",
              "      border-radius: 50%;\n",
              "      cursor: pointer;\n",
              "      display: none;\n",
              "      fill: #1967D2;\n",
              "      height: 32px;\n",
              "      padding: 0 0 0 0;\n",
              "      width: 32px;\n",
              "    }\n",
              "\n",
              "    .colab-df-convert:hover {\n",
              "      background-color: #E2EBFA;\n",
              "      box-shadow: 0px 1px 2px rgba(60, 64, 67, 0.3), 0px 1px 3px 1px rgba(60, 64, 67, 0.15);\n",
              "      fill: #174EA6;\n",
              "    }\n",
              "\n",
              "    [theme=dark] .colab-df-convert {\n",
              "      background-color: #3B4455;\n",
              "      fill: #D2E3FC;\n",
              "    }\n",
              "\n",
              "    [theme=dark] .colab-df-convert:hover {\n",
              "      background-color: #434B5C;\n",
              "      box-shadow: 0px 1px 3px 1px rgba(0, 0, 0, 0.15);\n",
              "      filter: drop-shadow(0px 1px 2px rgba(0, 0, 0, 0.3));\n",
              "      fill: #FFFFFF;\n",
              "    }\n",
              "  </style>\n",
              "\n",
              "      <script>\n",
              "        const buttonEl =\n",
              "          document.querySelector('#df-4496ad7c-e5d0-4cde-bc92-cdfb3b2d3840 button.colab-df-convert');\n",
              "        buttonEl.style.display =\n",
              "          google.colab.kernel.accessAllowed ? 'block' : 'none';\n",
              "\n",
              "        async function convertToInteractive(key) {\n",
              "          const element = document.querySelector('#df-4496ad7c-e5d0-4cde-bc92-cdfb3b2d3840');\n",
              "          const dataTable =\n",
              "            await google.colab.kernel.invokeFunction('convertToInteractive',\n",
              "                                                     [key], {});\n",
              "          if (!dataTable) return;\n",
              "\n",
              "          const docLinkHtml = 'Like what you see? Visit the ' +\n",
              "            '<a target=\"_blank\" href=https://colab.research.google.com/notebooks/data_table.ipynb>data table notebook</a>'\n",
              "            + ' to learn more about interactive tables.';\n",
              "          element.innerHTML = '';\n",
              "          dataTable['output_type'] = 'display_data';\n",
              "          await google.colab.output.renderOutput(dataTable, element);\n",
              "          const docLink = document.createElement('div');\n",
              "          docLink.innerHTML = docLinkHtml;\n",
              "          element.appendChild(docLink);\n",
              "        }\n",
              "      </script>\n",
              "    </div>\n",
              "  </div>\n",
              "  "
            ]
          },
          "metadata": {},
          "execution_count": 296
        }
      ]
    },
    {
      "cell_type": "code",
      "source": [
        "dados3.iloc[0:1,:]"
      ],
      "metadata": {
        "colab": {
          "base_uri": "https://localhost:8080/",
          "height": 81
        },
        "id": "uP8qde6UdhFr",
        "outputId": "e56bd261-fdad-4948-9ed7-84b615159844"
      },
      "execution_count": 297,
      "outputs": [
        {
          "output_type": "execute_result",
          "data": {
            "text/plain": [
              "  nome_poco  nfases     lda  metragem  dpolegadastotal\n",
              "0    001L7P       6  2140.0     654.5            18.75"
            ],
            "text/html": [
              "\n",
              "  <div id=\"df-a7b60076-d140-4dcb-a193-1d613f0e8e24\">\n",
              "    <div class=\"colab-df-container\">\n",
              "      <div>\n",
              "<style scoped>\n",
              "    .dataframe tbody tr th:only-of-type {\n",
              "        vertical-align: middle;\n",
              "    }\n",
              "\n",
              "    .dataframe tbody tr th {\n",
              "        vertical-align: top;\n",
              "    }\n",
              "\n",
              "    .dataframe thead th {\n",
              "        text-align: right;\n",
              "    }\n",
              "</style>\n",
              "<table border=\"1\" class=\"dataframe\">\n",
              "  <thead>\n",
              "    <tr style=\"text-align: right;\">\n",
              "      <th></th>\n",
              "      <th>nome_poco</th>\n",
              "      <th>nfases</th>\n",
              "      <th>lda</th>\n",
              "      <th>metragem</th>\n",
              "      <th>dpolegadastotal</th>\n",
              "    </tr>\n",
              "  </thead>\n",
              "  <tbody>\n",
              "    <tr>\n",
              "      <th>0</th>\n",
              "      <td>001L7P</td>\n",
              "      <td>6</td>\n",
              "      <td>2140.0</td>\n",
              "      <td>654.5</td>\n",
              "      <td>18.75</td>\n",
              "    </tr>\n",
              "  </tbody>\n",
              "</table>\n",
              "</div>\n",
              "      <button class=\"colab-df-convert\" onclick=\"convertToInteractive('df-a7b60076-d140-4dcb-a193-1d613f0e8e24')\"\n",
              "              title=\"Convert this dataframe to an interactive table.\"\n",
              "              style=\"display:none;\">\n",
              "        \n",
              "  <svg xmlns=\"http://www.w3.org/2000/svg\" height=\"24px\"viewBox=\"0 0 24 24\"\n",
              "       width=\"24px\">\n",
              "    <path d=\"M0 0h24v24H0V0z\" fill=\"none\"/>\n",
              "    <path d=\"M18.56 5.44l.94 2.06.94-2.06 2.06-.94-2.06-.94-.94-2.06-.94 2.06-2.06.94zm-11 1L8.5 8.5l.94-2.06 2.06-.94-2.06-.94L8.5 2.5l-.94 2.06-2.06.94zm10 10l.94 2.06.94-2.06 2.06-.94-2.06-.94-.94-2.06-.94 2.06-2.06.94z\"/><path d=\"M17.41 7.96l-1.37-1.37c-.4-.4-.92-.59-1.43-.59-.52 0-1.04.2-1.43.59L10.3 9.45l-7.72 7.72c-.78.78-.78 2.05 0 2.83L4 21.41c.39.39.9.59 1.41.59.51 0 1.02-.2 1.41-.59l7.78-7.78 2.81-2.81c.8-.78.8-2.07 0-2.86zM5.41 20L4 18.59l7.72-7.72 1.47 1.35L5.41 20z\"/>\n",
              "  </svg>\n",
              "      </button>\n",
              "      \n",
              "  <style>\n",
              "    .colab-df-container {\n",
              "      display:flex;\n",
              "      flex-wrap:wrap;\n",
              "      gap: 12px;\n",
              "    }\n",
              "\n",
              "    .colab-df-convert {\n",
              "      background-color: #E8F0FE;\n",
              "      border: none;\n",
              "      border-radius: 50%;\n",
              "      cursor: pointer;\n",
              "      display: none;\n",
              "      fill: #1967D2;\n",
              "      height: 32px;\n",
              "      padding: 0 0 0 0;\n",
              "      width: 32px;\n",
              "    }\n",
              "\n",
              "    .colab-df-convert:hover {\n",
              "      background-color: #E2EBFA;\n",
              "      box-shadow: 0px 1px 2px rgba(60, 64, 67, 0.3), 0px 1px 3px 1px rgba(60, 64, 67, 0.15);\n",
              "      fill: #174EA6;\n",
              "    }\n",
              "\n",
              "    [theme=dark] .colab-df-convert {\n",
              "      background-color: #3B4455;\n",
              "      fill: #D2E3FC;\n",
              "    }\n",
              "\n",
              "    [theme=dark] .colab-df-convert:hover {\n",
              "      background-color: #434B5C;\n",
              "      box-shadow: 0px 1px 3px 1px rgba(0, 0, 0, 0.15);\n",
              "      filter: drop-shadow(0px 1px 2px rgba(0, 0, 0, 0.3));\n",
              "      fill: #FFFFFF;\n",
              "    }\n",
              "  </style>\n",
              "\n",
              "      <script>\n",
              "        const buttonEl =\n",
              "          document.querySelector('#df-a7b60076-d140-4dcb-a193-1d613f0e8e24 button.colab-df-convert');\n",
              "        buttonEl.style.display =\n",
              "          google.colab.kernel.accessAllowed ? 'block' : 'none';\n",
              "\n",
              "        async function convertToInteractive(key) {\n",
              "          const element = document.querySelector('#df-a7b60076-d140-4dcb-a193-1d613f0e8e24');\n",
              "          const dataTable =\n",
              "            await google.colab.kernel.invokeFunction('convertToInteractive',\n",
              "                                                     [key], {});\n",
              "          if (!dataTable) return;\n",
              "\n",
              "          const docLinkHtml = 'Like what you see? Visit the ' +\n",
              "            '<a target=\"_blank\" href=https://colab.research.google.com/notebooks/data_table.ipynb>data table notebook</a>'\n",
              "            + ' to learn more about interactive tables.';\n",
              "          element.innerHTML = '';\n",
              "          dataTable['output_type'] = 'display_data';\n",
              "          await google.colab.output.renderOutput(dataTable, element);\n",
              "          const docLink = document.createElement('div');\n",
              "          docLink.innerHTML = docLinkHtml;\n",
              "          element.appendChild(docLink);\n",
              "        }\n",
              "      </script>\n",
              "    </div>\n",
              "  </div>\n",
              "  "
            ]
          },
          "metadata": {},
          "execution_count": 297
        }
      ]
    },
    {
      "cell_type": "markdown",
      "source": [
        "**Visualização dos 4 poços mais similaris com o poço de entrada.**"
      ],
      "metadata": {
        "id": "Z15SM7cKhXGl"
      }
    },
    {
      "cell_type": "code",
      "source": [
        "dados_pocos[[9, 3112, 2, 0], :]"
      ],
      "metadata": {
        "colab": {
          "base_uri": "https://localhost:8080/"
        },
        "id": "cfsXTnC_KXKb",
        "outputId": "157b42a1-cd9f-4291-8e91-d8509d0b0951"
      },
      "execution_count": 299,
      "outputs": [
        {
          "output_type": "execute_result",
          "data": {
            "text/plain": [
              "array([[5.00000000e+00, 2.13200000e+03, 5.65100000e+02, 2.12500000e+01],\n",
              "       [3.00000000e+00, 1.61100000e+03, 3.82000000e+02, 1.99166667e+01],\n",
              "       [1.00000000e+00, 1.12365370e+03, 3.31000000e+02, 1.75000000e+01],\n",
              "       [5.00000000e+00, 2.27000000e+03, 6.57600000e+02, 2.00500000e+01]])"
            ]
          },
          "metadata": {},
          "execution_count": 299
        }
      ]
    },
    {
      "cell_type": "code",
      "source": [
        "dados3.iloc[[14, 3117, 7, 5], :]"
      ],
      "metadata": {
        "colab": {
          "base_uri": "https://localhost:8080/",
          "height": 175
        },
        "id": "XkjAVpnLKwIN",
        "outputId": "093717b5-2a4f-4a29-f573-3c24d019d8e2"
      },
      "execution_count": 300,
      "outputs": [
        {
          "output_type": "execute_result",
          "data": {
            "text/plain": [
              "     nome_poco  nfases        lda  metragem  dpolegadastotal\n",
              "14      01UR62       5  2132.0000     565.1        21.250000\n",
              "3117    ZUSIAU       3  1611.0000     382.0        19.916667\n",
              "7       00WI6A       1  1123.6537     331.0        17.500000\n",
              "5       00OCZ3       5  2270.0000     657.6        20.050000"
            ],
            "text/html": [
              "\n",
              "  <div id=\"df-b6d998bd-e9a3-48f5-bed6-cdcf1facbf3d\">\n",
              "    <div class=\"colab-df-container\">\n",
              "      <div>\n",
              "<style scoped>\n",
              "    .dataframe tbody tr th:only-of-type {\n",
              "        vertical-align: middle;\n",
              "    }\n",
              "\n",
              "    .dataframe tbody tr th {\n",
              "        vertical-align: top;\n",
              "    }\n",
              "\n",
              "    .dataframe thead th {\n",
              "        text-align: right;\n",
              "    }\n",
              "</style>\n",
              "<table border=\"1\" class=\"dataframe\">\n",
              "  <thead>\n",
              "    <tr style=\"text-align: right;\">\n",
              "      <th></th>\n",
              "      <th>nome_poco</th>\n",
              "      <th>nfases</th>\n",
              "      <th>lda</th>\n",
              "      <th>metragem</th>\n",
              "      <th>dpolegadastotal</th>\n",
              "    </tr>\n",
              "  </thead>\n",
              "  <tbody>\n",
              "    <tr>\n",
              "      <th>14</th>\n",
              "      <td>01UR62</td>\n",
              "      <td>5</td>\n",
              "      <td>2132.0000</td>\n",
              "      <td>565.1</td>\n",
              "      <td>21.250000</td>\n",
              "    </tr>\n",
              "    <tr>\n",
              "      <th>3117</th>\n",
              "      <td>ZUSIAU</td>\n",
              "      <td>3</td>\n",
              "      <td>1611.0000</td>\n",
              "      <td>382.0</td>\n",
              "      <td>19.916667</td>\n",
              "    </tr>\n",
              "    <tr>\n",
              "      <th>7</th>\n",
              "      <td>00WI6A</td>\n",
              "      <td>1</td>\n",
              "      <td>1123.6537</td>\n",
              "      <td>331.0</td>\n",
              "      <td>17.500000</td>\n",
              "    </tr>\n",
              "    <tr>\n",
              "      <th>5</th>\n",
              "      <td>00OCZ3</td>\n",
              "      <td>5</td>\n",
              "      <td>2270.0000</td>\n",
              "      <td>657.6</td>\n",
              "      <td>20.050000</td>\n",
              "    </tr>\n",
              "  </tbody>\n",
              "</table>\n",
              "</div>\n",
              "      <button class=\"colab-df-convert\" onclick=\"convertToInteractive('df-b6d998bd-e9a3-48f5-bed6-cdcf1facbf3d')\"\n",
              "              title=\"Convert this dataframe to an interactive table.\"\n",
              "              style=\"display:none;\">\n",
              "        \n",
              "  <svg xmlns=\"http://www.w3.org/2000/svg\" height=\"24px\"viewBox=\"0 0 24 24\"\n",
              "       width=\"24px\">\n",
              "    <path d=\"M0 0h24v24H0V0z\" fill=\"none\"/>\n",
              "    <path d=\"M18.56 5.44l.94 2.06.94-2.06 2.06-.94-2.06-.94-.94-2.06-.94 2.06-2.06.94zm-11 1L8.5 8.5l.94-2.06 2.06-.94-2.06-.94L8.5 2.5l-.94 2.06-2.06.94zm10 10l.94 2.06.94-2.06 2.06-.94-2.06-.94-.94-2.06-.94 2.06-2.06.94z\"/><path d=\"M17.41 7.96l-1.37-1.37c-.4-.4-.92-.59-1.43-.59-.52 0-1.04.2-1.43.59L10.3 9.45l-7.72 7.72c-.78.78-.78 2.05 0 2.83L4 21.41c.39.39.9.59 1.41.59.51 0 1.02-.2 1.41-.59l7.78-7.78 2.81-2.81c.8-.78.8-2.07 0-2.86zM5.41 20L4 18.59l7.72-7.72 1.47 1.35L5.41 20z\"/>\n",
              "  </svg>\n",
              "      </button>\n",
              "      \n",
              "  <style>\n",
              "    .colab-df-container {\n",
              "      display:flex;\n",
              "      flex-wrap:wrap;\n",
              "      gap: 12px;\n",
              "    }\n",
              "\n",
              "    .colab-df-convert {\n",
              "      background-color: #E8F0FE;\n",
              "      border: none;\n",
              "      border-radius: 50%;\n",
              "      cursor: pointer;\n",
              "      display: none;\n",
              "      fill: #1967D2;\n",
              "      height: 32px;\n",
              "      padding: 0 0 0 0;\n",
              "      width: 32px;\n",
              "    }\n",
              "\n",
              "    .colab-df-convert:hover {\n",
              "      background-color: #E2EBFA;\n",
              "      box-shadow: 0px 1px 2px rgba(60, 64, 67, 0.3), 0px 1px 3px 1px rgba(60, 64, 67, 0.15);\n",
              "      fill: #174EA6;\n",
              "    }\n",
              "\n",
              "    [theme=dark] .colab-df-convert {\n",
              "      background-color: #3B4455;\n",
              "      fill: #D2E3FC;\n",
              "    }\n",
              "\n",
              "    [theme=dark] .colab-df-convert:hover {\n",
              "      background-color: #434B5C;\n",
              "      box-shadow: 0px 1px 3px 1px rgba(0, 0, 0, 0.15);\n",
              "      filter: drop-shadow(0px 1px 2px rgba(0, 0, 0, 0.3));\n",
              "      fill: #FFFFFF;\n",
              "    }\n",
              "  </style>\n",
              "\n",
              "      <script>\n",
              "        const buttonEl =\n",
              "          document.querySelector('#df-b6d998bd-e9a3-48f5-bed6-cdcf1facbf3d button.colab-df-convert');\n",
              "        buttonEl.style.display =\n",
              "          google.colab.kernel.accessAllowed ? 'block' : 'none';\n",
              "\n",
              "        async function convertToInteractive(key) {\n",
              "          const element = document.querySelector('#df-b6d998bd-e9a3-48f5-bed6-cdcf1facbf3d');\n",
              "          const dataTable =\n",
              "            await google.colab.kernel.invokeFunction('convertToInteractive',\n",
              "                                                     [key], {});\n",
              "          if (!dataTable) return;\n",
              "\n",
              "          const docLinkHtml = 'Like what you see? Visit the ' +\n",
              "            '<a target=\"_blank\" href=https://colab.research.google.com/notebooks/data_table.ipynb>data table notebook</a>'\n",
              "            + ' to learn more about interactive tables.';\n",
              "          element.innerHTML = '';\n",
              "          dataTable['output_type'] = 'display_data';\n",
              "          await google.colab.output.renderOutput(dataTable, element);\n",
              "          const docLink = document.createElement('div');\n",
              "          docLink.innerHTML = docLinkHtml;\n",
              "          element.appendChild(docLink);\n",
              "        }\n",
              "      </script>\n",
              "    </div>\n",
              "  </div>\n",
              "  "
            ]
          },
          "metadata": {},
          "execution_count": 300
        }
      ]
    },
    {
      "cell_type": "markdown",
      "source": [
        "### **Aplicação do classificador de distância mínima ao centróide (usando a distância euclidiana).**"
      ],
      "metadata": {
        "id": "6aYlmrEyU54N"
      }
    },
    {
      "cell_type": "markdown",
      "source": [
        "**Para a aplicação do algoritmo que será criado, visando encontrar os 4 poços mais correlacionados com o poço a ser dado como entreda (os atributos do poço), os dados serão agrupados pelo nome do poço e pelo número de fases, neste caso daria o mesmo que agrupar só pelo nome do poço, está sendo feita a média das colunas para a aplicação da distância euclidiana, a distância euclidiana é uma medida de distância que busca a menor distância entre dois pontos e pode ser provada pela aplicação repetida do teorema de Pitágoras. Para esse algoritmo a coluna fase também foi excluída, pois decidiu-se não fazer a média das fases e sim deixar a coluna com o número total de fases \"nfases\" no cálculo da distância. NO cálculo das 4 distâncias menores do poço passado (as 4 maiores correlações), serão usados os atributos \"nfases\",\t\"lda\",\t\"metragem\" e\t\"dpolegadastotal\".**"
      ],
      "metadata": {
        "id": "mjQTpIGvV6IE"
      }
    },
    {
      "cell_type": "markdown",
      "source": [
        "**Lista vazia chamada \"conjunto\" para receber a distância euclidiana entre os pontos.**"
      ],
      "metadata": {
        "id": "nFhe7IuyyrP9"
      }
    },
    {
      "cell_type": "code",
      "source": [
        "conjunto = []"
      ],
      "metadata": {
        "id": "yqeaFn_auru_"
      },
      "execution_count": 48,
      "outputs": []
    },
    {
      "cell_type": "markdown",
      "source": [
        "**Loop para aplicar o classificador de mínima distância para obter as 4 maiores correlações.**"
      ],
      "metadata": {
        "id": "0QRSKC8My6BV"
      }
    },
    {
      "cell_type": "code",
      "source": [
        "for i in range(len(dados_pocos)):\n",
        "  dist_ms = np.sqrt(np.sum(np.square((dados_testes.iloc[0:1,0:].to_numpy())-dados_pocos[i])))\n",
        "  conjunto.append(dist_ms)\n",
        "\n",
        "  "
      ],
      "metadata": {
        "id": "Y7oF_TxqXqjv"
      },
      "execution_count": 49,
      "outputs": []
    },
    {
      "cell_type": "markdown",
      "source": [
        "**Transformação de \"conjunto\" em um array numpy.**"
      ],
      "metadata": {
        "id": "CEfEJe4ozMp4"
      }
    },
    {
      "cell_type": "code",
      "source": [
        "A = np.array(conjunto)"
      ],
      "metadata": {
        "id": "fwvV1rXrFItW"
      },
      "execution_count": 50,
      "outputs": []
    },
    {
      "cell_type": "markdown",
      "source": [
        "**Coletando os 4 índices das menores distâncias e os valores das menores distâncias.**"
      ],
      "metadata": {
        "id": "FFg8lZrszXEc"
      }
    },
    {
      "cell_type": "code",
      "source": [
        "k = 4\n",
        "\n",
        "idx = np.argpartition(A, k)[:4]\n",
        "print('Os índices dos 4 poços mais correlacionados são: \\n', idx)\n",
        "print()\n",
        "print('Os 4 poços mais correlacionados tem distância euclidiana de: \\n', A[idx[:k]])"
      ],
      "metadata": {
        "colab": {
          "base_uri": "https://localhost:8080/"
        },
        "id": "tul2gC975XUG",
        "outputId": "e4cc97ea-89b6-4f3b-fc9a-c8af04b08000"
      },
      "execution_count": 51,
      "outputs": [
        {
          "output_type": "stream",
          "name": "stdout",
          "text": [
            "Os índices dos 4 poços mais correlacionados são: \n",
            " [ 228  948  884 2359]\n",
            "\n",
            "Os 4 poços mais correlacionados tem distância euclidiana de: \n",
            " [4.84277813 5.97667661 2.7513633  7.87718224]\n"
          ]
        }
      ]
    },
    {
      "cell_type": "markdown",
      "source": [
        "**Alocando o poço dado como entrada**"
      ],
      "metadata": {
        "id": "mcRepYDVzldt"
      }
    },
    {
      "cell_type": "code",
      "source": [
        "dados_testes.iloc[0:1,0:]"
      ],
      "metadata": {
        "colab": {
          "base_uri": "https://localhost:8080/",
          "height": 81
        },
        "id": "knJ8dSbYKADT",
        "outputId": "854a2263-2d48-4e92-f767-e5dd0548e51e"
      },
      "execution_count": 52,
      "outputs": [
        {
          "output_type": "execute_result",
          "data": {
            "text/plain": [
              "   nfases     lda  metragem  dpolegadastotal\n",
              "0       6  2140.0     654.5            18.75"
            ],
            "text/html": [
              "\n",
              "  <div id=\"df-cd5a18d6-ab8e-48ea-b6e9-1cd3e96e8977\">\n",
              "    <div class=\"colab-df-container\">\n",
              "      <div>\n",
              "<style scoped>\n",
              "    .dataframe tbody tr th:only-of-type {\n",
              "        vertical-align: middle;\n",
              "    }\n",
              "\n",
              "    .dataframe tbody tr th {\n",
              "        vertical-align: top;\n",
              "    }\n",
              "\n",
              "    .dataframe thead th {\n",
              "        text-align: right;\n",
              "    }\n",
              "</style>\n",
              "<table border=\"1\" class=\"dataframe\">\n",
              "  <thead>\n",
              "    <tr style=\"text-align: right;\">\n",
              "      <th></th>\n",
              "      <th>nfases</th>\n",
              "      <th>lda</th>\n",
              "      <th>metragem</th>\n",
              "      <th>dpolegadastotal</th>\n",
              "    </tr>\n",
              "  </thead>\n",
              "  <tbody>\n",
              "    <tr>\n",
              "      <th>0</th>\n",
              "      <td>6</td>\n",
              "      <td>2140.0</td>\n",
              "      <td>654.5</td>\n",
              "      <td>18.75</td>\n",
              "    </tr>\n",
              "  </tbody>\n",
              "</table>\n",
              "</div>\n",
              "      <button class=\"colab-df-convert\" onclick=\"convertToInteractive('df-cd5a18d6-ab8e-48ea-b6e9-1cd3e96e8977')\"\n",
              "              title=\"Convert this dataframe to an interactive table.\"\n",
              "              style=\"display:none;\">\n",
              "        \n",
              "  <svg xmlns=\"http://www.w3.org/2000/svg\" height=\"24px\"viewBox=\"0 0 24 24\"\n",
              "       width=\"24px\">\n",
              "    <path d=\"M0 0h24v24H0V0z\" fill=\"none\"/>\n",
              "    <path d=\"M18.56 5.44l.94 2.06.94-2.06 2.06-.94-2.06-.94-.94-2.06-.94 2.06-2.06.94zm-11 1L8.5 8.5l.94-2.06 2.06-.94-2.06-.94L8.5 2.5l-.94 2.06-2.06.94zm10 10l.94 2.06.94-2.06 2.06-.94-2.06-.94-.94-2.06-.94 2.06-2.06.94z\"/><path d=\"M17.41 7.96l-1.37-1.37c-.4-.4-.92-.59-1.43-.59-.52 0-1.04.2-1.43.59L10.3 9.45l-7.72 7.72c-.78.78-.78 2.05 0 2.83L4 21.41c.39.39.9.59 1.41.59.51 0 1.02-.2 1.41-.59l7.78-7.78 2.81-2.81c.8-.78.8-2.07 0-2.86zM5.41 20L4 18.59l7.72-7.72 1.47 1.35L5.41 20z\"/>\n",
              "  </svg>\n",
              "      </button>\n",
              "      \n",
              "  <style>\n",
              "    .colab-df-container {\n",
              "      display:flex;\n",
              "      flex-wrap:wrap;\n",
              "      gap: 12px;\n",
              "    }\n",
              "\n",
              "    .colab-df-convert {\n",
              "      background-color: #E8F0FE;\n",
              "      border: none;\n",
              "      border-radius: 50%;\n",
              "      cursor: pointer;\n",
              "      display: none;\n",
              "      fill: #1967D2;\n",
              "      height: 32px;\n",
              "      padding: 0 0 0 0;\n",
              "      width: 32px;\n",
              "    }\n",
              "\n",
              "    .colab-df-convert:hover {\n",
              "      background-color: #E2EBFA;\n",
              "      box-shadow: 0px 1px 2px rgba(60, 64, 67, 0.3), 0px 1px 3px 1px rgba(60, 64, 67, 0.15);\n",
              "      fill: #174EA6;\n",
              "    }\n",
              "\n",
              "    [theme=dark] .colab-df-convert {\n",
              "      background-color: #3B4455;\n",
              "      fill: #D2E3FC;\n",
              "    }\n",
              "\n",
              "    [theme=dark] .colab-df-convert:hover {\n",
              "      background-color: #434B5C;\n",
              "      box-shadow: 0px 1px 3px 1px rgba(0, 0, 0, 0.15);\n",
              "      filter: drop-shadow(0px 1px 2px rgba(0, 0, 0, 0.3));\n",
              "      fill: #FFFFFF;\n",
              "    }\n",
              "  </style>\n",
              "\n",
              "      <script>\n",
              "        const buttonEl =\n",
              "          document.querySelector('#df-cd5a18d6-ab8e-48ea-b6e9-1cd3e96e8977 button.colab-df-convert');\n",
              "        buttonEl.style.display =\n",
              "          google.colab.kernel.accessAllowed ? 'block' : 'none';\n",
              "\n",
              "        async function convertToInteractive(key) {\n",
              "          const element = document.querySelector('#df-cd5a18d6-ab8e-48ea-b6e9-1cd3e96e8977');\n",
              "          const dataTable =\n",
              "            await google.colab.kernel.invokeFunction('convertToInteractive',\n",
              "                                                     [key], {});\n",
              "          if (!dataTable) return;\n",
              "\n",
              "          const docLinkHtml = 'Like what you see? Visit the ' +\n",
              "            '<a target=\"_blank\" href=https://colab.research.google.com/notebooks/data_table.ipynb>data table notebook</a>'\n",
              "            + ' to learn more about interactive tables.';\n",
              "          element.innerHTML = '';\n",
              "          dataTable['output_type'] = 'display_data';\n",
              "          await google.colab.output.renderOutput(dataTable, element);\n",
              "          const docLink = document.createElement('div');\n",
              "          docLink.innerHTML = docLinkHtml;\n",
              "          element.appendChild(docLink);\n",
              "        }\n",
              "      </script>\n",
              "    </div>\n",
              "  </div>\n",
              "  "
            ]
          },
          "metadata": {},
          "execution_count": 52
        }
      ]
    },
    {
      "cell_type": "code",
      "source": [
        "dados3.iloc[0:1,:]"
      ],
      "metadata": {
        "colab": {
          "base_uri": "https://localhost:8080/",
          "height": 81
        },
        "id": "QxUZGYGVPabw",
        "outputId": "c71a31f8-1e71-402e-a2f8-947ecd855676"
      },
      "execution_count": 53,
      "outputs": [
        {
          "output_type": "execute_result",
          "data": {
            "text/plain": [
              "  nome_poco  nfases     lda  metragem  dpolegadastotal\n",
              "0    001L7P       6  2140.0     654.5            18.75"
            ],
            "text/html": [
              "\n",
              "  <div id=\"df-a8c5ec1d-be36-4f3f-b4bd-f1ea3f810ae6\">\n",
              "    <div class=\"colab-df-container\">\n",
              "      <div>\n",
              "<style scoped>\n",
              "    .dataframe tbody tr th:only-of-type {\n",
              "        vertical-align: middle;\n",
              "    }\n",
              "\n",
              "    .dataframe tbody tr th {\n",
              "        vertical-align: top;\n",
              "    }\n",
              "\n",
              "    .dataframe thead th {\n",
              "        text-align: right;\n",
              "    }\n",
              "</style>\n",
              "<table border=\"1\" class=\"dataframe\">\n",
              "  <thead>\n",
              "    <tr style=\"text-align: right;\">\n",
              "      <th></th>\n",
              "      <th>nome_poco</th>\n",
              "      <th>nfases</th>\n",
              "      <th>lda</th>\n",
              "      <th>metragem</th>\n",
              "      <th>dpolegadastotal</th>\n",
              "    </tr>\n",
              "  </thead>\n",
              "  <tbody>\n",
              "    <tr>\n",
              "      <th>0</th>\n",
              "      <td>001L7P</td>\n",
              "      <td>6</td>\n",
              "      <td>2140.0</td>\n",
              "      <td>654.5</td>\n",
              "      <td>18.75</td>\n",
              "    </tr>\n",
              "  </tbody>\n",
              "</table>\n",
              "</div>\n",
              "      <button class=\"colab-df-convert\" onclick=\"convertToInteractive('df-a8c5ec1d-be36-4f3f-b4bd-f1ea3f810ae6')\"\n",
              "              title=\"Convert this dataframe to an interactive table.\"\n",
              "              style=\"display:none;\">\n",
              "        \n",
              "  <svg xmlns=\"http://www.w3.org/2000/svg\" height=\"24px\"viewBox=\"0 0 24 24\"\n",
              "       width=\"24px\">\n",
              "    <path d=\"M0 0h24v24H0V0z\" fill=\"none\"/>\n",
              "    <path d=\"M18.56 5.44l.94 2.06.94-2.06 2.06-.94-2.06-.94-.94-2.06-.94 2.06-2.06.94zm-11 1L8.5 8.5l.94-2.06 2.06-.94-2.06-.94L8.5 2.5l-.94 2.06-2.06.94zm10 10l.94 2.06.94-2.06 2.06-.94-2.06-.94-.94-2.06-.94 2.06-2.06.94z\"/><path d=\"M17.41 7.96l-1.37-1.37c-.4-.4-.92-.59-1.43-.59-.52 0-1.04.2-1.43.59L10.3 9.45l-7.72 7.72c-.78.78-.78 2.05 0 2.83L4 21.41c.39.39.9.59 1.41.59.51 0 1.02-.2 1.41-.59l7.78-7.78 2.81-2.81c.8-.78.8-2.07 0-2.86zM5.41 20L4 18.59l7.72-7.72 1.47 1.35L5.41 20z\"/>\n",
              "  </svg>\n",
              "      </button>\n",
              "      \n",
              "  <style>\n",
              "    .colab-df-container {\n",
              "      display:flex;\n",
              "      flex-wrap:wrap;\n",
              "      gap: 12px;\n",
              "    }\n",
              "\n",
              "    .colab-df-convert {\n",
              "      background-color: #E8F0FE;\n",
              "      border: none;\n",
              "      border-radius: 50%;\n",
              "      cursor: pointer;\n",
              "      display: none;\n",
              "      fill: #1967D2;\n",
              "      height: 32px;\n",
              "      padding: 0 0 0 0;\n",
              "      width: 32px;\n",
              "    }\n",
              "\n",
              "    .colab-df-convert:hover {\n",
              "      background-color: #E2EBFA;\n",
              "      box-shadow: 0px 1px 2px rgba(60, 64, 67, 0.3), 0px 1px 3px 1px rgba(60, 64, 67, 0.15);\n",
              "      fill: #174EA6;\n",
              "    }\n",
              "\n",
              "    [theme=dark] .colab-df-convert {\n",
              "      background-color: #3B4455;\n",
              "      fill: #D2E3FC;\n",
              "    }\n",
              "\n",
              "    [theme=dark] .colab-df-convert:hover {\n",
              "      background-color: #434B5C;\n",
              "      box-shadow: 0px 1px 3px 1px rgba(0, 0, 0, 0.15);\n",
              "      filter: drop-shadow(0px 1px 2px rgba(0, 0, 0, 0.3));\n",
              "      fill: #FFFFFF;\n",
              "    }\n",
              "  </style>\n",
              "\n",
              "      <script>\n",
              "        const buttonEl =\n",
              "          document.querySelector('#df-a8c5ec1d-be36-4f3f-b4bd-f1ea3f810ae6 button.colab-df-convert');\n",
              "        buttonEl.style.display =\n",
              "          google.colab.kernel.accessAllowed ? 'block' : 'none';\n",
              "\n",
              "        async function convertToInteractive(key) {\n",
              "          const element = document.querySelector('#df-a8c5ec1d-be36-4f3f-b4bd-f1ea3f810ae6');\n",
              "          const dataTable =\n",
              "            await google.colab.kernel.invokeFunction('convertToInteractive',\n",
              "                                                     [key], {});\n",
              "          if (!dataTable) return;\n",
              "\n",
              "          const docLinkHtml = 'Like what you see? Visit the ' +\n",
              "            '<a target=\"_blank\" href=https://colab.research.google.com/notebooks/data_table.ipynb>data table notebook</a>'\n",
              "            + ' to learn more about interactive tables.';\n",
              "          element.innerHTML = '';\n",
              "          dataTable['output_type'] = 'display_data';\n",
              "          await google.colab.output.renderOutput(dataTable, element);\n",
              "          const docLink = document.createElement('div');\n",
              "          docLink.innerHTML = docLinkHtml;\n",
              "          element.appendChild(docLink);\n",
              "        }\n",
              "      </script>\n",
              "    </div>\n",
              "  </div>\n",
              "  "
            ]
          },
          "metadata": {},
          "execution_count": 53
        }
      ]
    },
    {
      "cell_type": "markdown",
      "source": [
        "**Mostrando os índices, os valores e os nomes dos 4 poços com menores distâncias euclidianas, e assim mais correlacionados, com o poço dado como entrada.**"
      ],
      "metadata": {
        "id": "t9AKkLhMzuXK"
      }
    },
    {
      "cell_type": "code",
      "source": [
        "dados_pocos[[884, 228, 948, 2359], :]"
      ],
      "metadata": {
        "colab": {
          "base_uri": "https://localhost:8080/"
        },
        "id": "JIRCy2AqI78T",
        "outputId": "534ffa5a-c43e-4f96-fb46-ef5c5d30e62e"
      },
      "execution_count": 54,
      "outputs": [
        {
          "output_type": "execute_result",
          "data": {
            "text/plain": [
              "array([[   5.        , 2139.        ,  652.6       ,   20.15      ],\n",
              "       [   5.        , 2136.        ,  653.        ,   20.8       ],\n",
              "       [   7.        , 2144.        ,  658.57142857,   17.28571429],\n",
              "       [   5.        , 2144.        ,  647.8       ,   18.35      ]])"
            ]
          },
          "metadata": {},
          "execution_count": 54
        }
      ]
    },
    {
      "cell_type": "code",
      "source": [
        "dados3.iloc[[889, 233, 953, 2364], :]"
      ],
      "metadata": {
        "colab": {
          "base_uri": "https://localhost:8080/",
          "height": 175
        },
        "id": "kzVstLX7Jbd5",
        "outputId": "eeadf248-6d0f-491d-f1e6-0fc24d51d954"
      },
      "execution_count": 55,
      "outputs": [
        {
          "output_type": "execute_result",
          "data": {
            "text/plain": [
              "     nome_poco  nfases     lda    metragem  dpolegadastotal\n",
              "889     5TN53E       5  2139.0  652.600000        20.150000\n",
              "233     1FPJ3C       5  2136.0  653.000000        20.800000\n",
              "953     65K1WS       7  2144.0  658.571429        17.285714\n",
              "2364    N63S39       5  2144.0  647.800000        18.350000"
            ],
            "text/html": [
              "\n",
              "  <div id=\"df-9e22d815-8569-4bb0-9248-b8ec41aa761b\">\n",
              "    <div class=\"colab-df-container\">\n",
              "      <div>\n",
              "<style scoped>\n",
              "    .dataframe tbody tr th:only-of-type {\n",
              "        vertical-align: middle;\n",
              "    }\n",
              "\n",
              "    .dataframe tbody tr th {\n",
              "        vertical-align: top;\n",
              "    }\n",
              "\n",
              "    .dataframe thead th {\n",
              "        text-align: right;\n",
              "    }\n",
              "</style>\n",
              "<table border=\"1\" class=\"dataframe\">\n",
              "  <thead>\n",
              "    <tr style=\"text-align: right;\">\n",
              "      <th></th>\n",
              "      <th>nome_poco</th>\n",
              "      <th>nfases</th>\n",
              "      <th>lda</th>\n",
              "      <th>metragem</th>\n",
              "      <th>dpolegadastotal</th>\n",
              "    </tr>\n",
              "  </thead>\n",
              "  <tbody>\n",
              "    <tr>\n",
              "      <th>889</th>\n",
              "      <td>5TN53E</td>\n",
              "      <td>5</td>\n",
              "      <td>2139.0</td>\n",
              "      <td>652.600000</td>\n",
              "      <td>20.150000</td>\n",
              "    </tr>\n",
              "    <tr>\n",
              "      <th>233</th>\n",
              "      <td>1FPJ3C</td>\n",
              "      <td>5</td>\n",
              "      <td>2136.0</td>\n",
              "      <td>653.000000</td>\n",
              "      <td>20.800000</td>\n",
              "    </tr>\n",
              "    <tr>\n",
              "      <th>953</th>\n",
              "      <td>65K1WS</td>\n",
              "      <td>7</td>\n",
              "      <td>2144.0</td>\n",
              "      <td>658.571429</td>\n",
              "      <td>17.285714</td>\n",
              "    </tr>\n",
              "    <tr>\n",
              "      <th>2364</th>\n",
              "      <td>N63S39</td>\n",
              "      <td>5</td>\n",
              "      <td>2144.0</td>\n",
              "      <td>647.800000</td>\n",
              "      <td>18.350000</td>\n",
              "    </tr>\n",
              "  </tbody>\n",
              "</table>\n",
              "</div>\n",
              "      <button class=\"colab-df-convert\" onclick=\"convertToInteractive('df-9e22d815-8569-4bb0-9248-b8ec41aa761b')\"\n",
              "              title=\"Convert this dataframe to an interactive table.\"\n",
              "              style=\"display:none;\">\n",
              "        \n",
              "  <svg xmlns=\"http://www.w3.org/2000/svg\" height=\"24px\"viewBox=\"0 0 24 24\"\n",
              "       width=\"24px\">\n",
              "    <path d=\"M0 0h24v24H0V0z\" fill=\"none\"/>\n",
              "    <path d=\"M18.56 5.44l.94 2.06.94-2.06 2.06-.94-2.06-.94-.94-2.06-.94 2.06-2.06.94zm-11 1L8.5 8.5l.94-2.06 2.06-.94-2.06-.94L8.5 2.5l-.94 2.06-2.06.94zm10 10l.94 2.06.94-2.06 2.06-.94-2.06-.94-.94-2.06-.94 2.06-2.06.94z\"/><path d=\"M17.41 7.96l-1.37-1.37c-.4-.4-.92-.59-1.43-.59-.52 0-1.04.2-1.43.59L10.3 9.45l-7.72 7.72c-.78.78-.78 2.05 0 2.83L4 21.41c.39.39.9.59 1.41.59.51 0 1.02-.2 1.41-.59l7.78-7.78 2.81-2.81c.8-.78.8-2.07 0-2.86zM5.41 20L4 18.59l7.72-7.72 1.47 1.35L5.41 20z\"/>\n",
              "  </svg>\n",
              "      </button>\n",
              "      \n",
              "  <style>\n",
              "    .colab-df-container {\n",
              "      display:flex;\n",
              "      flex-wrap:wrap;\n",
              "      gap: 12px;\n",
              "    }\n",
              "\n",
              "    .colab-df-convert {\n",
              "      background-color: #E8F0FE;\n",
              "      border: none;\n",
              "      border-radius: 50%;\n",
              "      cursor: pointer;\n",
              "      display: none;\n",
              "      fill: #1967D2;\n",
              "      height: 32px;\n",
              "      padding: 0 0 0 0;\n",
              "      width: 32px;\n",
              "    }\n",
              "\n",
              "    .colab-df-convert:hover {\n",
              "      background-color: #E2EBFA;\n",
              "      box-shadow: 0px 1px 2px rgba(60, 64, 67, 0.3), 0px 1px 3px 1px rgba(60, 64, 67, 0.15);\n",
              "      fill: #174EA6;\n",
              "    }\n",
              "\n",
              "    [theme=dark] .colab-df-convert {\n",
              "      background-color: #3B4455;\n",
              "      fill: #D2E3FC;\n",
              "    }\n",
              "\n",
              "    [theme=dark] .colab-df-convert:hover {\n",
              "      background-color: #434B5C;\n",
              "      box-shadow: 0px 1px 3px 1px rgba(0, 0, 0, 0.15);\n",
              "      filter: drop-shadow(0px 1px 2px rgba(0, 0, 0, 0.3));\n",
              "      fill: #FFFFFF;\n",
              "    }\n",
              "  </style>\n",
              "\n",
              "      <script>\n",
              "        const buttonEl =\n",
              "          document.querySelector('#df-9e22d815-8569-4bb0-9248-b8ec41aa761b button.colab-df-convert');\n",
              "        buttonEl.style.display =\n",
              "          google.colab.kernel.accessAllowed ? 'block' : 'none';\n",
              "\n",
              "        async function convertToInteractive(key) {\n",
              "          const element = document.querySelector('#df-9e22d815-8569-4bb0-9248-b8ec41aa761b');\n",
              "          const dataTable =\n",
              "            await google.colab.kernel.invokeFunction('convertToInteractive',\n",
              "                                                     [key], {});\n",
              "          if (!dataTable) return;\n",
              "\n",
              "          const docLinkHtml = 'Like what you see? Visit the ' +\n",
              "            '<a target=\"_blank\" href=https://colab.research.google.com/notebooks/data_table.ipynb>data table notebook</a>'\n",
              "            + ' to learn more about interactive tables.';\n",
              "          element.innerHTML = '';\n",
              "          dataTable['output_type'] = 'display_data';\n",
              "          await google.colab.output.renderOutput(dataTable, element);\n",
              "          const docLink = document.createElement('div');\n",
              "          docLink.innerHTML = docLinkHtml;\n",
              "          element.appendChild(docLink);\n",
              "        }\n",
              "      </script>\n",
              "    </div>\n",
              "  </div>\n",
              "  "
            ]
          },
          "metadata": {},
          "execution_count": 55
        }
      ]
    },
    {
      "cell_type": "markdown",
      "source": [
        "**Os índices da distância euclidiana e da similaridade por cosseno não foram iguais, pois têm diferenças no modo de cálculo, além de que a distância euclidiana é ua medida de dissimilaridade, enquanto o cosseno é uma medida de similaridade. Além de que alguns valores dos índices da similaridade cosseno estavam bem próximos, e o classificador pode ter pegado os índices bem parecidos também com índices de praticamente os mesmos valores, com diferença na casa de micro ou nano (10⁻6 ou 10⁻9).**"
      ],
      "metadata": {
        "id": "QfXiWDMHiZJD"
      }
    },
    {
      "cell_type": "markdown",
      "source": [
        "### **Aplicação de algoritmos de classificação para identificação de qual é o tipo de poço.**"
      ],
      "metadata": {
        "id": "ZotydCn-R6Gc"
      }
    },
    {
      "cell_type": "markdown",
      "source": [
        "**Dados utilizados na classificação do tipo de poço**"
      ],
      "metadata": {
        "id": "RBMaArxiRVBC"
      }
    },
    {
      "cell_type": "code",
      "source": [
        "dados_classificadores.head()"
      ],
      "metadata": {
        "colab": {
          "base_uri": "https://localhost:8080/",
          "height": 270
        },
        "id": "CHTMn9VXJPAe",
        "outputId": "1faeac78-6cd3-43e4-ab4f-104be78611dd"
      },
      "execution_count": 56,
      "outputs": [
        {
          "output_type": "execute_result",
          "data": {
            "text/plain": [
              "   id nome_poco  fase tipo_poco    lda diametro_fase  metragem  nfases  \\\n",
              "0   0    6C5G4M     1  VERTICAL  598.0            26     607.0       4   \n",
              "1   1    6C5G4M     2  VERTICAL  598.0        17 1/2    1306.0       4   \n",
              "2   2    6C5G4M     3  VERTICAL  598.0        12 1/4    1201.0       4   \n",
              "3   3    6C5G4M     4  VERTICAL  598.0         8 1/2    1445.0       4   \n",
              "4   4    8030JC     1  VERTICAL    0.0        17 1/2     410.0       3   \n",
              "\n",
              "   diametro_inteiro diametro_decimal_texto  diametro_decimal1  \\\n",
              "0              26.0                   None                NaN   \n",
              "1              17.0                    1/2                1.0   \n",
              "2              12.0                    1/4                1.0   \n",
              "3               8.0                    1/2                1.0   \n",
              "4              17.0                    1/2                1.0   \n",
              "\n",
              "   diametro_decimal2  diametro_decimal_total  dpolegadastotal  \n",
              "0                NaN                    0.00            26.00  \n",
              "1                2.0                    0.50            17.50  \n",
              "2                4.0                    0.25            12.25  \n",
              "3                2.0                    0.50             8.50  \n",
              "4                2.0                    0.50            17.50  "
            ],
            "text/html": [
              "\n",
              "  <div id=\"df-36195c8e-3271-4455-9327-2928c2b6c5bb\">\n",
              "    <div class=\"colab-df-container\">\n",
              "      <div>\n",
              "<style scoped>\n",
              "    .dataframe tbody tr th:only-of-type {\n",
              "        vertical-align: middle;\n",
              "    }\n",
              "\n",
              "    .dataframe tbody tr th {\n",
              "        vertical-align: top;\n",
              "    }\n",
              "\n",
              "    .dataframe thead th {\n",
              "        text-align: right;\n",
              "    }\n",
              "</style>\n",
              "<table border=\"1\" class=\"dataframe\">\n",
              "  <thead>\n",
              "    <tr style=\"text-align: right;\">\n",
              "      <th></th>\n",
              "      <th>id</th>\n",
              "      <th>nome_poco</th>\n",
              "      <th>fase</th>\n",
              "      <th>tipo_poco</th>\n",
              "      <th>lda</th>\n",
              "      <th>diametro_fase</th>\n",
              "      <th>metragem</th>\n",
              "      <th>nfases</th>\n",
              "      <th>diametro_inteiro</th>\n",
              "      <th>diametro_decimal_texto</th>\n",
              "      <th>diametro_decimal1</th>\n",
              "      <th>diametro_decimal2</th>\n",
              "      <th>diametro_decimal_total</th>\n",
              "      <th>dpolegadastotal</th>\n",
              "    </tr>\n",
              "  </thead>\n",
              "  <tbody>\n",
              "    <tr>\n",
              "      <th>0</th>\n",
              "      <td>0</td>\n",
              "      <td>6C5G4M</td>\n",
              "      <td>1</td>\n",
              "      <td>VERTICAL</td>\n",
              "      <td>598.0</td>\n",
              "      <td>26</td>\n",
              "      <td>607.0</td>\n",
              "      <td>4</td>\n",
              "      <td>26.0</td>\n",
              "      <td>None</td>\n",
              "      <td>NaN</td>\n",
              "      <td>NaN</td>\n",
              "      <td>0.00</td>\n",
              "      <td>26.00</td>\n",
              "    </tr>\n",
              "    <tr>\n",
              "      <th>1</th>\n",
              "      <td>1</td>\n",
              "      <td>6C5G4M</td>\n",
              "      <td>2</td>\n",
              "      <td>VERTICAL</td>\n",
              "      <td>598.0</td>\n",
              "      <td>17 1/2</td>\n",
              "      <td>1306.0</td>\n",
              "      <td>4</td>\n",
              "      <td>17.0</td>\n",
              "      <td>1/2</td>\n",
              "      <td>1.0</td>\n",
              "      <td>2.0</td>\n",
              "      <td>0.50</td>\n",
              "      <td>17.50</td>\n",
              "    </tr>\n",
              "    <tr>\n",
              "      <th>2</th>\n",
              "      <td>2</td>\n",
              "      <td>6C5G4M</td>\n",
              "      <td>3</td>\n",
              "      <td>VERTICAL</td>\n",
              "      <td>598.0</td>\n",
              "      <td>12 1/4</td>\n",
              "      <td>1201.0</td>\n",
              "      <td>4</td>\n",
              "      <td>12.0</td>\n",
              "      <td>1/4</td>\n",
              "      <td>1.0</td>\n",
              "      <td>4.0</td>\n",
              "      <td>0.25</td>\n",
              "      <td>12.25</td>\n",
              "    </tr>\n",
              "    <tr>\n",
              "      <th>3</th>\n",
              "      <td>3</td>\n",
              "      <td>6C5G4M</td>\n",
              "      <td>4</td>\n",
              "      <td>VERTICAL</td>\n",
              "      <td>598.0</td>\n",
              "      <td>8 1/2</td>\n",
              "      <td>1445.0</td>\n",
              "      <td>4</td>\n",
              "      <td>8.0</td>\n",
              "      <td>1/2</td>\n",
              "      <td>1.0</td>\n",
              "      <td>2.0</td>\n",
              "      <td>0.50</td>\n",
              "      <td>8.50</td>\n",
              "    </tr>\n",
              "    <tr>\n",
              "      <th>4</th>\n",
              "      <td>4</td>\n",
              "      <td>8030JC</td>\n",
              "      <td>1</td>\n",
              "      <td>VERTICAL</td>\n",
              "      <td>0.0</td>\n",
              "      <td>17 1/2</td>\n",
              "      <td>410.0</td>\n",
              "      <td>3</td>\n",
              "      <td>17.0</td>\n",
              "      <td>1/2</td>\n",
              "      <td>1.0</td>\n",
              "      <td>2.0</td>\n",
              "      <td>0.50</td>\n",
              "      <td>17.50</td>\n",
              "    </tr>\n",
              "  </tbody>\n",
              "</table>\n",
              "</div>\n",
              "      <button class=\"colab-df-convert\" onclick=\"convertToInteractive('df-36195c8e-3271-4455-9327-2928c2b6c5bb')\"\n",
              "              title=\"Convert this dataframe to an interactive table.\"\n",
              "              style=\"display:none;\">\n",
              "        \n",
              "  <svg xmlns=\"http://www.w3.org/2000/svg\" height=\"24px\"viewBox=\"0 0 24 24\"\n",
              "       width=\"24px\">\n",
              "    <path d=\"M0 0h24v24H0V0z\" fill=\"none\"/>\n",
              "    <path d=\"M18.56 5.44l.94 2.06.94-2.06 2.06-.94-2.06-.94-.94-2.06-.94 2.06-2.06.94zm-11 1L8.5 8.5l.94-2.06 2.06-.94-2.06-.94L8.5 2.5l-.94 2.06-2.06.94zm10 10l.94 2.06.94-2.06 2.06-.94-2.06-.94-.94-2.06-.94 2.06-2.06.94z\"/><path d=\"M17.41 7.96l-1.37-1.37c-.4-.4-.92-.59-1.43-.59-.52 0-1.04.2-1.43.59L10.3 9.45l-7.72 7.72c-.78.78-.78 2.05 0 2.83L4 21.41c.39.39.9.59 1.41.59.51 0 1.02-.2 1.41-.59l7.78-7.78 2.81-2.81c.8-.78.8-2.07 0-2.86zM5.41 20L4 18.59l7.72-7.72 1.47 1.35L5.41 20z\"/>\n",
              "  </svg>\n",
              "      </button>\n",
              "      \n",
              "  <style>\n",
              "    .colab-df-container {\n",
              "      display:flex;\n",
              "      flex-wrap:wrap;\n",
              "      gap: 12px;\n",
              "    }\n",
              "\n",
              "    .colab-df-convert {\n",
              "      background-color: #E8F0FE;\n",
              "      border: none;\n",
              "      border-radius: 50%;\n",
              "      cursor: pointer;\n",
              "      display: none;\n",
              "      fill: #1967D2;\n",
              "      height: 32px;\n",
              "      padding: 0 0 0 0;\n",
              "      width: 32px;\n",
              "    }\n",
              "\n",
              "    .colab-df-convert:hover {\n",
              "      background-color: #E2EBFA;\n",
              "      box-shadow: 0px 1px 2px rgba(60, 64, 67, 0.3), 0px 1px 3px 1px rgba(60, 64, 67, 0.15);\n",
              "      fill: #174EA6;\n",
              "    }\n",
              "\n",
              "    [theme=dark] .colab-df-convert {\n",
              "      background-color: #3B4455;\n",
              "      fill: #D2E3FC;\n",
              "    }\n",
              "\n",
              "    [theme=dark] .colab-df-convert:hover {\n",
              "      background-color: #434B5C;\n",
              "      box-shadow: 0px 1px 3px 1px rgba(0, 0, 0, 0.15);\n",
              "      filter: drop-shadow(0px 1px 2px rgba(0, 0, 0, 0.3));\n",
              "      fill: #FFFFFF;\n",
              "    }\n",
              "  </style>\n",
              "\n",
              "      <script>\n",
              "        const buttonEl =\n",
              "          document.querySelector('#df-36195c8e-3271-4455-9327-2928c2b6c5bb button.colab-df-convert');\n",
              "        buttonEl.style.display =\n",
              "          google.colab.kernel.accessAllowed ? 'block' : 'none';\n",
              "\n",
              "        async function convertToInteractive(key) {\n",
              "          const element = document.querySelector('#df-36195c8e-3271-4455-9327-2928c2b6c5bb');\n",
              "          const dataTable =\n",
              "            await google.colab.kernel.invokeFunction('convertToInteractive',\n",
              "                                                     [key], {});\n",
              "          if (!dataTable) return;\n",
              "\n",
              "          const docLinkHtml = 'Like what you see? Visit the ' +\n",
              "            '<a target=\"_blank\" href=https://colab.research.google.com/notebooks/data_table.ipynb>data table notebook</a>'\n",
              "            + ' to learn more about interactive tables.';\n",
              "          element.innerHTML = '';\n",
              "          dataTable['output_type'] = 'display_data';\n",
              "          await google.colab.output.renderOutput(dataTable, element);\n",
              "          const docLink = document.createElement('div');\n",
              "          docLink.innerHTML = docLinkHtml;\n",
              "          element.appendChild(docLink);\n",
              "        }\n",
              "      </script>\n",
              "    </div>\n",
              "  </div>\n",
              "  "
            ]
          },
          "metadata": {},
          "execution_count": 56
        }
      ]
    },
    {
      "cell_type": "markdown",
      "source": [
        "**Excluindo algumas colunas que não seram usadas como atributos na classificação do tipo de poço**"
      ],
      "metadata": {
        "id": "BkOIC5D7RdAN"
      }
    },
    {
      "cell_type": "code",
      "source": [
        "dados_classificadores.drop(['id', 'diametro_fase', 'diametro_inteiro', 'diametro_decimal_texto',  'diametro_decimal1', \n",
        "             'diametro_decimal2', 'diametro_decimal_total', 'fase'],  axis=1, inplace=True)"
      ],
      "metadata": {
        "id": "_TnNW9OAebWU"
      },
      "execution_count": 57,
      "outputs": []
    },
    {
      "cell_type": "code",
      "source": [
        "dados_classificadores.head()"
      ],
      "metadata": {
        "colab": {
          "base_uri": "https://localhost:8080/",
          "height": 206
        },
        "id": "WEYXi9W3e4iw",
        "outputId": "b71cfe45-7d1a-4616-a0d2-4e7f310bbf35"
      },
      "execution_count": 58,
      "outputs": [
        {
          "output_type": "execute_result",
          "data": {
            "text/plain": [
              "  nome_poco tipo_poco    lda  metragem  nfases  dpolegadastotal\n",
              "0    6C5G4M  VERTICAL  598.0     607.0       4            26.00\n",
              "1    6C5G4M  VERTICAL  598.0    1306.0       4            17.50\n",
              "2    6C5G4M  VERTICAL  598.0    1201.0       4            12.25\n",
              "3    6C5G4M  VERTICAL  598.0    1445.0       4             8.50\n",
              "4    8030JC  VERTICAL    0.0     410.0       3            17.50"
            ],
            "text/html": [
              "\n",
              "  <div id=\"df-d59be302-d7a3-4582-8bef-cdd957c5d23b\">\n",
              "    <div class=\"colab-df-container\">\n",
              "      <div>\n",
              "<style scoped>\n",
              "    .dataframe tbody tr th:only-of-type {\n",
              "        vertical-align: middle;\n",
              "    }\n",
              "\n",
              "    .dataframe tbody tr th {\n",
              "        vertical-align: top;\n",
              "    }\n",
              "\n",
              "    .dataframe thead th {\n",
              "        text-align: right;\n",
              "    }\n",
              "</style>\n",
              "<table border=\"1\" class=\"dataframe\">\n",
              "  <thead>\n",
              "    <tr style=\"text-align: right;\">\n",
              "      <th></th>\n",
              "      <th>nome_poco</th>\n",
              "      <th>tipo_poco</th>\n",
              "      <th>lda</th>\n",
              "      <th>metragem</th>\n",
              "      <th>nfases</th>\n",
              "      <th>dpolegadastotal</th>\n",
              "    </tr>\n",
              "  </thead>\n",
              "  <tbody>\n",
              "    <tr>\n",
              "      <th>0</th>\n",
              "      <td>6C5G4M</td>\n",
              "      <td>VERTICAL</td>\n",
              "      <td>598.0</td>\n",
              "      <td>607.0</td>\n",
              "      <td>4</td>\n",
              "      <td>26.00</td>\n",
              "    </tr>\n",
              "    <tr>\n",
              "      <th>1</th>\n",
              "      <td>6C5G4M</td>\n",
              "      <td>VERTICAL</td>\n",
              "      <td>598.0</td>\n",
              "      <td>1306.0</td>\n",
              "      <td>4</td>\n",
              "      <td>17.50</td>\n",
              "    </tr>\n",
              "    <tr>\n",
              "      <th>2</th>\n",
              "      <td>6C5G4M</td>\n",
              "      <td>VERTICAL</td>\n",
              "      <td>598.0</td>\n",
              "      <td>1201.0</td>\n",
              "      <td>4</td>\n",
              "      <td>12.25</td>\n",
              "    </tr>\n",
              "    <tr>\n",
              "      <th>3</th>\n",
              "      <td>6C5G4M</td>\n",
              "      <td>VERTICAL</td>\n",
              "      <td>598.0</td>\n",
              "      <td>1445.0</td>\n",
              "      <td>4</td>\n",
              "      <td>8.50</td>\n",
              "    </tr>\n",
              "    <tr>\n",
              "      <th>4</th>\n",
              "      <td>8030JC</td>\n",
              "      <td>VERTICAL</td>\n",
              "      <td>0.0</td>\n",
              "      <td>410.0</td>\n",
              "      <td>3</td>\n",
              "      <td>17.50</td>\n",
              "    </tr>\n",
              "  </tbody>\n",
              "</table>\n",
              "</div>\n",
              "      <button class=\"colab-df-convert\" onclick=\"convertToInteractive('df-d59be302-d7a3-4582-8bef-cdd957c5d23b')\"\n",
              "              title=\"Convert this dataframe to an interactive table.\"\n",
              "              style=\"display:none;\">\n",
              "        \n",
              "  <svg xmlns=\"http://www.w3.org/2000/svg\" height=\"24px\"viewBox=\"0 0 24 24\"\n",
              "       width=\"24px\">\n",
              "    <path d=\"M0 0h24v24H0V0z\" fill=\"none\"/>\n",
              "    <path d=\"M18.56 5.44l.94 2.06.94-2.06 2.06-.94-2.06-.94-.94-2.06-.94 2.06-2.06.94zm-11 1L8.5 8.5l.94-2.06 2.06-.94-2.06-.94L8.5 2.5l-.94 2.06-2.06.94zm10 10l.94 2.06.94-2.06 2.06-.94-2.06-.94-.94-2.06-.94 2.06-2.06.94z\"/><path d=\"M17.41 7.96l-1.37-1.37c-.4-.4-.92-.59-1.43-.59-.52 0-1.04.2-1.43.59L10.3 9.45l-7.72 7.72c-.78.78-.78 2.05 0 2.83L4 21.41c.39.39.9.59 1.41.59.51 0 1.02-.2 1.41-.59l7.78-7.78 2.81-2.81c.8-.78.8-2.07 0-2.86zM5.41 20L4 18.59l7.72-7.72 1.47 1.35L5.41 20z\"/>\n",
              "  </svg>\n",
              "      </button>\n",
              "      \n",
              "  <style>\n",
              "    .colab-df-container {\n",
              "      display:flex;\n",
              "      flex-wrap:wrap;\n",
              "      gap: 12px;\n",
              "    }\n",
              "\n",
              "    .colab-df-convert {\n",
              "      background-color: #E8F0FE;\n",
              "      border: none;\n",
              "      border-radius: 50%;\n",
              "      cursor: pointer;\n",
              "      display: none;\n",
              "      fill: #1967D2;\n",
              "      height: 32px;\n",
              "      padding: 0 0 0 0;\n",
              "      width: 32px;\n",
              "    }\n",
              "\n",
              "    .colab-df-convert:hover {\n",
              "      background-color: #E2EBFA;\n",
              "      box-shadow: 0px 1px 2px rgba(60, 64, 67, 0.3), 0px 1px 3px 1px rgba(60, 64, 67, 0.15);\n",
              "      fill: #174EA6;\n",
              "    }\n",
              "\n",
              "    [theme=dark] .colab-df-convert {\n",
              "      background-color: #3B4455;\n",
              "      fill: #D2E3FC;\n",
              "    }\n",
              "\n",
              "    [theme=dark] .colab-df-convert:hover {\n",
              "      background-color: #434B5C;\n",
              "      box-shadow: 0px 1px 3px 1px rgba(0, 0, 0, 0.15);\n",
              "      filter: drop-shadow(0px 1px 2px rgba(0, 0, 0, 0.3));\n",
              "      fill: #FFFFFF;\n",
              "    }\n",
              "  </style>\n",
              "\n",
              "      <script>\n",
              "        const buttonEl =\n",
              "          document.querySelector('#df-d59be302-d7a3-4582-8bef-cdd957c5d23b button.colab-df-convert');\n",
              "        buttonEl.style.display =\n",
              "          google.colab.kernel.accessAllowed ? 'block' : 'none';\n",
              "\n",
              "        async function convertToInteractive(key) {\n",
              "          const element = document.querySelector('#df-d59be302-d7a3-4582-8bef-cdd957c5d23b');\n",
              "          const dataTable =\n",
              "            await google.colab.kernel.invokeFunction('convertToInteractive',\n",
              "                                                     [key], {});\n",
              "          if (!dataTable) return;\n",
              "\n",
              "          const docLinkHtml = 'Like what you see? Visit the ' +\n",
              "            '<a target=\"_blank\" href=https://colab.research.google.com/notebooks/data_table.ipynb>data table notebook</a>'\n",
              "            + ' to learn more about interactive tables.';\n",
              "          element.innerHTML = '';\n",
              "          dataTable['output_type'] = 'display_data';\n",
              "          await google.colab.output.renderOutput(dataTable, element);\n",
              "          const docLink = document.createElement('div');\n",
              "          docLink.innerHTML = docLinkHtml;\n",
              "          element.appendChild(docLink);\n",
              "        }\n",
              "      </script>\n",
              "    </div>\n",
              "  </div>\n",
              "  "
            ]
          },
          "metadata": {},
          "execution_count": 58
        }
      ]
    },
    {
      "cell_type": "code",
      "source": [
        "dados_classificadores.shape"
      ],
      "metadata": {
        "colab": {
          "base_uri": "https://localhost:8080/"
        },
        "id": "1ckDfFCTfnTS",
        "outputId": "66090485-9879-49e9-f070-11dea526d691"
      },
      "execution_count": 59,
      "outputs": [
        {
          "output_type": "execute_result",
          "data": {
            "text/plain": [
              "(10649, 6)"
            ]
          },
          "metadata": {},
          "execution_count": 59
        }
      ]
    },
    {
      "cell_type": "markdown",
      "source": [
        "**Excluindo as linhas zerdas da coluna \"tipo_poco\".**"
      ],
      "metadata": {
        "id": "sRDy7xx_RpmC"
      }
    },
    {
      "cell_type": "code",
      "source": [
        "indexzeros_classificadores = dados_classificadores[dados_classificadores['tipo_poco'] == '0'].index"
      ],
      "metadata": {
        "id": "7MS789G8kA4j"
      },
      "execution_count": 60,
      "outputs": []
    },
    {
      "cell_type": "code",
      "source": [
        "dados_classificadores.drop(indexzeros_classificadores , inplace=True)"
      ],
      "metadata": {
        "id": "Mwd8jiIikcS7"
      },
      "execution_count": 61,
      "outputs": []
    },
    {
      "cell_type": "markdown",
      "source": [
        "**Visualização do número de linhas zeradas nas colunas \"lda\", \"metragem\" e \"dpolegadastotal\". Preferiu-se não excluir as linhas, como já mencionado anteriormente, e sim fazer o agrupamento e a média ser feita pelo tipo de poço.**"
      ],
      "metadata": {
        "id": "N-vViqCSR6U2"
      }
    },
    {
      "cell_type": "code",
      "source": [
        "dados_classificadores[dados_classificadores['lda']==0].count()"
      ],
      "metadata": {
        "colab": {
          "base_uri": "https://localhost:8080/"
        },
        "id": "O9CYzt-9TKvW",
        "outputId": "9084b2b6-774b-4e7e-daf5-d01029b5ea69"
      },
      "execution_count": 62,
      "outputs": [
        {
          "output_type": "execute_result",
          "data": {
            "text/plain": [
              "nome_poco          125\n",
              "tipo_poco          125\n",
              "lda                125\n",
              "metragem           125\n",
              "nfases             125\n",
              "dpolegadastotal    125\n",
              "dtype: int64"
            ]
          },
          "metadata": {},
          "execution_count": 62
        }
      ]
    },
    {
      "cell_type": "code",
      "source": [
        "dados_classificadores[dados_classificadores['metragem']==0].count()"
      ],
      "metadata": {
        "colab": {
          "base_uri": "https://localhost:8080/"
        },
        "id": "QXtb4jr6T1Be",
        "outputId": "ff266ac7-55b2-4004-d575-be5561c73da2"
      },
      "execution_count": 63,
      "outputs": [
        {
          "output_type": "execute_result",
          "data": {
            "text/plain": [
              "nome_poco          480\n",
              "tipo_poco          480\n",
              "lda                480\n",
              "metragem           480\n",
              "nfases             480\n",
              "dpolegadastotal    480\n",
              "dtype: int64"
            ]
          },
          "metadata": {},
          "execution_count": 63
        }
      ]
    },
    {
      "cell_type": "code",
      "source": [
        "dados_classificadores[dados_classificadores['dpolegadastotal']==0].count()"
      ],
      "metadata": {
        "colab": {
          "base_uri": "https://localhost:8080/"
        },
        "id": "_dG8kbDxUXSr",
        "outputId": "5c10c337-a24c-4d0c-962a-26919c8f8d70"
      },
      "execution_count": 64,
      "outputs": [
        {
          "output_type": "execute_result",
          "data": {
            "text/plain": [
              "nome_poco          7\n",
              "tipo_poco          7\n",
              "lda                7\n",
              "metragem           7\n",
              "nfases             7\n",
              "dpolegadastotal    7\n",
              "dtype: int64"
            ]
          },
          "metadata": {},
          "execution_count": 64
        }
      ]
    },
    {
      "cell_type": "markdown",
      "source": [
        "**Tipos de poços depois da exclusão das linhas zeradas da coluna \"tipo_poco\".**"
      ],
      "metadata": {
        "id": "WG4XDFStSaTg"
      }
    },
    {
      "cell_type": "code",
      "source": [
        "dados_classificadores['tipo_poco'].value_counts()"
      ],
      "metadata": {
        "colab": {
          "base_uri": "https://localhost:8080/"
        },
        "id": "AnaFnRPYkt7R",
        "outputId": "55564b13-d504-4bd8-9c8b-d583f0652870"
      },
      "execution_count": 65,
      "outputs": [
        {
          "output_type": "execute_result",
          "data": {
            "text/plain": [
              "VERTICAL      4971\n",
              "DIRECIONAL    3812\n",
              "HORIZONTAL    1715\n",
              "Name: tipo_poco, dtype: int64"
            ]
          },
          "metadata": {},
          "execution_count": 65
        }
      ]
    },
    {
      "cell_type": "markdown",
      "source": [
        "**Agrupando o dataset pelas colunas 'tipo_poco', 'nome_poco' e 'nfases'.**"
      ],
      "metadata": {
        "id": "X1LfFySlSstl"
      }
    },
    {
      "cell_type": "code",
      "source": [
        "dados_cf=dados_classificadores.groupby(['tipo_poco','nome_poco', 'nfases']).mean().reset_index()\n",
        "dados_cf.head()\n"
      ],
      "metadata": {
        "colab": {
          "base_uri": "https://localhost:8080/",
          "height": 206
        },
        "id": "5-YkTbIWi_Cq",
        "outputId": "afb78759-8286-452d-fc79-5598b5265be7"
      },
      "execution_count": 67,
      "outputs": [
        {
          "output_type": "execute_result",
          "data": {
            "text/plain": [
              "    tipo_poco nome_poco  nfases     lda    metragem  dpolegadastotal\n",
              "0  DIRECIONAL    0089FG       2  1723.0  920.500000        16.125000\n",
              "1  DIRECIONAL    00WI6A       1     0.0  331.000000        17.500000\n",
              "2  DIRECIONAL    00X532       6    81.0  628.000000        17.958333\n",
              "3  DIRECIONAL    017EU1       4   307.0  830.500000        16.062500\n",
              "4  DIRECIONAL    01MVWL       3  1120.0  823.666667        12.750000"
            ],
            "text/html": [
              "\n",
              "  <div id=\"df-af08fc66-6c67-4384-9f13-4cae206e07fb\">\n",
              "    <div class=\"colab-df-container\">\n",
              "      <div>\n",
              "<style scoped>\n",
              "    .dataframe tbody tr th:only-of-type {\n",
              "        vertical-align: middle;\n",
              "    }\n",
              "\n",
              "    .dataframe tbody tr th {\n",
              "        vertical-align: top;\n",
              "    }\n",
              "\n",
              "    .dataframe thead th {\n",
              "        text-align: right;\n",
              "    }\n",
              "</style>\n",
              "<table border=\"1\" class=\"dataframe\">\n",
              "  <thead>\n",
              "    <tr style=\"text-align: right;\">\n",
              "      <th></th>\n",
              "      <th>tipo_poco</th>\n",
              "      <th>nome_poco</th>\n",
              "      <th>nfases</th>\n",
              "      <th>lda</th>\n",
              "      <th>metragem</th>\n",
              "      <th>dpolegadastotal</th>\n",
              "    </tr>\n",
              "  </thead>\n",
              "  <tbody>\n",
              "    <tr>\n",
              "      <th>0</th>\n",
              "      <td>DIRECIONAL</td>\n",
              "      <td>0089FG</td>\n",
              "      <td>2</td>\n",
              "      <td>1723.0</td>\n",
              "      <td>920.500000</td>\n",
              "      <td>16.125000</td>\n",
              "    </tr>\n",
              "    <tr>\n",
              "      <th>1</th>\n",
              "      <td>DIRECIONAL</td>\n",
              "      <td>00WI6A</td>\n",
              "      <td>1</td>\n",
              "      <td>0.0</td>\n",
              "      <td>331.000000</td>\n",
              "      <td>17.500000</td>\n",
              "    </tr>\n",
              "    <tr>\n",
              "      <th>2</th>\n",
              "      <td>DIRECIONAL</td>\n",
              "      <td>00X532</td>\n",
              "      <td>6</td>\n",
              "      <td>81.0</td>\n",
              "      <td>628.000000</td>\n",
              "      <td>17.958333</td>\n",
              "    </tr>\n",
              "    <tr>\n",
              "      <th>3</th>\n",
              "      <td>DIRECIONAL</td>\n",
              "      <td>017EU1</td>\n",
              "      <td>4</td>\n",
              "      <td>307.0</td>\n",
              "      <td>830.500000</td>\n",
              "      <td>16.062500</td>\n",
              "    </tr>\n",
              "    <tr>\n",
              "      <th>4</th>\n",
              "      <td>DIRECIONAL</td>\n",
              "      <td>01MVWL</td>\n",
              "      <td>3</td>\n",
              "      <td>1120.0</td>\n",
              "      <td>823.666667</td>\n",
              "      <td>12.750000</td>\n",
              "    </tr>\n",
              "  </tbody>\n",
              "</table>\n",
              "</div>\n",
              "      <button class=\"colab-df-convert\" onclick=\"convertToInteractive('df-af08fc66-6c67-4384-9f13-4cae206e07fb')\"\n",
              "              title=\"Convert this dataframe to an interactive table.\"\n",
              "              style=\"display:none;\">\n",
              "        \n",
              "  <svg xmlns=\"http://www.w3.org/2000/svg\" height=\"24px\"viewBox=\"0 0 24 24\"\n",
              "       width=\"24px\">\n",
              "    <path d=\"M0 0h24v24H0V0z\" fill=\"none\"/>\n",
              "    <path d=\"M18.56 5.44l.94 2.06.94-2.06 2.06-.94-2.06-.94-.94-2.06-.94 2.06-2.06.94zm-11 1L8.5 8.5l.94-2.06 2.06-.94-2.06-.94L8.5 2.5l-.94 2.06-2.06.94zm10 10l.94 2.06.94-2.06 2.06-.94-2.06-.94-.94-2.06-.94 2.06-2.06.94z\"/><path d=\"M17.41 7.96l-1.37-1.37c-.4-.4-.92-.59-1.43-.59-.52 0-1.04.2-1.43.59L10.3 9.45l-7.72 7.72c-.78.78-.78 2.05 0 2.83L4 21.41c.39.39.9.59 1.41.59.51 0 1.02-.2 1.41-.59l7.78-7.78 2.81-2.81c.8-.78.8-2.07 0-2.86zM5.41 20L4 18.59l7.72-7.72 1.47 1.35L5.41 20z\"/>\n",
              "  </svg>\n",
              "      </button>\n",
              "      \n",
              "  <style>\n",
              "    .colab-df-container {\n",
              "      display:flex;\n",
              "      flex-wrap:wrap;\n",
              "      gap: 12px;\n",
              "    }\n",
              "\n",
              "    .colab-df-convert {\n",
              "      background-color: #E8F0FE;\n",
              "      border: none;\n",
              "      border-radius: 50%;\n",
              "      cursor: pointer;\n",
              "      display: none;\n",
              "      fill: #1967D2;\n",
              "      height: 32px;\n",
              "      padding: 0 0 0 0;\n",
              "      width: 32px;\n",
              "    }\n",
              "\n",
              "    .colab-df-convert:hover {\n",
              "      background-color: #E2EBFA;\n",
              "      box-shadow: 0px 1px 2px rgba(60, 64, 67, 0.3), 0px 1px 3px 1px rgba(60, 64, 67, 0.15);\n",
              "      fill: #174EA6;\n",
              "    }\n",
              "\n",
              "    [theme=dark] .colab-df-convert {\n",
              "      background-color: #3B4455;\n",
              "      fill: #D2E3FC;\n",
              "    }\n",
              "\n",
              "    [theme=dark] .colab-df-convert:hover {\n",
              "      background-color: #434B5C;\n",
              "      box-shadow: 0px 1px 3px 1px rgba(0, 0, 0, 0.15);\n",
              "      filter: drop-shadow(0px 1px 2px rgba(0, 0, 0, 0.3));\n",
              "      fill: #FFFFFF;\n",
              "    }\n",
              "  </style>\n",
              "\n",
              "      <script>\n",
              "        const buttonEl =\n",
              "          document.querySelector('#df-af08fc66-6c67-4384-9f13-4cae206e07fb button.colab-df-convert');\n",
              "        buttonEl.style.display =\n",
              "          google.colab.kernel.accessAllowed ? 'block' : 'none';\n",
              "\n",
              "        async function convertToInteractive(key) {\n",
              "          const element = document.querySelector('#df-af08fc66-6c67-4384-9f13-4cae206e07fb');\n",
              "          const dataTable =\n",
              "            await google.colab.kernel.invokeFunction('convertToInteractive',\n",
              "                                                     [key], {});\n",
              "          if (!dataTable) return;\n",
              "\n",
              "          const docLinkHtml = 'Like what you see? Visit the ' +\n",
              "            '<a target=\"_blank\" href=https://colab.research.google.com/notebooks/data_table.ipynb>data table notebook</a>'\n",
              "            + ' to learn more about interactive tables.';\n",
              "          element.innerHTML = '';\n",
              "          dataTable['output_type'] = 'display_data';\n",
              "          await google.colab.output.renderOutput(dataTable, element);\n",
              "          const docLink = document.createElement('div');\n",
              "          docLink.innerHTML = docLinkHtml;\n",
              "          element.appendChild(docLink);\n",
              "        }\n",
              "      </script>\n",
              "    </div>\n",
              "  </div>\n",
              "  "
            ]
          },
          "metadata": {},
          "execution_count": 67
        }
      ]
    },
    {
      "cell_type": "code",
      "source": [
        "dados_cf.shape"
      ],
      "metadata": {
        "colab": {
          "base_uri": "https://localhost:8080/"
        },
        "id": "OjQlFnA9lGPi",
        "outputId": "4f2e170d-da0f-4861-d3d5-f87713296ce6"
      },
      "execution_count": 68,
      "outputs": [
        {
          "output_type": "execute_result",
          "data": {
            "text/plain": [
              "(3120, 6)"
            ]
          },
          "metadata": {},
          "execution_count": 68
        }
      ]
    },
    {
      "cell_type": "markdown",
      "source": [
        "**Fazendo o encoder da coluna \"tipo_poco\", que será a coluna de classes (target).**"
      ],
      "metadata": {
        "id": "HS-DvssBTCQJ"
      }
    },
    {
      "cell_type": "code",
      "source": [
        "label_encoder_tipo_poco = LabelEncoder()"
      ],
      "metadata": {
        "id": "Cq-I4ydQlhjO"
      },
      "execution_count": 69,
      "outputs": []
    },
    {
      "cell_type": "code",
      "source": [
        "dados_cf['tipo_poco']= label_encoder_tipo_poco.fit_transform(dados_cf['tipo_poco'])\n"
      ],
      "metadata": {
        "id": "Qd_oDUhll0M-"
      },
      "execution_count": 70,
      "outputs": []
    },
    {
      "cell_type": "code",
      "source": [
        "dados_cf.head()"
      ],
      "metadata": {
        "colab": {
          "base_uri": "https://localhost:8080/",
          "height": 206
        },
        "id": "9zCVAoXAmGYe",
        "outputId": "acf9d0f8-6502-4844-8daf-ae29fd7a8f1f"
      },
      "execution_count": null,
      "outputs": [
        {
          "output_type": "execute_result",
          "data": {
            "text/plain": [
              "   tipo_poco nome_poco  nfases     lda    metragem  dpolegadastotal\n",
              "0          0    0089FG       2  1723.0  920.500000        16.125000\n",
              "1          0    00WI6A       1     0.0  331.000000        17.500000\n",
              "2          0    00X532       6    81.0  628.000000        17.958333\n",
              "3          0    017EU1       4   307.0  830.500000        16.062500\n",
              "4          0    01MVWL       3  1120.0  823.666667        12.750000"
            ],
            "text/html": [
              "\n",
              "  <div id=\"df-c1e24606-bd20-4109-b33f-3cc4789bb8a4\">\n",
              "    <div class=\"colab-df-container\">\n",
              "      <div>\n",
              "<style scoped>\n",
              "    .dataframe tbody tr th:only-of-type {\n",
              "        vertical-align: middle;\n",
              "    }\n",
              "\n",
              "    .dataframe tbody tr th {\n",
              "        vertical-align: top;\n",
              "    }\n",
              "\n",
              "    .dataframe thead th {\n",
              "        text-align: right;\n",
              "    }\n",
              "</style>\n",
              "<table border=\"1\" class=\"dataframe\">\n",
              "  <thead>\n",
              "    <tr style=\"text-align: right;\">\n",
              "      <th></th>\n",
              "      <th>tipo_poco</th>\n",
              "      <th>nome_poco</th>\n",
              "      <th>nfases</th>\n",
              "      <th>lda</th>\n",
              "      <th>metragem</th>\n",
              "      <th>dpolegadastotal</th>\n",
              "    </tr>\n",
              "  </thead>\n",
              "  <tbody>\n",
              "    <tr>\n",
              "      <th>0</th>\n",
              "      <td>0</td>\n",
              "      <td>0089FG</td>\n",
              "      <td>2</td>\n",
              "      <td>1723.0</td>\n",
              "      <td>920.500000</td>\n",
              "      <td>16.125000</td>\n",
              "    </tr>\n",
              "    <tr>\n",
              "      <th>1</th>\n",
              "      <td>0</td>\n",
              "      <td>00WI6A</td>\n",
              "      <td>1</td>\n",
              "      <td>0.0</td>\n",
              "      <td>331.000000</td>\n",
              "      <td>17.500000</td>\n",
              "    </tr>\n",
              "    <tr>\n",
              "      <th>2</th>\n",
              "      <td>0</td>\n",
              "      <td>00X532</td>\n",
              "      <td>6</td>\n",
              "      <td>81.0</td>\n",
              "      <td>628.000000</td>\n",
              "      <td>17.958333</td>\n",
              "    </tr>\n",
              "    <tr>\n",
              "      <th>3</th>\n",
              "      <td>0</td>\n",
              "      <td>017EU1</td>\n",
              "      <td>4</td>\n",
              "      <td>307.0</td>\n",
              "      <td>830.500000</td>\n",
              "      <td>16.062500</td>\n",
              "    </tr>\n",
              "    <tr>\n",
              "      <th>4</th>\n",
              "      <td>0</td>\n",
              "      <td>01MVWL</td>\n",
              "      <td>3</td>\n",
              "      <td>1120.0</td>\n",
              "      <td>823.666667</td>\n",
              "      <td>12.750000</td>\n",
              "    </tr>\n",
              "  </tbody>\n",
              "</table>\n",
              "</div>\n",
              "      <button class=\"colab-df-convert\" onclick=\"convertToInteractive('df-c1e24606-bd20-4109-b33f-3cc4789bb8a4')\"\n",
              "              title=\"Convert this dataframe to an interactive table.\"\n",
              "              style=\"display:none;\">\n",
              "        \n",
              "  <svg xmlns=\"http://www.w3.org/2000/svg\" height=\"24px\"viewBox=\"0 0 24 24\"\n",
              "       width=\"24px\">\n",
              "    <path d=\"M0 0h24v24H0V0z\" fill=\"none\"/>\n",
              "    <path d=\"M18.56 5.44l.94 2.06.94-2.06 2.06-.94-2.06-.94-.94-2.06-.94 2.06-2.06.94zm-11 1L8.5 8.5l.94-2.06 2.06-.94-2.06-.94L8.5 2.5l-.94 2.06-2.06.94zm10 10l.94 2.06.94-2.06 2.06-.94-2.06-.94-.94-2.06-.94 2.06-2.06.94z\"/><path d=\"M17.41 7.96l-1.37-1.37c-.4-.4-.92-.59-1.43-.59-.52 0-1.04.2-1.43.59L10.3 9.45l-7.72 7.72c-.78.78-.78 2.05 0 2.83L4 21.41c.39.39.9.59 1.41.59.51 0 1.02-.2 1.41-.59l7.78-7.78 2.81-2.81c.8-.78.8-2.07 0-2.86zM5.41 20L4 18.59l7.72-7.72 1.47 1.35L5.41 20z\"/>\n",
              "  </svg>\n",
              "      </button>\n",
              "      \n",
              "  <style>\n",
              "    .colab-df-container {\n",
              "      display:flex;\n",
              "      flex-wrap:wrap;\n",
              "      gap: 12px;\n",
              "    }\n",
              "\n",
              "    .colab-df-convert {\n",
              "      background-color: #E8F0FE;\n",
              "      border: none;\n",
              "      border-radius: 50%;\n",
              "      cursor: pointer;\n",
              "      display: none;\n",
              "      fill: #1967D2;\n",
              "      height: 32px;\n",
              "      padding: 0 0 0 0;\n",
              "      width: 32px;\n",
              "    }\n",
              "\n",
              "    .colab-df-convert:hover {\n",
              "      background-color: #E2EBFA;\n",
              "      box-shadow: 0px 1px 2px rgba(60, 64, 67, 0.3), 0px 1px 3px 1px rgba(60, 64, 67, 0.15);\n",
              "      fill: #174EA6;\n",
              "    }\n",
              "\n",
              "    [theme=dark] .colab-df-convert {\n",
              "      background-color: #3B4455;\n",
              "      fill: #D2E3FC;\n",
              "    }\n",
              "\n",
              "    [theme=dark] .colab-df-convert:hover {\n",
              "      background-color: #434B5C;\n",
              "      box-shadow: 0px 1px 3px 1px rgba(0, 0, 0, 0.15);\n",
              "      filter: drop-shadow(0px 1px 2px rgba(0, 0, 0, 0.3));\n",
              "      fill: #FFFFFF;\n",
              "    }\n",
              "  </style>\n",
              "\n",
              "      <script>\n",
              "        const buttonEl =\n",
              "          document.querySelector('#df-c1e24606-bd20-4109-b33f-3cc4789bb8a4 button.colab-df-convert');\n",
              "        buttonEl.style.display =\n",
              "          google.colab.kernel.accessAllowed ? 'block' : 'none';\n",
              "\n",
              "        async function convertToInteractive(key) {\n",
              "          const element = document.querySelector('#df-c1e24606-bd20-4109-b33f-3cc4789bb8a4');\n",
              "          const dataTable =\n",
              "            await google.colab.kernel.invokeFunction('convertToInteractive',\n",
              "                                                     [key], {});\n",
              "          if (!dataTable) return;\n",
              "\n",
              "          const docLinkHtml = 'Like what you see? Visit the ' +\n",
              "            '<a target=\"_blank\" href=https://colab.research.google.com/notebooks/data_table.ipynb>data table notebook</a>'\n",
              "            + ' to learn more about interactive tables.';\n",
              "          element.innerHTML = '';\n",
              "          dataTable['output_type'] = 'display_data';\n",
              "          await google.colab.output.renderOutput(dataTable, element);\n",
              "          const docLink = document.createElement('div');\n",
              "          docLink.innerHTML = docLinkHtml;\n",
              "          element.appendChild(docLink);\n",
              "        }\n",
              "      </script>\n",
              "    </div>\n",
              "  </div>\n",
              "  "
            ]
          },
          "metadata": {},
          "execution_count": 79
        }
      ]
    },
    {
      "cell_type": "markdown",
      "source": [
        "**Valores de 0 a 2 para a coluna \"tipo_poco\", ois são 3 classes**"
      ],
      "metadata": {
        "id": "82YNlINcTTuB"
      }
    },
    {
      "cell_type": "code",
      "source": [
        "dados_cf['tipo_poco'].unique()"
      ],
      "metadata": {
        "colab": {
          "base_uri": "https://localhost:8080/"
        },
        "id": "M_fYhH64mPNw",
        "outputId": "bdfa48ea-3543-424f-b25a-b14aed8956e4"
      },
      "execution_count": null,
      "outputs": [
        {
          "output_type": "execute_result",
          "data": {
            "text/plain": [
              "array([0, 1, 2])"
            ]
          },
          "metadata": {},
          "execution_count": 80
        }
      ]
    },
    {
      "cell_type": "code",
      "source": [
        "dados_cf['tipo_poco'].value_counts()"
      ],
      "metadata": {
        "colab": {
          "base_uri": "https://localhost:8080/"
        },
        "id": "6HmW4PfHmYMj",
        "outputId": "901954bb-3dfa-4616-e8aa-750f2021aacd"
      },
      "execution_count": null,
      "outputs": [
        {
          "output_type": "execute_result",
          "data": {
            "text/plain": [
              "2    1240\n",
              "0    1117\n",
              "1     763\n",
              "Name: tipo_poco, dtype: int64"
            ]
          },
          "metadata": {},
          "execution_count": 81
        }
      ]
    },
    {
      "cell_type": "code",
      "source": [
        "dados_cf.shape"
      ],
      "metadata": {
        "colab": {
          "base_uri": "https://localhost:8080/"
        },
        "id": "6SifmzLTm231",
        "outputId": "5b7287a8-dc07-4ad2-bd93-9b71d73bfbbd"
      },
      "execution_count": null,
      "outputs": [
        {
          "output_type": "execute_result",
          "data": {
            "text/plain": [
              "(3120, 6)"
            ]
          },
          "metadata": {},
          "execution_count": 82
        }
      ]
    },
    {
      "cell_type": "markdown",
      "source": [
        "**Substituição das linhas zeradas restantes depois do agrupamento nas colunas \"lda\" e \"metragem\", pode-se perceber que a coluna \"dpolegadastotal\" não apresentou mais linhas zeradas após o agrupamento.** "
      ],
      "metadata": {
        "id": "Mt__zS9bTexX"
      }
    },
    {
      "cell_type": "code",
      "source": [
        "dados_cf[dados_cf['lda']==0].count()"
      ],
      "metadata": {
        "colab": {
          "base_uri": "https://localhost:8080/"
        },
        "id": "c8IVWwtjV0P1",
        "outputId": "49157535-efdf-4a52-e6f0-53a15622dccf"
      },
      "execution_count": null,
      "outputs": [
        {
          "output_type": "execute_result",
          "data": {
            "text/plain": [
              "tipo_poco          53\n",
              "nome_poco          53\n",
              "nfases             53\n",
              "lda                53\n",
              "metragem           53\n",
              "dpolegadastotal    53\n",
              "dtype: int64"
            ]
          },
          "metadata": {},
          "execution_count": 83
        }
      ]
    },
    {
      "cell_type": "code",
      "source": [
        "dados_cf['lda'][dados_cf['lda'] > 0].mean()"
      ],
      "metadata": {
        "colab": {
          "base_uri": "https://localhost:8080/"
        },
        "id": "l4atU5PfW77-",
        "outputId": "a36ba35f-7a97-4936-bbe6-75899da3ae6c"
      },
      "execution_count": 71,
      "outputs": [
        {
          "output_type": "execute_result",
          "data": {
            "text/plain": [
              "1123.6537006847082"
            ]
          },
          "metadata": {},
          "execution_count": 71
        }
      ]
    },
    {
      "cell_type": "code",
      "source": [
        "dados_cf.loc[dados_cf['lda'] ==0, 'lda'] = 1123.65370"
      ],
      "metadata": {
        "id": "aL3jKMbqXb5g"
      },
      "execution_count": 72,
      "outputs": []
    },
    {
      "cell_type": "code",
      "source": [
        "dados_cf.loc[dados_cf['lda'] == 0]"
      ],
      "metadata": {
        "colab": {
          "base_uri": "https://localhost:8080/",
          "height": 49
        },
        "id": "FNamArsgX2tE",
        "outputId": "ea81508f-ea79-4963-c50a-d99138807822"
      },
      "execution_count": null,
      "outputs": [
        {
          "output_type": "execute_result",
          "data": {
            "text/plain": [
              "Empty DataFrame\n",
              "Columns: [tipo_poco, nome_poco, nfases, lda, metragem, dpolegadastotal]\n",
              "Index: []"
            ],
            "text/html": [
              "\n",
              "  <div id=\"df-86b6489d-9bb4-4454-9cdb-09dff0355bad\">\n",
              "    <div class=\"colab-df-container\">\n",
              "      <div>\n",
              "<style scoped>\n",
              "    .dataframe tbody tr th:only-of-type {\n",
              "        vertical-align: middle;\n",
              "    }\n",
              "\n",
              "    .dataframe tbody tr th {\n",
              "        vertical-align: top;\n",
              "    }\n",
              "\n",
              "    .dataframe thead th {\n",
              "        text-align: right;\n",
              "    }\n",
              "</style>\n",
              "<table border=\"1\" class=\"dataframe\">\n",
              "  <thead>\n",
              "    <tr style=\"text-align: right;\">\n",
              "      <th></th>\n",
              "      <th>tipo_poco</th>\n",
              "      <th>nome_poco</th>\n",
              "      <th>nfases</th>\n",
              "      <th>lda</th>\n",
              "      <th>metragem</th>\n",
              "      <th>dpolegadastotal</th>\n",
              "    </tr>\n",
              "  </thead>\n",
              "  <tbody>\n",
              "  </tbody>\n",
              "</table>\n",
              "</div>\n",
              "      <button class=\"colab-df-convert\" onclick=\"convertToInteractive('df-86b6489d-9bb4-4454-9cdb-09dff0355bad')\"\n",
              "              title=\"Convert this dataframe to an interactive table.\"\n",
              "              style=\"display:none;\">\n",
              "        \n",
              "  <svg xmlns=\"http://www.w3.org/2000/svg\" height=\"24px\"viewBox=\"0 0 24 24\"\n",
              "       width=\"24px\">\n",
              "    <path d=\"M0 0h24v24H0V0z\" fill=\"none\"/>\n",
              "    <path d=\"M18.56 5.44l.94 2.06.94-2.06 2.06-.94-2.06-.94-.94-2.06-.94 2.06-2.06.94zm-11 1L8.5 8.5l.94-2.06 2.06-.94-2.06-.94L8.5 2.5l-.94 2.06-2.06.94zm10 10l.94 2.06.94-2.06 2.06-.94-2.06-.94-.94-2.06-.94 2.06-2.06.94z\"/><path d=\"M17.41 7.96l-1.37-1.37c-.4-.4-.92-.59-1.43-.59-.52 0-1.04.2-1.43.59L10.3 9.45l-7.72 7.72c-.78.78-.78 2.05 0 2.83L4 21.41c.39.39.9.59 1.41.59.51 0 1.02-.2 1.41-.59l7.78-7.78 2.81-2.81c.8-.78.8-2.07 0-2.86zM5.41 20L4 18.59l7.72-7.72 1.47 1.35L5.41 20z\"/>\n",
              "  </svg>\n",
              "      </button>\n",
              "      \n",
              "  <style>\n",
              "    .colab-df-container {\n",
              "      display:flex;\n",
              "      flex-wrap:wrap;\n",
              "      gap: 12px;\n",
              "    }\n",
              "\n",
              "    .colab-df-convert {\n",
              "      background-color: #E8F0FE;\n",
              "      border: none;\n",
              "      border-radius: 50%;\n",
              "      cursor: pointer;\n",
              "      display: none;\n",
              "      fill: #1967D2;\n",
              "      height: 32px;\n",
              "      padding: 0 0 0 0;\n",
              "      width: 32px;\n",
              "    }\n",
              "\n",
              "    .colab-df-convert:hover {\n",
              "      background-color: #E2EBFA;\n",
              "      box-shadow: 0px 1px 2px rgba(60, 64, 67, 0.3), 0px 1px 3px 1px rgba(60, 64, 67, 0.15);\n",
              "      fill: #174EA6;\n",
              "    }\n",
              "\n",
              "    [theme=dark] .colab-df-convert {\n",
              "      background-color: #3B4455;\n",
              "      fill: #D2E3FC;\n",
              "    }\n",
              "\n",
              "    [theme=dark] .colab-df-convert:hover {\n",
              "      background-color: #434B5C;\n",
              "      box-shadow: 0px 1px 3px 1px rgba(0, 0, 0, 0.15);\n",
              "      filter: drop-shadow(0px 1px 2px rgba(0, 0, 0, 0.3));\n",
              "      fill: #FFFFFF;\n",
              "    }\n",
              "  </style>\n",
              "\n",
              "      <script>\n",
              "        const buttonEl =\n",
              "          document.querySelector('#df-86b6489d-9bb4-4454-9cdb-09dff0355bad button.colab-df-convert');\n",
              "        buttonEl.style.display =\n",
              "          google.colab.kernel.accessAllowed ? 'block' : 'none';\n",
              "\n",
              "        async function convertToInteractive(key) {\n",
              "          const element = document.querySelector('#df-86b6489d-9bb4-4454-9cdb-09dff0355bad');\n",
              "          const dataTable =\n",
              "            await google.colab.kernel.invokeFunction('convertToInteractive',\n",
              "                                                     [key], {});\n",
              "          if (!dataTable) return;\n",
              "\n",
              "          const docLinkHtml = 'Like what you see? Visit the ' +\n",
              "            '<a target=\"_blank\" href=https://colab.research.google.com/notebooks/data_table.ipynb>data table notebook</a>'\n",
              "            + ' to learn more about interactive tables.';\n",
              "          element.innerHTML = '';\n",
              "          dataTable['output_type'] = 'display_data';\n",
              "          await google.colab.output.renderOutput(dataTable, element);\n",
              "          const docLink = document.createElement('div');\n",
              "          docLink.innerHTML = docLinkHtml;\n",
              "          element.appendChild(docLink);\n",
              "        }\n",
              "      </script>\n",
              "    </div>\n",
              "  </div>\n",
              "  "
            ]
          },
          "metadata": {},
          "execution_count": 86
        }
      ]
    },
    {
      "cell_type": "code",
      "source": [
        "dados_cf[dados_cf['dpolegadastotal']==0].count()"
      ],
      "metadata": {
        "colab": {
          "base_uri": "https://localhost:8080/"
        },
        "id": "HvykhJfNV1-4",
        "outputId": "6af05b6b-070a-43c2-f267-f0de94f7904e"
      },
      "execution_count": null,
      "outputs": [
        {
          "output_type": "execute_result",
          "data": {
            "text/plain": [
              "tipo_poco          0\n",
              "nome_poco          0\n",
              "nfases             0\n",
              "lda                0\n",
              "metragem           0\n",
              "dpolegadastotal    0\n",
              "dtype: int64"
            ]
          },
          "metadata": {},
          "execution_count": 87
        }
      ]
    },
    {
      "cell_type": "code",
      "source": [
        "dados_cf[dados_cf['metragem']==0].count()"
      ],
      "metadata": {
        "colab": {
          "base_uri": "https://localhost:8080/"
        },
        "id": "bf9etf19WEi5",
        "outputId": "849c9646-00cd-4304-edab-798b673df9b1"
      },
      "execution_count": null,
      "outputs": [
        {
          "output_type": "execute_result",
          "data": {
            "text/plain": [
              "tipo_poco          5\n",
              "nome_poco          5\n",
              "nfases             5\n",
              "lda                5\n",
              "metragem           5\n",
              "dpolegadastotal    5\n",
              "dtype: int64"
            ]
          },
          "metadata": {},
          "execution_count": 88
        }
      ]
    },
    {
      "cell_type": "code",
      "source": [
        "dados_cf['metragem'][dados_cf['metragem'] > 0].median()"
      ],
      "metadata": {
        "colab": {
          "base_uri": "https://localhost:8080/"
        },
        "id": "QJSoFqOGYOLo",
        "outputId": "2f707bb8-96a9-4d51-ca08-de61ad7769f7"
      },
      "execution_count": null,
      "outputs": [
        {
          "output_type": "execute_result",
          "data": {
            "text/plain": [
              "692.5"
            ]
          },
          "metadata": {},
          "execution_count": 89
        }
      ]
    },
    {
      "cell_type": "code",
      "source": [
        "dados_cf.loc[dados_cf['metragem'] ==0, 'metragem'] = 692.5"
      ],
      "metadata": {
        "id": "BpBNp23mZFxR"
      },
      "execution_count": 73,
      "outputs": []
    },
    {
      "cell_type": "code",
      "source": [
        "dados_cf.loc[dados_cf['metragem'] == 0]"
      ],
      "metadata": {
        "colab": {
          "base_uri": "https://localhost:8080/",
          "height": 49
        },
        "id": "OmfFqGPGZUs0",
        "outputId": "ab8a9456-e8a1-4455-e1d7-14fcff22a7ac"
      },
      "execution_count": null,
      "outputs": [
        {
          "output_type": "execute_result",
          "data": {
            "text/plain": [
              "Empty DataFrame\n",
              "Columns: [tipo_poco, nome_poco, nfases, lda, metragem, dpolegadastotal]\n",
              "Index: []"
            ],
            "text/html": [
              "\n",
              "  <div id=\"df-704c9759-d736-43a4-90ea-453d423a0146\">\n",
              "    <div class=\"colab-df-container\">\n",
              "      <div>\n",
              "<style scoped>\n",
              "    .dataframe tbody tr th:only-of-type {\n",
              "        vertical-align: middle;\n",
              "    }\n",
              "\n",
              "    .dataframe tbody tr th {\n",
              "        vertical-align: top;\n",
              "    }\n",
              "\n",
              "    .dataframe thead th {\n",
              "        text-align: right;\n",
              "    }\n",
              "</style>\n",
              "<table border=\"1\" class=\"dataframe\">\n",
              "  <thead>\n",
              "    <tr style=\"text-align: right;\">\n",
              "      <th></th>\n",
              "      <th>tipo_poco</th>\n",
              "      <th>nome_poco</th>\n",
              "      <th>nfases</th>\n",
              "      <th>lda</th>\n",
              "      <th>metragem</th>\n",
              "      <th>dpolegadastotal</th>\n",
              "    </tr>\n",
              "  </thead>\n",
              "  <tbody>\n",
              "  </tbody>\n",
              "</table>\n",
              "</div>\n",
              "      <button class=\"colab-df-convert\" onclick=\"convertToInteractive('df-704c9759-d736-43a4-90ea-453d423a0146')\"\n",
              "              title=\"Convert this dataframe to an interactive table.\"\n",
              "              style=\"display:none;\">\n",
              "        \n",
              "  <svg xmlns=\"http://www.w3.org/2000/svg\" height=\"24px\"viewBox=\"0 0 24 24\"\n",
              "       width=\"24px\">\n",
              "    <path d=\"M0 0h24v24H0V0z\" fill=\"none\"/>\n",
              "    <path d=\"M18.56 5.44l.94 2.06.94-2.06 2.06-.94-2.06-.94-.94-2.06-.94 2.06-2.06.94zm-11 1L8.5 8.5l.94-2.06 2.06-.94-2.06-.94L8.5 2.5l-.94 2.06-2.06.94zm10 10l.94 2.06.94-2.06 2.06-.94-2.06-.94-.94-2.06-.94 2.06-2.06.94z\"/><path d=\"M17.41 7.96l-1.37-1.37c-.4-.4-.92-.59-1.43-.59-.52 0-1.04.2-1.43.59L10.3 9.45l-7.72 7.72c-.78.78-.78 2.05 0 2.83L4 21.41c.39.39.9.59 1.41.59.51 0 1.02-.2 1.41-.59l7.78-7.78 2.81-2.81c.8-.78.8-2.07 0-2.86zM5.41 20L4 18.59l7.72-7.72 1.47 1.35L5.41 20z\"/>\n",
              "  </svg>\n",
              "      </button>\n",
              "      \n",
              "  <style>\n",
              "    .colab-df-container {\n",
              "      display:flex;\n",
              "      flex-wrap:wrap;\n",
              "      gap: 12px;\n",
              "    }\n",
              "\n",
              "    .colab-df-convert {\n",
              "      background-color: #E8F0FE;\n",
              "      border: none;\n",
              "      border-radius: 50%;\n",
              "      cursor: pointer;\n",
              "      display: none;\n",
              "      fill: #1967D2;\n",
              "      height: 32px;\n",
              "      padding: 0 0 0 0;\n",
              "      width: 32px;\n",
              "    }\n",
              "\n",
              "    .colab-df-convert:hover {\n",
              "      background-color: #E2EBFA;\n",
              "      box-shadow: 0px 1px 2px rgba(60, 64, 67, 0.3), 0px 1px 3px 1px rgba(60, 64, 67, 0.15);\n",
              "      fill: #174EA6;\n",
              "    }\n",
              "\n",
              "    [theme=dark] .colab-df-convert {\n",
              "      background-color: #3B4455;\n",
              "      fill: #D2E3FC;\n",
              "    }\n",
              "\n",
              "    [theme=dark] .colab-df-convert:hover {\n",
              "      background-color: #434B5C;\n",
              "      box-shadow: 0px 1px 3px 1px rgba(0, 0, 0, 0.15);\n",
              "      filter: drop-shadow(0px 1px 2px rgba(0, 0, 0, 0.3));\n",
              "      fill: #FFFFFF;\n",
              "    }\n",
              "  </style>\n",
              "\n",
              "      <script>\n",
              "        const buttonEl =\n",
              "          document.querySelector('#df-704c9759-d736-43a4-90ea-453d423a0146 button.colab-df-convert');\n",
              "        buttonEl.style.display =\n",
              "          google.colab.kernel.accessAllowed ? 'block' : 'none';\n",
              "\n",
              "        async function convertToInteractive(key) {\n",
              "          const element = document.querySelector('#df-704c9759-d736-43a4-90ea-453d423a0146');\n",
              "          const dataTable =\n",
              "            await google.colab.kernel.invokeFunction('convertToInteractive',\n",
              "                                                     [key], {});\n",
              "          if (!dataTable) return;\n",
              "\n",
              "          const docLinkHtml = 'Like what you see? Visit the ' +\n",
              "            '<a target=\"_blank\" href=https://colab.research.google.com/notebooks/data_table.ipynb>data table notebook</a>'\n",
              "            + ' to learn more about interactive tables.';\n",
              "          element.innerHTML = '';\n",
              "          dataTable['output_type'] = 'display_data';\n",
              "          await google.colab.output.renderOutput(dataTable, element);\n",
              "          const docLink = document.createElement('div');\n",
              "          docLink.innerHTML = docLinkHtml;\n",
              "          element.appendChild(docLink);\n",
              "        }\n",
              "      </script>\n",
              "    </div>\n",
              "  </div>\n",
              "  "
            ]
          },
          "metadata": {},
          "execution_count": 91
        }
      ]
    },
    {
      "cell_type": "markdown",
      "source": [
        "**No gráfico de pizza abaixo pode-se perceber a porcentagem que cada classe representa no conjunto de dados total.**"
      ],
      "metadata": {
        "id": "oa4UJ3dbUIUa"
      }
    },
    {
      "cell_type": "code",
      "source": [
        "fatias = [763, 1117, 1240]\n",
        "labels = ['Poço Horizontal', 'Poço Direcional',  'Poço Vertical']\n",
        "colors = ['blue', 'green', 'red']\n",
        "explode = [0, 0, 0]\n",
        "plt.pie(fatias, labels = labels, colors = colors, explode = explode, shadow = True, autopct = \"%.2f%%\")\n",
        "plt.title('Percentual dos tipos de poços contidos no conjunto de dados', fontsize = 15)\n",
        "plt.axis(\"off\")\n",
        "plt.legend()\n",
        "plt.show()"
      ],
      "metadata": {
        "colab": {
          "base_uri": "https://localhost:8080/",
          "height": 321
        },
        "id": "MLem4wzwCQnH",
        "outputId": "b6b3eb4a-1bad-4423-e8df-43cca1fbf12a"
      },
      "execution_count": 74,
      "outputs": [
        {
          "output_type": "display_data",
          "data": {
            "text/plain": [
              "<Figure size 1440x360 with 1 Axes>"
            ],
            "image/png": "[encoded data removed]"
          },
          "metadata": {}
        }
      ]
    },
    {
      "cell_type": "markdown",
      "source": [
        "**Através do gráfico de barras horizontais abaixo pode-se perceber que a maiorias dos poços exigiu entre 2 a 4 fases. Sendo que a maioria dos poços verticais do conjunto de dados teve de 3 a 5 fases. A maioria dos poços horizontais teve de 1 a 2 fases e os poços direcionais tiveram em maioria de 2 a 4 fases.**"
      ],
      "metadata": {
        "id": "7TNcyMYeUX1p"
      }
    },
    {
      "cell_type": "code",
      "source": [
        "def grafico_barras(caracteristica):\n",
        "    direcional = dados_cf[dados_cf['tipo_poco']==0][caracteristica].value_counts()\n",
        "    horizontal = dados_cf[dados_cf['tipo_poco']==1][caracteristica].value_counts()\n",
        "    vertical = dados_cf[dados_cf['tipo_poco']==2][caracteristica].value_counts()\n",
        "    df = pd.DataFrame([direcional,horizontal, vertical])\n",
        "    df.index = ['direcional','horizontal', 'vertical']\n",
        "    df.plot(kind='barh',stacked=True, figsize=(20,5))"
      ],
      "metadata": {
        "id": "2LeHHPI98rby"
      },
      "execution_count": 75,
      "outputs": []
    },
    {
      "cell_type": "code",
      "source": [
        "grafico_barras('nfases')"
      ],
      "metadata": {
        "colab": {
          "base_uri": "https://localhost:8080/",
          "height": 323
        },
        "id": "YSDAcZqK_0EL",
        "outputId": "c3cf281d-f9f6-4688-8e83-fb56885a6e9b"
      },
      "execution_count": 76,
      "outputs": [
        {
          "output_type": "display_data",
          "data": {
            "text/plain": [
              "<Figure size 1440x360 with 1 Axes>"
            ],
            "image/png": "[encoded data removed]"
          },
          "metadata": {
            "needs_background": "light"
          }
        }
      ]
    },
    {
      "cell_type": "markdown",
      "source": [
        "**Através dos gráficos de dispersão e histograma abaixo pode-se ver a  distância entre a superfície do mar até o ponto de perfuração do poço subaquático. Nos gráficos pode-se perceber que dos poços possui entre 600 a 1800 metros de distância entre a superfície do mar até o ponto de perfuração subaquático.**"
      ],
      "metadata": {
        "id": "EiH8TypdZcoM"
      }
    },
    {
      "cell_type": "code",
      "source": [
        "sns.displot(dados_cf.lda, color = 'magenta', bins=5)\n",
        "plt.title('valor em metros, que corresponde a distância entre a superfície do mar até o ponto de perfuração em poços subaquático.', fontsize = 15)\n",
        "plt.xlabel('Valor em metros', fontsize = 15)\n",
        "plt.ylabel('Total de ocorrêcias')\n",
        "plt.show()"
      ],
      "metadata": {
        "colab": {
          "base_uri": "https://localhost:8080/",
          "height": 389
        },
        "id": "DMZNwc9LHJ5t",
        "outputId": "25c49fec-d725-4db4-e075-8909cbdc3b63"
      },
      "execution_count": 79,
      "outputs": [
        {
          "output_type": "display_data",
          "data": {
            "text/plain": [
              "<Figure size 360x360 with 1 Axes>"
            ],
            "image/png": "[encoded data removed]"
          },
          "metadata": {
            "needs_background": "light"
          }
        }
      ]
    },
    {
      "cell_type": "code",
      "source": [
        "plt.hist(dados_cf.lda, color = 'green', bins=30)\n",
        "plt.title('valor em metros, que corresponde a distância entre a superfície do mar até o ponto de perfuração em poços subaquático.', fontsize = 15)\n",
        "plt.xlabel('Valor em metros', fontsize = 15)\n",
        "plt.ylabel('Total de ocorrêcias')\n",
        "plt.show()"
      ],
      "metadata": {
        "colab": {
          "base_uri": "https://localhost:8080/",
          "height": 361
        },
        "id": "hRnxKiW6I6l8",
        "outputId": "3bb9f8ab-3022-4bb8-dfd2-2b477bd65bba"
      },
      "execution_count": 81,
      "outputs": [
        {
          "output_type": "display_data",
          "data": {
            "text/plain": [
              "<Figure size 1440x360 with 1 Axes>"
            ],
            "image/png": "[encoded data removed]"
          },
          "metadata": {
            "needs_background": "light"
          }
        }
      ]
    },
    {
      "cell_type": "markdown",
      "source": [
        "**Cerca de 25% dos poços tem distância entre a superfície do mar até o ponto de perfuração subaquático menor que 604.75 metros. A mediana em metros é 1123.65, sou seja, 50% dos poços tem distância entre a superfície do mar até o ponto de perfuração subaquático menor que 1123.65. Observa-se que 75% dos poços possui distância entre a superfície do mar até o ponto de perfuração subaquático maior que 1593 metros.**"
      ],
      "metadata": {
        "id": "b8nxnW1ccoh2"
      }
    },
    {
      "cell_type": "code",
      "source": [
        "dados_cf['lda'].describe()"
      ],
      "metadata": {
        "colab": {
          "base_uri": "https://localhost:8080/"
        },
        "id": "Q4EhRC9CJvoN",
        "outputId": "042a66f4-a537-40c6-906a-05a0a08d82ec"
      },
      "execution_count": 82,
      "outputs": [
        {
          "output_type": "execute_result",
          "data": {
            "text/plain": [
              "count    3120.000000\n",
              "mean     1123.653701\n",
              "std       663.626747\n",
              "min        10.000000\n",
              "25%       604.750000\n",
              "50%      1123.653700\n",
              "75%      1593.000000\n",
              "max      2988.000000\n",
              "Name: lda, dtype: float64"
            ]
          },
          "metadata": {},
          "execution_count": 82
        }
      ]
    },
    {
      "cell_type": "markdown",
      "source": [
        "**Separação dos atributos previsores e do targert \"tipo_poco\".**"
      ],
      "metadata": {
        "id": "HycgxMoqd8ed"
      }
    },
    {
      "cell_type": "code",
      "source": [
        "X=dados_cf.iloc[:, 2:]"
      ],
      "metadata": {
        "id": "KmxfxAx7nEFx"
      },
      "execution_count": 83,
      "outputs": []
    },
    {
      "cell_type": "code",
      "source": [
        "X.head()"
      ],
      "metadata": {
        "colab": {
          "base_uri": "https://localhost:8080/",
          "height": 206
        },
        "id": "CtqNucLznV8W",
        "outputId": "186afd6a-7374-4c46-c335-38c783efcc89"
      },
      "execution_count": 84,
      "outputs": [
        {
          "output_type": "execute_result",
          "data": {
            "text/plain": [
              "   nfases        lda    metragem  dpolegadastotal\n",
              "0       2  1723.0000  920.500000        16.125000\n",
              "1       1  1123.6537  331.000000        17.500000\n",
              "2       6    81.0000  628.000000        17.958333\n",
              "3       4   307.0000  830.500000        16.062500\n",
              "4       3  1120.0000  823.666667        12.750000"
            ],
            "text/html": [
              "\n",
              "  <div id=\"df-3bfbff4d-e17b-4ea3-9d2f-ac07428001d5\">\n",
              "    <div class=\"colab-df-container\">\n",
              "      <div>\n",
              "<style scoped>\n",
              "    .dataframe tbody tr th:only-of-type {\n",
              "        vertical-align: middle;\n",
              "    }\n",
              "\n",
              "    .dataframe tbody tr th {\n",
              "        vertical-align: top;\n",
              "    }\n",
              "\n",
              "    .dataframe thead th {\n",
              "        text-align: right;\n",
              "    }\n",
              "</style>\n",
              "<table border=\"1\" class=\"dataframe\">\n",
              "  <thead>\n",
              "    <tr style=\"text-align: right;\">\n",
              "      <th></th>\n",
              "      <th>nfases</th>\n",
              "      <th>lda</th>\n",
              "      <th>metragem</th>\n",
              "      <th>dpolegadastotal</th>\n",
              "    </tr>\n",
              "  </thead>\n",
              "  <tbody>\n",
              "    <tr>\n",
              "      <th>0</th>\n",
              "      <td>2</td>\n",
              "      <td>1723.0000</td>\n",
              "      <td>920.500000</td>\n",
              "      <td>16.125000</td>\n",
              "    </tr>\n",
              "    <tr>\n",
              "      <th>1</th>\n",
              "      <td>1</td>\n",
              "      <td>1123.6537</td>\n",
              "      <td>331.000000</td>\n",
              "      <td>17.500000</td>\n",
              "    </tr>\n",
              "    <tr>\n",
              "      <th>2</th>\n",
              "      <td>6</td>\n",
              "      <td>81.0000</td>\n",
              "      <td>628.000000</td>\n",
              "      <td>17.958333</td>\n",
              "    </tr>\n",
              "    <tr>\n",
              "      <th>3</th>\n",
              "      <td>4</td>\n",
              "      <td>307.0000</td>\n",
              "      <td>830.500000</td>\n",
              "      <td>16.062500</td>\n",
              "    </tr>\n",
              "    <tr>\n",
              "      <th>4</th>\n",
              "      <td>3</td>\n",
              "      <td>1120.0000</td>\n",
              "      <td>823.666667</td>\n",
              "      <td>12.750000</td>\n",
              "    </tr>\n",
              "  </tbody>\n",
              "</table>\n",
              "</div>\n",
              "      <button class=\"colab-df-convert\" onclick=\"convertToInteractive('df-3bfbff4d-e17b-4ea3-9d2f-ac07428001d5')\"\n",
              "              title=\"Convert this dataframe to an interactive table.\"\n",
              "              style=\"display:none;\">\n",
              "        \n",
              "  <svg xmlns=\"http://www.w3.org/2000/svg\" height=\"24px\"viewBox=\"0 0 24 24\"\n",
              "       width=\"24px\">\n",
              "    <path d=\"M0 0h24v24H0V0z\" fill=\"none\"/>\n",
              "    <path d=\"M18.56 5.44l.94 2.06.94-2.06 2.06-.94-2.06-.94-.94-2.06-.94 2.06-2.06.94zm-11 1L8.5 8.5l.94-2.06 2.06-.94-2.06-.94L8.5 2.5l-.94 2.06-2.06.94zm10 10l.94 2.06.94-2.06 2.06-.94-2.06-.94-.94-2.06-.94 2.06-2.06.94z\"/><path d=\"M17.41 7.96l-1.37-1.37c-.4-.4-.92-.59-1.43-.59-.52 0-1.04.2-1.43.59L10.3 9.45l-7.72 7.72c-.78.78-.78 2.05 0 2.83L4 21.41c.39.39.9.59 1.41.59.51 0 1.02-.2 1.41-.59l7.78-7.78 2.81-2.81c.8-.78.8-2.07 0-2.86zM5.41 20L4 18.59l7.72-7.72 1.47 1.35L5.41 20z\"/>\n",
              "  </svg>\n",
              "      </button>\n",
              "      \n",
              "  <style>\n",
              "    .colab-df-container {\n",
              "      display:flex;\n",
              "      flex-wrap:wrap;\n",
              "      gap: 12px;\n",
              "    }\n",
              "\n",
              "    .colab-df-convert {\n",
              "      background-color: #E8F0FE;\n",
              "      border: none;\n",
              "      border-radius: 50%;\n",
              "      cursor: pointer;\n",
              "      display: none;\n",
              "      fill: #1967D2;\n",
              "      height: 32px;\n",
              "      padding: 0 0 0 0;\n",
              "      width: 32px;\n",
              "    }\n",
              "\n",
              "    .colab-df-convert:hover {\n",
              "      background-color: #E2EBFA;\n",
              "      box-shadow: 0px 1px 2px rgba(60, 64, 67, 0.3), 0px 1px 3px 1px rgba(60, 64, 67, 0.15);\n",
              "      fill: #174EA6;\n",
              "    }\n",
              "\n",
              "    [theme=dark] .colab-df-convert {\n",
              "      background-color: #3B4455;\n",
              "      fill: #D2E3FC;\n",
              "    }\n",
              "\n",
              "    [theme=dark] .colab-df-convert:hover {\n",
              "      background-color: #434B5C;\n",
              "      box-shadow: 0px 1px 3px 1px rgba(0, 0, 0, 0.15);\n",
              "      filter: drop-shadow(0px 1px 2px rgba(0, 0, 0, 0.3));\n",
              "      fill: #FFFFFF;\n",
              "    }\n",
              "  </style>\n",
              "\n",
              "      <script>\n",
              "        const buttonEl =\n",
              "          document.querySelector('#df-3bfbff4d-e17b-4ea3-9d2f-ac07428001d5 button.colab-df-convert');\n",
              "        buttonEl.style.display =\n",
              "          google.colab.kernel.accessAllowed ? 'block' : 'none';\n",
              "\n",
              "        async function convertToInteractive(key) {\n",
              "          const element = document.querySelector('#df-3bfbff4d-e17b-4ea3-9d2f-ac07428001d5');\n",
              "          const dataTable =\n",
              "            await google.colab.kernel.invokeFunction('convertToInteractive',\n",
              "                                                     [key], {});\n",
              "          if (!dataTable) return;\n",
              "\n",
              "          const docLinkHtml = 'Like what you see? Visit the ' +\n",
              "            '<a target=\"_blank\" href=https://colab.research.google.com/notebooks/data_table.ipynb>data table notebook</a>'\n",
              "            + ' to learn more about interactive tables.';\n",
              "          element.innerHTML = '';\n",
              "          dataTable['output_type'] = 'display_data';\n",
              "          await google.colab.output.renderOutput(dataTable, element);\n",
              "          const docLink = document.createElement('div');\n",
              "          docLink.innerHTML = docLinkHtml;\n",
              "          element.appendChild(docLink);\n",
              "        }\n",
              "      </script>\n",
              "    </div>\n",
              "  </div>\n",
              "  "
            ]
          },
          "metadata": {},
          "execution_count": 84
        }
      ]
    },
    {
      "cell_type": "code",
      "source": [
        "y = dados_cf.iloc[:,0]"
      ],
      "metadata": {
        "id": "vEATu5ZpyZDW"
      },
      "execution_count": 85,
      "outputs": []
    },
    {
      "cell_type": "code",
      "source": [
        "y"
      ],
      "metadata": {
        "colab": {
          "base_uri": "https://localhost:8080/"
        },
        "id": "b3a9eE3eyggj",
        "outputId": "1b2535de-e6e6-48f4-c70f-db372ae6f5c2"
      },
      "execution_count": 86,
      "outputs": [
        {
          "output_type": "execute_result",
          "data": {
            "text/plain": [
              "0       0\n",
              "1       0\n",
              "2       0\n",
              "3       0\n",
              "4       0\n",
              "       ..\n",
              "3115    2\n",
              "3116    2\n",
              "3117    2\n",
              "3118    2\n",
              "3119    2\n",
              "Name: tipo_poco, Length: 3120, dtype: int64"
            ]
          },
          "metadata": {},
          "execution_count": 86
        }
      ]
    },
    {
      "cell_type": "markdown",
      "source": [
        "**Através do gráfico de correlação pode-se ver que os atributos não são fortemente correlacionados com a variável alvo \"tipo_poco\", nem negativamente, nem positivamente.**"
      ],
      "metadata": {
        "id": "kdTdGWk4eSx7"
      }
    },
    {
      "cell_type": "code",
      "source": [
        "plt.subplots(figsize = (20,6))\n",
        "sns.heatmap(dados_cf.corr(), annot=True)\n",
        "plt.title(\"Correlação entre as colunas do conjunto de dados\", fontsize = 20);"
      ],
      "metadata": {
        "id": "R0D1NKBTplqU",
        "colab": {
          "base_uri": "https://localhost:8080/",
          "height": 398
        },
        "outputId": "02a7e920-307a-4c86-cdad-54cbad08440a"
      },
      "execution_count": 87,
      "outputs": [
        {
          "output_type": "display_data",
          "data": {
            "text/plain": [
              "<Figure size 1440x432 with 2 Axes>"
            ],
            "image/png": "[encoded data removed]"
          },
          "metadata": {
            "needs_background": "light"
          }
        }
      ]
    },
    {
      "cell_type": "code",
      "source": [
        "#correlação com o target\n",
        "\n",
        "df_corr = X.copy()\n",
        "df_corr['tipo_poco'] = y \n",
        "df_corr.corr()['tipo_poco'].apply(abs).sort_values(ascending=False)[:]"
      ],
      "metadata": {
        "colab": {
          "base_uri": "https://localhost:8080/"
        },
        "id": "OJ_62GvvzHi5",
        "outputId": "7a5ac81a-832a-4b28-89b3-d765098fe2a0"
      },
      "execution_count": 88,
      "outputs": [
        {
          "output_type": "execute_result",
          "data": {
            "text/plain": [
              "tipo_poco          1.000000\n",
              "lda                0.159191\n",
              "nfases             0.157540\n",
              "metragem           0.084875\n",
              "dpolegadastotal    0.069364\n",
              "Name: tipo_poco, dtype: float64"
            ]
          },
          "metadata": {},
          "execution_count": 88
        }
      ]
    },
    {
      "cell_type": "markdown",
      "source": [
        "**Abaixo pode-se ver a importância das variáveis para o target segundo o algoritmo random forest e a biblioteca shap.**"
      ],
      "metadata": {
        "id": "b29Ue_WxeuG6"
      }
    },
    {
      "cell_type": "code",
      "source": [
        "X_train, X_test, y_train, y_test = train_test_split(X, y, test_size=0.1, random_state=0)\n",
        "X_train.shape"
      ],
      "metadata": {
        "colab": {
          "base_uri": "https://localhost:8080/"
        },
        "id": "3Zg1khhle3oM",
        "outputId": "dc65f529-26ed-46d7-86c5-4c8bb807ea63"
      },
      "execution_count": null,
      "outputs": [
        {
          "output_type": "execute_result",
          "data": {
            "text/plain": [
              "(2808, 4)"
            ]
          },
          "metadata": {},
          "execution_count": 106
        }
      ]
    },
    {
      "cell_type": "markdown",
      "source": [
        "**Feature importance**"
      ],
      "metadata": {
        "id": "38RaVCscesTQ"
      }
    },
    {
      "cell_type": "markdown",
      "source": [
        "**Para o random forest as dus colunas mais importantes para o target foram \"dpolegadastotal e \"lda\".**"
      ],
      "metadata": {
        "id": "LhW2rud9fArv"
      }
    },
    {
      "cell_type": "code",
      "source": [
        "random_state = 0\n",
        "max_depth = 5\n",
        "n_estimators = 250\n",
        "import matplotlib.pyplot as plt\n",
        "rfc = RandomForestClassifier(max_depth=max_depth, random_state=random_state, n_estimators=n_estimators)\n",
        "rfc.fit(X_train, y_train)\n",
        "importances = rfc.feature_importances_\n",
        "indices = np.argsort(importances)\n",
        "features = X_train.columns\n",
        "plt.figure(figsize=(15,8))\n",
        "plt.title('Features +importante')\n",
        "plt.barh(range(len(indices)), importances[indices], color='g', align='center',linestyle=\"solid\",alpha=0.8)\n",
        "plt.yticks(range(len(indices)), [features[i] for i in indices])\n",
        "plt.xlabel('Importância')\n",
        "#plt.savefig('Feature_importance.pdf')\n",
        "plt.show()"
      ],
      "metadata": {
        "colab": {
          "base_uri": "https://localhost:8080/",
          "height": 520
        },
        "id": "kANgX-agfoxS",
        "outputId": "7baf2339-936b-4cc7-8e57-235d03aba640"
      },
      "execution_count": null,
      "outputs": [
        {
          "output_type": "display_data",
          "data": {
            "text/plain": [
              "<Figure size 1080x576 with 1 Axes>"
            ],
            "image/png": "[encoded data removed]"
          },
          "metadata": {
            "needs_background": "light"
          }
        }
      ]
    },
    {
      "cell_type": "markdown",
      "source": [
        "**Gráficos gerados com a biblioteca shap.**"
      ],
      "metadata": {
        "id": "SIb6vWASfNKH"
      }
    },
    {
      "cell_type": "markdown",
      "source": [
        "**Biblioteca Shap**"
      ],
      "metadata": {
        "id": "qkkyGZ8Hg8Tc"
      }
    },
    {
      "cell_type": "code",
      "source": [
        "!pip install shap"
      ],
      "metadata": {
        "id": "Z5--qnlbgUF7"
      },
      "execution_count": null,
      "outputs": []
    },
    {
      "cell_type": "code",
      "source": [
        "import shap"
      ],
      "metadata": {
        "id": "9uG64pn3iCRB"
      },
      "execution_count": null,
      "outputs": []
    },
    {
      "cell_type": "markdown",
      "source": [
        "**A biblioteca shape deu bastante importância para a coluna \"nfases\" e para a coluna \"lda\".**"
      ],
      "metadata": {
        "id": "MJvWUnEmfWoG"
      }
    },
    {
      "cell_type": "code",
      "source": [
        "explainer = shap.KernelExplainer(random_forest.predict_proba,X_train);\n",
        "shap_values = explainer.shap_values(X_train);\n",
        "shap.summary_plot(shap_values, X_train);"
      ],
      "metadata": {
        "colab": {
          "base_uri": "https://localhost:8080/",
          "height": 302,
          "referenced_widgets": [
            "d8fccb9d4a2c45d2aa11382deed268f2",
            "aee20d35be0648d2b1e9dd106c721419",
            "f168a79508564d4b99044ee2ba37cf07",
            "6e5057e4894f4df78f56fcefddafc7c4",
            "16d950308f2b48488227a1d92c21113f",
            "a13a27d846114e47adf8a13186d6f4c4",
            "26c1f8093d5a4a03aa1df16d21f8132e",
            "74a8a26974c24755abcd2059a79f4e81",
            "424ada04bbf346abb06c21ffc2b8654c",
            "061df7617d9c4fa288e02056e8eeb406",
            "89b64a037dc4492a82052f3b7e0a3ee5"
          ]
        },
        "id": "qBxDAEvLhiVS",
        "outputId": "8ba98006-2f43-4bad-baff-b4a2dec8f3bc"
      },
      "execution_count": null,
      "outputs": [
        {
          "output_type": "stream",
          "name": "stderr",
          "text": [
            "WARNING:shap:Using 2808 background data samples could cause slower run times. Consider using shap.sample(data, K) or shap.kmeans(data, K) to summarize the background as K samples.\n"
          ]
        },
        {
          "output_type": "display_data",
          "data": {
            "text/plain": [
              "  0%|          | 0/2808 [00:00<?, ?it/s]"
            ],
            "application/vnd.jupyter.widget-view+json": {
              "version_major": 2,
              "version_minor": 0,
              "model_id": "d8fccb9d4a2c45d2aa11382deed268f2"
            }
          },
          "metadata": {}
        },
        {
          "output_type": "display_data",
          "data": {
            "text/plain": [
              "<Figure size 576x223.2 with 1 Axes>"
            ],
            "image/png": "[encoded data removed]"
          },
          "metadata": {
            "needs_background": "light"
          }
        }
      ]
    },
    {
      "cell_type": "code",
      "source": [
        "explainer = shap.TreeExplainer(random_forest)\n",
        "shap_values = explainer.shap_values(X_train)\n",
        "shap.summary_plot(shap_values, X_train)"
      ],
      "metadata": {
        "colab": {
          "base_uri": "https://localhost:8080/",
          "height": 233
        },
        "id": "8aSKe3WnhC6u",
        "outputId": "454bf138-6571-46cd-b3cf-831b5ecb9559"
      },
      "execution_count": null,
      "outputs": [
        {
          "output_type": "display_data",
          "data": {
            "text/plain": [
              "<Figure size 576x223.2 with 1 Axes>"
            ],
            "image/png": "[encoded data removed]"
          },
          "metadata": {
            "needs_background": "light"
          }
        }
      ]
    },
    {
      "cell_type": "markdown",
      "source": [
        "**Influência negativa e positiva dos atributos nas clases a serem previstas.**"
      ],
      "metadata": {
        "id": "7Y7dfx0pfh2e"
      }
    },
    {
      "cell_type": "code",
      "source": [
        "shap.summary_plot(shap_values[0], X_train)\n",
        "shap.summary_plot(shap_values[1], X_train)\n",
        "shap.summary_plot(shap_values[2], X_train)"
      ],
      "metadata": {
        "colab": {
          "base_uri": "https://localhost:8080/",
          "height": 665
        },
        "id": "Vb7VbsnuofiK",
        "outputId": "6b681e49-079e-4aa5-ab99-e60679231fba"
      },
      "execution_count": null,
      "outputs": [
        {
          "output_type": "display_data",
          "data": {
            "text/plain": [
              "<Figure size 576x223.2 with 2 Axes>"
            ],
            "image/png": "[encoded data removed]"
          },
          "metadata": {
            "needs_background": "light"
          }
        },
        {
          "output_type": "display_data",
          "data": {
            "text/plain": [
              "<Figure size 576x223.2 with 2 Axes>"
            ],
            "image/png": "[encoded data removed]"
          },
          "metadata": {
            "needs_background": "light"
          }
        },
        {
          "output_type": "display_data",
          "data": {
            "text/plain": [
              "<Figure size 576x223.2 with 2 Axes>"
            ],
            "image/png": "[encoded data removed]"
          },
          "metadata": {
            "needs_background": "light"
          }
        }
      ]
    },
    {
      "cell_type": "markdown",
      "source": [
        "**Nos algoritmos foram passados os dados sem normalização ou padronização, primeiramente, e depois foram testadas as técnicas de normalização e padronização. Para esse conjunto de dados a técnica de padronização teve melhores resultados.**"
      ],
      "metadata": {
        "id": "9a3INlkGfxBT"
      }
    },
    {
      "cell_type": "markdown",
      "source": [
        "**Normalização dos dados**"
      ],
      "metadata": {
        "id": "LB2lqzcKDUZx"
      }
    },
    {
      "cell_type": "code",
      "source": [
        "escalonamento = MinMaxScaler(feature_range= (0,1))"
      ],
      "metadata": {
        "id": "z8KkYcAcDJue"
      },
      "execution_count": null,
      "outputs": []
    },
    {
      "cell_type": "code",
      "source": [
        "X_test=escalonamento.fit_transform(X_test)"
      ],
      "metadata": {
        "id": "1ONQoFP1suLk"
      },
      "execution_count": null,
      "outputs": []
    },
    {
      "cell_type": "markdown",
      "source": [
        "**Padronização dos dados**"
      ],
      "metadata": {
        "id": "spoes7n4Yjyg"
      }
    },
    {
      "cell_type": "code",
      "source": [
        "scaler= StandardScaler()"
      ],
      "metadata": {
        "id": "lG-60ak9YoW0"
      },
      "execution_count": 89,
      "outputs": []
    },
    {
      "cell_type": "code",
      "source": [
        "X = scaler.fit_transform(X)"
      ],
      "metadata": {
        "id": "wFgsHQi3Y-HL"
      },
      "execution_count": 90,
      "outputs": []
    },
    {
      "cell_type": "markdown",
      "source": [
        "**Divisão dos dados em treino e teste. Noventa por cento dos dados foram separados para treino e 10% para teste.**"
      ],
      "metadata": {
        "id": "FAi5Y4UmgJXJ"
      }
    },
    {
      "cell_type": "code",
      "source": [
        "X_train, X_test, y_train, y_test = train_test_split(X, y, test_size=0.1, random_state=0)\n",
        "X_train.shape"
      ],
      "metadata": {
        "colab": {
          "base_uri": "https://localhost:8080/"
        },
        "id": "w7_4S3Uy3mOf",
        "outputId": "2a94ee48-3cfd-45af-8883-93c5c9d8f18b"
      },
      "execution_count": 91,
      "outputs": [
        {
          "output_type": "execute_result",
          "data": {
            "text/plain": [
              "(2808, 4)"
            ]
          },
          "metadata": {},
          "execution_count": 91
        }
      ]
    },
    {
      "cell_type": "markdown",
      "source": [
        "**Foram aplicados alguns algoritmos a fim de classificar os tipos de poços.**"
      ],
      "metadata": {
        "id": "-8KOt0Zugjt_"
      }
    },
    {
      "cell_type": "markdown",
      "source": [
        "**Abaixo pode-se ver a aplicação da regressão logística, técnica que funciona melhor para classes binárias, a medida que aumenta o número de classes o algoritmo não performa muito bem.**"
      ],
      "metadata": {
        "id": "W3CCpZsKgrGu"
      }
    },
    {
      "cell_type": "markdown",
      "source": [
        "**Regressão logistica**"
      ],
      "metadata": {
        "id": "IkwASrRqdvpA"
      }
    },
    {
      "cell_type": "code",
      "source": [
        "logistic_ = LogisticRegression(multi_class='multinomial', solver='lbfgs')\n",
        "logistic_.fit(X_train, y_train)"
      ],
      "metadata": {
        "colab": {
          "base_uri": "https://localhost:8080/"
        },
        "id": "Z1tXSznCzpEG",
        "outputId": "8e1b3d30-406b-4ba0-ecd1-cf41861d1fb4"
      },
      "execution_count": 92,
      "outputs": [
        {
          "output_type": "execute_result",
          "data": {
            "text/plain": [
              "LogisticRegression(multi_class='multinomial')"
            ]
          },
          "metadata": {},
          "execution_count": 92
        }
      ]
    },
    {
      "cell_type": "code",
      "source": [
        "previsoes_lc = logistic_.predict(X_test)\n"
      ],
      "metadata": {
        "id": "1oseuZklz5T8"
      },
      "execution_count": 93,
      "outputs": []
    },
    {
      "cell_type": "code",
      "source": [
        "accuracy_score(y_test, previsoes_lc)"
      ],
      "metadata": {
        "colab": {
          "base_uri": "https://localhost:8080/"
        },
        "id": "HEV5_TLS0TOi",
        "outputId": "26656515-63bd-4706-c08a-95861077c6b9"
      },
      "execution_count": 94,
      "outputs": [
        {
          "output_type": "execute_result",
          "data": {
            "text/plain": [
              "0.6121794871794872"
            ]
          },
          "metadata": {},
          "execution_count": 94
        }
      ]
    },
    {
      "cell_type": "code",
      "source": [
        "metrics.ConfusionMatrixDisplay.from_predictions(y_test, previsoes_lc, cmap='Blues');\n",
        "plt.grid(False)"
      ],
      "metadata": {
        "colab": {
          "base_uri": "https://localhost:8080/",
          "height": 341
        },
        "id": "iFVXLhLbg95K",
        "outputId": "97eab3f8-039b-49ec-91df-17cf83e3be06"
      },
      "execution_count": 95,
      "outputs": [
        {
          "output_type": "display_data",
          "data": {
            "text/plain": [
              "<Figure size 1440x360 with 2 Axes>"
            ],
            "image/png": "[encoded data removed]"
          },
          "metadata": {
            "needs_background": "light"
          }
        }
      ]
    },
    {
      "cell_type": "code",
      "source": [
        "# Imprimindo o relatório de classificação\n",
        "print(\"Relatório de classificação: \\n\", classification_report(y_test, previsoes_lc))  "
      ],
      "metadata": {
        "colab": {
          "base_uri": "https://localhost:8080/"
        },
        "id": "HSPuZ1UZhLqt",
        "outputId": "9e0fbaee-54be-491c-dc42-37ac4be67593"
      },
      "execution_count": 96,
      "outputs": [
        {
          "output_type": "stream",
          "name": "stdout",
          "text": [
            "Relatório de classificação: \n",
            "               precision    recall  f1-score   support\n",
            "\n",
            "           0       0.55      0.52      0.53       118\n",
            "           1       0.74      0.74      0.74        69\n",
            "           2       0.60      0.63      0.61       125\n",
            "\n",
            "    accuracy                           0.61       312\n",
            "   macro avg       0.63      0.63      0.63       312\n",
            "weighted avg       0.61      0.61      0.61       312\n",
            "\n"
          ]
        }
      ]
    },
    {
      "cell_type": "markdown",
      "source": [
        "**Classificação com random forest. A classificação com a técnica random forest foi a que obteve melhores resultados em termos de acurácia, recall, precision e f1-score.**"
      ],
      "metadata": {
        "id": "PY1w-IGahaZ8"
      }
    },
    {
      "cell_type": "markdown",
      "source": [
        "**Random Forest**"
      ],
      "metadata": {
        "id": "-b_2kbqy2ZpW"
      }
    },
    {
      "cell_type": "code",
      "source": [
        "random_forest = RandomForestClassifier(n_estimators=100, criterion='entropy')\n",
        "random_forest.fit(X_train, y_train)"
      ],
      "metadata": {
        "colab": {
          "base_uri": "https://localhost:8080/"
        },
        "id": "cw1rpguA2Y75",
        "outputId": "93fe0aee-4a55-4949-f231-82b1ae5503f8"
      },
      "execution_count": null,
      "outputs": [
        {
          "output_type": "execute_result",
          "data": {
            "text/plain": [
              "RandomForestClassifier(criterion='entropy')"
            ]
          },
          "metadata": {},
          "execution_count": 135
        }
      ]
    },
    {
      "cell_type": "code",
      "source": [
        "y_pred_rf = random_forest.predict(X_test)"
      ],
      "metadata": {
        "id": "DSTDxAA52qVz"
      },
      "execution_count": null,
      "outputs": []
    },
    {
      "cell_type": "code",
      "source": [
        "accuracy_score(y_test, y_pred_rf)"
      ],
      "metadata": {
        "colab": {
          "base_uri": "https://localhost:8080/"
        },
        "id": "qCh6lXQ52vy4",
        "outputId": "3795b25b-9336-4c23-dfc2-56d94c84dbbc"
      },
      "execution_count": null,
      "outputs": [
        {
          "output_type": "execute_result",
          "data": {
            "text/plain": [
              "0.6826923076923077"
            ]
          },
          "metadata": {},
          "execution_count": 137
        }
      ]
    },
    {
      "cell_type": "code",
      "source": [
        "metrics.ConfusionMatrixDisplay.from_predictions(y_test, y_pred_rf, cmap='Blues');\n",
        "plt.grid(False)"
      ],
      "metadata": {
        "colab": {
          "base_uri": "https://localhost:8080/",
          "height": 346
        },
        "id": "8vYdFKQZ4LUa",
        "outputId": "a1c8390b-1ff2-4f50-a452-52ab4e79e935"
      },
      "execution_count": null,
      "outputs": [
        {
          "output_type": "display_data",
          "data": {
            "text/plain": [
              "<Figure size 1440x360 with 2 Axes>"
            ],
            "image/png": "[encoded data removed]"
          },
          "metadata": {
            "needs_background": "light"
          }
        }
      ]
    },
    {
      "cell_type": "code",
      "source": [
        "# Imprimindo o relatório de classificação\n",
        "print(\"Relatório de classificação: \\n\", classification_report(y_test, y_pred_rf))  "
      ],
      "metadata": {
        "colab": {
          "base_uri": "https://localhost:8080/"
        },
        "id": "awR-3M_a4uZx",
        "outputId": "2afd7643-1302-4603-e037-f72155c8de80"
      },
      "execution_count": null,
      "outputs": [
        {
          "output_type": "stream",
          "name": "stdout",
          "text": [
            "Relatório de classificação: \n",
            "               precision    recall  f1-score   support\n",
            "\n",
            "           0       0.62      0.64      0.63       118\n",
            "           1       0.77      0.70      0.73        69\n",
            "           2       0.70      0.72      0.71       125\n",
            "\n",
            "    accuracy                           0.68       312\n",
            "   macro avg       0.70      0.68      0.69       312\n",
            "weighted avg       0.69      0.68      0.68       312\n",
            "\n"
          ]
        }
      ]
    },
    {
      "cell_type": "markdown",
      "source": [
        "**Também foi aplicado o classificador por votação unitilizando random forest, svm, arvore de decisão e o naive bayes gaussiano.**"
      ],
      "metadata": {
        "id": "7AqAnBNPh9Ae"
      }
    },
    {
      "cell_type": "markdown",
      "source": [
        "**Classificador por votação**"
      ],
      "metadata": {
        "id": "QqAz4TQH5tHE"
      }
    },
    {
      "cell_type": "code",
      "source": [
        "from sklearn.ensemble import RandomForestClassifier\n",
        "from sklearn.ensemble import VotingClassifier\n",
        "from sklearn.svm import SVC\n",
        "from sklearn.tree import DecisionTreeClassifier\n",
        "from sklearn.naive_bayes import GaussianNB\n",
        "GNB= GaussianNB()\n",
        "dt = DecisionTreeClassifier( criterion='gini',\n",
        "                                    splitter='best',\n",
        "                                    max_depth=4,\n",
        "                                    max_features=1)\n",
        "rnd_clf = RandomForestClassifier(n_estimators=150, criterion='entropy', max_features=4, max_depth=250, min_samples_split=5)\n",
        "svm_clf = SVC(kernel='rbf', C = 1)\n",
        "voting_clf = VotingClassifier(\n",
        "estimators=[('svc', svm_clf), ('GNB', GNB), ('rf', rnd_clf), ('dt', dt)],\n",
        "voting='hard')\n",
        "voting_clf.fit(X_train, y_train)\n"
      ],
      "metadata": {
        "colab": {
          "base_uri": "https://localhost:8080/"
        },
        "id": "NU4br1DL5wVI",
        "outputId": "4bd5d501-61ec-4043-b0de-b963a90fe2d0"
      },
      "execution_count": null,
      "outputs": [
        {
          "output_type": "execute_result",
          "data": {
            "text/plain": [
              "VotingClassifier(estimators=[('svc', SVC(C=1)), ('GNB', GaussianNB()),\n",
              "                             ('rf',\n",
              "                              RandomForestClassifier(criterion='entropy',\n",
              "                                                     max_depth=250,\n",
              "                                                     max_features=4,\n",
              "                                                     min_samples_split=5,\n",
              "                                                     n_estimators=150)),\n",
              "                             ('dt',\n",
              "                              DecisionTreeClassifier(max_depth=4,\n",
              "                                                     max_features=1))])"
            ]
          },
          "metadata": {},
          "execution_count": 148
        }
      ]
    },
    {
      "cell_type": "code",
      "source": [
        "from sklearn.metrics import accuracy_score\n",
        "for clf in (GNB, svm_clf, rnd_clf, dt, voting_clf):\n",
        "  clf.fit(X_train, y_train)\n",
        "  y_pred = clf.predict(X_test)\n",
        "  print('A acurácia em percentual é: ', clf.__class__.__name__, round(accuracy_score(y_test, y_pred)*100,2), '%')"
      ],
      "metadata": {
        "colab": {
          "base_uri": "https://localhost:8080/"
        },
        "id": "blRaYmj558Nz",
        "outputId": "b924f174-834d-4713-d9e1-7986ebc0329f"
      },
      "execution_count": null,
      "outputs": [
        {
          "output_type": "stream",
          "name": "stdout",
          "text": [
            "A acurácia em percentual é:  GaussianNB 60.58 %\n",
            "A acurácia em percentual é:  SVC 63.14 %\n",
            "A acurácia em percentual é:  RandomForestClassifier 66.99 %\n",
            "A acurácia em percentual é:  DecisionTreeClassifier 56.09 %\n",
            "A acurácia em percentual é:  VotingClassifier 66.03 %\n"
          ]
        }
      ]
    },
    {
      "cell_type": "code",
      "source": [
        "metrics.ConfusionMatrixDisplay.from_predictions(y_test, y_pred, cmap='Blues');\n",
        "plt.grid(False)"
      ],
      "metadata": {
        "colab": {
          "base_uri": "https://localhost:8080/",
          "height": 341
        },
        "id": "VPpalPoN7M1T",
        "outputId": "78d41193-18d3-484a-a524-823eb9aab939"
      },
      "execution_count": null,
      "outputs": [
        {
          "output_type": "display_data",
          "data": {
            "text/plain": [
              "<Figure size 1440x360 with 2 Axes>"
            ],
            "image/png": "[encoded data removed]"
          },
          "metadata": {
            "needs_background": "light"
          }
        }
      ]
    },
    {
      "cell_type": "code",
      "source": [
        "# Imprimindo o relatório de classificação\n",
        "print(\"Relatório de classificação: \\n\", classification_report(y_test, y_pred))  "
      ],
      "metadata": {
        "colab": {
          "base_uri": "https://localhost:8080/"
        },
        "id": "IFPeYv2K7W7d",
        "outputId": "0a43d9f7-18a2-44a3-9ce6-c6e1a73e7073"
      },
      "execution_count": null,
      "outputs": [
        {
          "output_type": "stream",
          "name": "stdout",
          "text": [
            "Relatório de classificação: \n",
            "               precision    recall  f1-score   support\n",
            "\n",
            "           0       0.59      0.67      0.63       118\n",
            "           1       0.79      0.70      0.74        69\n",
            "           2       0.67      0.63      0.65       125\n",
            "\n",
            "    accuracy                           0.66       312\n",
            "   macro avg       0.68      0.67      0.67       312\n",
            "weighted avg       0.67      0.66      0.66       312\n",
            "\n"
          ]
        }
      ]
    },
    {
      "cell_type": "markdown",
      "source": [
        "**Aplicação do Naive Bayes Gaussiano.**"
      ],
      "metadata": {
        "id": "XDjmnwx8idem"
      }
    },
    {
      "cell_type": "code",
      "source": [
        "naive = GaussianNB()\n",
        "naive.fit(X_train, y_train)"
      ],
      "metadata": {
        "colab": {
          "base_uri": "https://localhost:8080/"
        },
        "id": "cR1o1jhr5scS",
        "outputId": "01453899-1722-4317-cd2e-c864a2e00a0e"
      },
      "execution_count": null,
      "outputs": [
        {
          "output_type": "execute_result",
          "data": {
            "text/plain": [
              "GaussianNB()"
            ]
          },
          "metadata": {},
          "execution_count": 152
        }
      ]
    },
    {
      "cell_type": "code",
      "source": [
        "y_prednaive = naive.predict(X_test)"
      ],
      "metadata": {
        "id": "bK5eik8C8oFS"
      },
      "execution_count": null,
      "outputs": []
    },
    {
      "cell_type": "code",
      "source": [
        "accuracy_score(y_test, y_prednaive)"
      ],
      "metadata": {
        "colab": {
          "base_uri": "https://localhost:8080/"
        },
        "id": "08dT8ghB8tFW",
        "outputId": "f342558a-dcfc-47f6-d350-17fb316fe4e7"
      },
      "execution_count": null,
      "outputs": [
        {
          "output_type": "execute_result",
          "data": {
            "text/plain": [
              "0.6057692307692307"
            ]
          },
          "metadata": {},
          "execution_count": 154
        }
      ]
    },
    {
      "cell_type": "markdown",
      "source": [
        "**Aplicação do algoritmo arvore de decisão.**"
      ],
      "metadata": {
        "id": "otH2k3KqilXO"
      }
    },
    {
      "cell_type": "markdown",
      "source": [
        "**Árvore de decisão**"
      ],
      "metadata": {
        "id": "u4CoYCk78_8u"
      }
    },
    {
      "cell_type": "code",
      "source": [
        "arvore = DecisionTreeClassifier(criterion='entropy', random_state = 0)\n",
        "arvore.fit(X_train, y_train)"
      ],
      "metadata": {
        "colab": {
          "base_uri": "https://localhost:8080/"
        },
        "id": "b-haW2u59FuV",
        "outputId": "73d61493-eab4-4d48-cd66-5453ec93b6e7"
      },
      "execution_count": null,
      "outputs": [
        {
          "output_type": "execute_result",
          "data": {
            "text/plain": [
              "DecisionTreeClassifier(criterion='entropy', random_state=0)"
            ]
          },
          "metadata": {},
          "execution_count": 155
        }
      ]
    },
    {
      "cell_type": "code",
      "source": [
        "y_arvore = arvore.predict(X_test)"
      ],
      "metadata": {
        "id": "juhax9TW9PsM"
      },
      "execution_count": null,
      "outputs": []
    },
    {
      "cell_type": "code",
      "source": [
        "accuracy_score(y_test, y_arvore)"
      ],
      "metadata": {
        "colab": {
          "base_uri": "https://localhost:8080/"
        },
        "id": "sjxcM5Ct9ScX",
        "outputId": "65501558-f556-403e-d87f-6e7bb83ae2c2"
      },
      "execution_count": null,
      "outputs": [
        {
          "output_type": "execute_result",
          "data": {
            "text/plain": [
              "0.6153846153846154"
            ]
          },
          "metadata": {},
          "execution_count": 157
        }
      ]
    },
    {
      "cell_type": "markdown",
      "source": [
        "**KNN - O KNN utilizando distância de Minkowski conseguiu o segundo melhor resultado, ficando atrás apenas do random forest.**"
      ],
      "metadata": {
        "id": "B4l2CiDC9mJF"
      }
    },
    {
      "cell_type": "code",
      "source": [
        "knn2 = KNeighborsClassifier(n_neighbors=10, metric='minkowski', p = 2)\n",
        "knn2.fit(X_train, y_train)"
      ],
      "metadata": {
        "colab": {
          "base_uri": "https://localhost:8080/"
        },
        "id": "qBOq5J8F9onq",
        "outputId": "fd661b10-5985-4587-d1b6-bb75b5407f93"
      },
      "execution_count": 97,
      "outputs": [
        {
          "output_type": "execute_result",
          "data": {
            "text/plain": [
              "KNeighborsClassifier(n_neighbors=10)"
            ]
          },
          "metadata": {},
          "execution_count": 97
        }
      ]
    },
    {
      "cell_type": "code",
      "source": [
        "y_knn2 = knn2.predict(X_test)"
      ],
      "metadata": {
        "id": "B6QS69EI9uao"
      },
      "execution_count": 98,
      "outputs": []
    },
    {
      "cell_type": "code",
      "source": [
        "accuracy_score(y_test, y_knn2)"
      ],
      "metadata": {
        "colab": {
          "base_uri": "https://localhost:8080/"
        },
        "id": "6-GhcPl093-G",
        "outputId": "2d1221b1-a284-4c41-b031-b498d4f7ae70"
      },
      "execution_count": 99,
      "outputs": [
        {
          "output_type": "execute_result",
          "data": {
            "text/plain": [
              "0.6698717948717948"
            ]
          },
          "metadata": {},
          "execution_count": 99
        }
      ]
    },
    {
      "cell_type": "code",
      "source": [
        "metrics.ConfusionMatrixDisplay.from_predictions(y_test, y_knn2, cmap='Blues');\n",
        "plt.grid(False)"
      ],
      "metadata": {
        "colab": {
          "base_uri": "https://localhost:8080/",
          "height": 341
        },
        "id": "jAv67Si1i0uw",
        "outputId": "e3c5dee5-3140-4f17-ccad-3350131ee2a8"
      },
      "execution_count": 100,
      "outputs": [
        {
          "output_type": "display_data",
          "data": {
            "text/plain": [
              "<Figure size 1440x360 with 2 Axes>"
            ],
            "image/png": "[encoded data removed]"
          },
          "metadata": {
            "needs_background": "light"
          }
        }
      ]
    },
    {
      "cell_type": "code",
      "source": [
        "# Imprimindo o relatório de classificação\n",
        "print(\"Relatório de classificação: \\n\", classification_report(y_test, y_knn2))  "
      ],
      "metadata": {
        "colab": {
          "base_uri": "https://localhost:8080/"
        },
        "id": "uw9Mrry9i_Cb",
        "outputId": "8ae7d2bf-3997-4a5c-f409-676c969320bf"
      },
      "execution_count": 101,
      "outputs": [
        {
          "output_type": "stream",
          "name": "stdout",
          "text": [
            "Relatório de classificação: \n",
            "               precision    recall  f1-score   support\n",
            "\n",
            "           0       0.62      0.65      0.63       118\n",
            "           1       0.75      0.71      0.73        69\n",
            "           2       0.68      0.66      0.67       125\n",
            "\n",
            "    accuracy                           0.67       312\n",
            "   macro avg       0.68      0.68      0.68       312\n",
            "weighted avg       0.67      0.67      0.67       312\n",
            "\n"
          ]
        }
      ]
    },
    {
      "cell_type": "markdown",
      "source": [
        "**A MLP teve um resultado de acurácia bem parecido com a do KNN, no entanto não teve boa performance para classificar a classe 0, prejudicando assim seu recall e sua média armônica.**"
      ],
      "metadata": {
        "id": "R5VrbMZZjt80"
      }
    },
    {
      "cell_type": "markdown",
      "source": [
        "**MLP**"
      ],
      "metadata": {
        "id": "sg3MNo8I_BqG"
      }
    },
    {
      "cell_type": "code",
      "source": [
        "# 3 -> 100 -> 100 -> 1\n",
        "# 3 -> 2 -> 2 -> 1\n",
        "rede_neural = MLPClassifier(max_iter=1000, verbose=False, tol=0.0000100,\n",
        "                                   solver = 'adam', activation = 'relu',\n",
        "                                   hidden_layer_sizes = (200,100))\n",
        "rede_neural.fit(X_train, y_train)"
      ],
      "metadata": {
        "colab": {
          "base_uri": "https://localhost:8080/"
        },
        "id": "uHHF-Erk_EUv",
        "outputId": "72430889-e9df-4c3a-c395-bc198a04c879"
      },
      "execution_count": null,
      "outputs": [
        {
          "output_type": "execute_result",
          "data": {
            "text/plain": [
              "MLPClassifier(hidden_layer_sizes=(200, 100), max_iter=1000, tol=1e-05)"
            ]
          },
          "metadata": {},
          "execution_count": 182
        }
      ]
    },
    {
      "cell_type": "code",
      "source": [
        "y_rn = rede_neural.predict(X_test)\n"
      ],
      "metadata": {
        "id": "V6oDcug7_RzF"
      },
      "execution_count": null,
      "outputs": []
    },
    {
      "cell_type": "code",
      "source": [
        "accuracy_score(y_test, y_rn)"
      ],
      "metadata": {
        "colab": {
          "base_uri": "https://localhost:8080/"
        },
        "id": "w7QuZZuS_VLg",
        "outputId": "765a1eaa-f86f-4f22-edc1-34d302af0318"
      },
      "execution_count": null,
      "outputs": [
        {
          "output_type": "execute_result",
          "data": {
            "text/plain": [
              "0.6634615384615384"
            ]
          },
          "metadata": {},
          "execution_count": 184
        }
      ]
    },
    {
      "cell_type": "code",
      "source": [
        "metrics.ConfusionMatrixDisplay.from_predictions(y_test, y_rn, cmap='Blues');\n",
        "plt.grid(False)"
      ],
      "metadata": {
        "colab": {
          "base_uri": "https://localhost:8080/",
          "height": 341
        },
        "id": "mkXQijqHGA15",
        "outputId": "5ecee2cd-135f-40c4-a7a2-a13b1336e171"
      },
      "execution_count": null,
      "outputs": [
        {
          "output_type": "display_data",
          "data": {
            "text/plain": [
              "<Figure size 1440x360 with 2 Axes>"
            ],
            "image/png": "[encoded data removed]"
          },
          "metadata": {
            "needs_background": "light"
          }
        }
      ]
    },
    {
      "cell_type": "code",
      "source": [
        "# Imprimindo o relatório de classificação\n",
        "print(\"Relatório de classificação: \\n\", classification_report(y_test, y_rn))  "
      ],
      "metadata": {
        "colab": {
          "base_uri": "https://localhost:8080/"
        },
        "id": "h59KoSLjGNgq",
        "outputId": "8566cb85-f61e-48aa-e00a-a54cfbc6a8ae"
      },
      "execution_count": null,
      "outputs": [
        {
          "output_type": "stream",
          "name": "stdout",
          "text": [
            "Relatório de classificação: \n",
            "               precision    recall  f1-score   support\n",
            "\n",
            "           0       0.64      0.49      0.56       118\n",
            "           1       0.80      0.75      0.78        69\n",
            "           2       0.62      0.78      0.69       125\n",
            "\n",
            "    accuracy                           0.66       312\n",
            "   macro avg       0.69      0.67      0.67       312\n",
            "weighted avg       0.67      0.66      0.66       312\n",
            "\n"
          ]
        }
      ]
    },
    {
      "cell_type": "markdown",
      "source": [
        "**Classificação com o SVM - SVC.**"
      ],
      "metadata": {
        "id": "BC9vJ9takLLq"
      }
    },
    {
      "cell_type": "markdown",
      "source": [
        "**SVM SVC**"
      ],
      "metadata": {
        "id": "8InuD64fNLYl"
      }
    },
    {
      "cell_type": "code",
      "source": [
        "svm = SVC(kernel='rbf', C = 3.0) \n",
        "svm.fit(X_train, y_train)"
      ],
      "metadata": {
        "colab": {
          "base_uri": "https://localhost:8080/"
        },
        "id": "jP_KO1v8NSDX",
        "outputId": "c09286eb-1a3b-4353-d8be-a176e0663d58"
      },
      "execution_count": null,
      "outputs": [
        {
          "output_type": "execute_result",
          "data": {
            "text/plain": [
              "SVC(C=3.0)"
            ]
          },
          "metadata": {},
          "execution_count": 187
        }
      ]
    },
    {
      "cell_type": "code",
      "source": [
        "previsoes_svc = svm.predict(X_test)"
      ],
      "metadata": {
        "id": "E5AnCse_Nm3h"
      },
      "execution_count": null,
      "outputs": []
    },
    {
      "cell_type": "code",
      "source": [
        "accuracy_score(y_test, previsoes_svc)"
      ],
      "metadata": {
        "colab": {
          "base_uri": "https://localhost:8080/"
        },
        "id": "dp1Y0LQLN1Xw",
        "outputId": "28e10d22-5f73-4c5c-f896-2e1964149bcf"
      },
      "execution_count": null,
      "outputs": [
        {
          "output_type": "execute_result",
          "data": {
            "text/plain": [
              "0.6217948717948718"
            ]
          },
          "metadata": {},
          "execution_count": 189
        }
      ]
    },
    {
      "cell_type": "markdown",
      "source": [
        "**Como o random forest foi o algoritmo que obeteve melhores resultados, resolveu-se fazer um tunning de parâmetros do algoritmo.**"
      ],
      "metadata": {
        "id": "cr4rDWjCkR5Y"
      }
    },
    {
      "cell_type": "markdown",
      "source": [
        "**Random Forest Tunning**"
      ],
      "metadata": {
        "id": "qSE3Pv1dOiww"
      }
    },
    {
      "cell_type": "code",
      "source": [
        "from sklearn.model_selection import GridSearchCV"
      ],
      "metadata": {
        "id": "HF-MNjk3O30C"
      },
      "execution_count": null,
      "outputs": []
    },
    {
      "cell_type": "code",
      "source": [
        "parametros = {'criterion': ['gini', 'entropy'],\n",
        "              'n_estimators': [10, 40, 100, 150],\n",
        "              'min_samples_split': [2, 5, 10],\n",
        "              'min_samples_leaf': [1, 5, 10]}"
      ],
      "metadata": {
        "id": "KYGwlLm1Ohm8"
      },
      "execution_count": null,
      "outputs": []
    },
    {
      "cell_type": "code",
      "source": [
        "grid_search = GridSearchCV(estimator=RandomForestClassifier(), param_grid=parametros)\n",
        "grid_search.fit(X_train, y_train)\n",
        "melhores_parametros = grid_search.best_params_\n",
        "melhor_resultado = grid_search.best_score_\n",
        "print(melhores_parametros)\n",
        "print(melhor_resultado)"
      ],
      "metadata": {
        "colab": {
          "base_uri": "https://localhost:8080/"
        },
        "id": "A3CX4fwHOoKW",
        "outputId": "e42f2e1a-b9e4-4e8c-9914-0868e576aa9c"
      },
      "execution_count": null,
      "outputs": [
        {
          "output_type": "stream",
          "name": "stdout",
          "text": [
            "{'criterion': 'gini', 'min_samples_leaf': 1, 'min_samples_split': 5, 'n_estimators': 100}\n",
            "0.6937465507069861\n"
          ]
        }
      ]
    },
    {
      "cell_type": "markdown",
      "source": [
        "**A acurácia do modelo subiu para 69%, aproximadamente, mas o algoritmo acertou menos para a classes zero, mesmo tendo subido ligeiramente para as outras 2 classes.**"
      ],
      "metadata": {
        "id": "YhwAS_zkkpZc"
      }
    },
    {
      "cell_type": "code",
      "source": [
        "random_forest_tunning = RandomForestClassifier(n_estimators=100, criterion='entropy', min_samples_leaf = 1, min_samples_split = 5)\n",
        "random_forest_tunning.fit(X_train, y_train)"
      ],
      "metadata": {
        "colab": {
          "base_uri": "https://localhost:8080/"
        },
        "id": "vTL8gRlERmUX",
        "outputId": "a042be7d-ce13-4fe4-b814-9be18bf94778"
      },
      "execution_count": null,
      "outputs": [
        {
          "output_type": "execute_result",
          "data": {
            "text/plain": [
              "RandomForestClassifier(criterion='entropy', min_samples_split=5)"
            ]
          },
          "metadata": {},
          "execution_count": 196
        }
      ]
    },
    {
      "cell_type": "code",
      "source": [
        "y_pred_rf_tunning = random_forest_tunning.predict(X_test)"
      ],
      "metadata": {
        "id": "QjSweK5rSHYP"
      },
      "execution_count": null,
      "outputs": []
    },
    {
      "cell_type": "code",
      "source": [
        "accuracy_score(y_test, y_pred_rf_tunning)"
      ],
      "metadata": {
        "colab": {
          "base_uri": "https://localhost:8080/"
        },
        "id": "UVY8GesaSNot",
        "outputId": "81f8cc34-6eb0-4ce7-d481-6d2b70eb0cda"
      },
      "execution_count": null,
      "outputs": [
        {
          "output_type": "execute_result",
          "data": {
            "text/plain": [
              "0.6923076923076923"
            ]
          },
          "metadata": {},
          "execution_count": 198
        }
      ]
    },
    {
      "cell_type": "markdown",
      "source": [
        "**Matriz de confusão para o random forest tunado.**"
      ],
      "metadata": {
        "id": "vFYNakN4llok"
      }
    },
    {
      "cell_type": "code",
      "source": [
        "metrics.ConfusionMatrixDisplay.from_predictions(y_test, y_pred_rf_tunning, cmap='Blues');\n",
        "plt.grid(False)"
      ],
      "metadata": {
        "colab": {
          "base_uri": "https://localhost:8080/",
          "height": 341
        },
        "id": "n6ehpOzqSWjd",
        "outputId": "491ebed8-801b-4277-b083-f297d1e0c4db"
      },
      "execution_count": null,
      "outputs": [
        {
          "output_type": "display_data",
          "data": {
            "text/plain": [
              "<Figure size 1440x360 with 2 Axes>"
            ],
            "image/png": "[encoded data removed]"
          },
          "metadata": {
            "needs_background": "light"
          }
        }
      ]
    },
    {
      "cell_type": "markdown",
      "source": [
        "**Relatório de classificação para o random forest tunado.**"
      ],
      "metadata": {
        "id": "0o8ElvFjlsjl"
      }
    },
    {
      "cell_type": "code",
      "source": [
        "# Imprimindo o relatório de classificação\n",
        "print(\"Relatório de classificação: \\n\", classification_report(y_test, y_pred_rf_tunning))  "
      ],
      "metadata": {
        "colab": {
          "base_uri": "https://localhost:8080/"
        },
        "id": "mNvlG2D7SpWm",
        "outputId": "8ec47ca7-f4dd-40d0-d2ba-15c825e43bdf"
      },
      "execution_count": null,
      "outputs": [
        {
          "output_type": "stream",
          "name": "stdout",
          "text": [
            "Relatório de classificação: \n",
            "               precision    recall  f1-score   support\n",
            "\n",
            "           0       0.64      0.59      0.61       118\n",
            "           1       0.79      0.72      0.76        69\n",
            "           2       0.69      0.77      0.73       125\n",
            "\n",
            "    accuracy                           0.69       312\n",
            "   macro avg       0.71      0.70      0.70       312\n",
            "weighted avg       0.69      0.69      0.69       312\n",
            "\n"
          ]
        }
      ]
    },
    {
      "cell_type": "markdown",
      "source": [
        "###**Conclusão**"
      ],
      "metadata": {
        "id": "qghL_BwpyOiv"
      }
    },
    {
      "cell_type": "markdown",
      "source": [
        "**Neste case foram aplicadas a similaridade por cosseno e a distância euclidiana a fim de encontrar os 4 poços mais correlacionados com um poço passado como entrada (as características do posso). O posso passado como entrada foi o poço 001L7P. Usando a similaridade por cosseno para conseguir as 4 maiores correlações, obteve-se que os poços 01UR62,\tZUSIAU,\t00WI6A e\t00OCZ3 foram os mais correlacionados com o poço de entrada. Já na aplicação da distância euclidiana os poços com mínimas distâncias e consequentemente com mais similaridade, ou seja, mais correlacionados foram os poços,\t5TN53E,\t1FPJ3C,\t65K1WS e  N63S39. Como algo a mais a ser mostrado o candidato aplicou algoritmos de classificação para classificar o tipo de poço, se direcional, horizontal ou vertical. Os atributos não tiveram forte correlação com o target nem negativamente, nem positivamente, mas conseguiu-se melhorar os resultados das performances dos algoritmos em relação aos dados aplicados como eram por padrão, com técnicas de normalização e padronização dos dados, além das escolhas dos parâmetros dos algoritmos. O classificador utilizando random forest foi o que obteve melhores resultados, com cerca de 68% de acurácia. O segundo melhor classificador foi o KNN com acurácia de 67%, aproximadamente. Foram aplicados também outros classificadores como classificador por votação e a rede neural mlp, que teve resultado de acurácia semelhante ao KNN, porém obteve maiores erros para uma determinada classe, comprometendo seu recall e sua média armônica (f1-score). Foi também tunado o algoritmo random forest, que obteve um valor de acurácia levemente acima do classificador random forest aplicado anteriormente, acertou mais para 2 classes, no entanto, teve mais erros para uma determinada classe comparado com o random forest sem tunning, o random forest sem tunning foi um pouco mais balanceado, e portanto, na visão do candidato, o mais adequado como modelo, se fosse utilizado, mas ressalta-se novamente que os atributos não conseguiram explicar bem o modelo, por isso o algoritmo não performou melhor. Ainda foi feita uma técnica de balanceamento das classes usando a biblioteca Adasyn, entretanto os resultados pioraram, então o candidato resolveu não mostrar esses resultados. Por fim, conclui-se que na classificação do tipo de poço o modelo com random forest foi o melhor para esse conjunto de dados.**\n",
        "\n",
        "Relatório de classificação random forest: \n",
        "               precision    recall  f1-score   support\n",
        "\n",
        "           0       0.62      0.64      0.63       118\n",
        "           1       0.77      0.70      0.73        69\n",
        "           2       0.70      0.72      0.71       125\n",
        "\n",
        "    accuracy                           0.68       312\n",
        "   \n",
        "\n",
        "   Relatório de classificação KNN: \n",
        "               precision    recall  f1-score   support\n",
        "\n",
        "           0       0.62      0.65      0.63       118\n",
        "           1       0.75      0.71      0.73        69\n",
        "           2       0.68      0.66      0.67       125\n",
        "\n",
        "    accuracy                           0.67       312\n",
        "   \n",
        "\n"
      ],
      "metadata": {
        "id": "1sCpMmK2lBe2"
      }
    }
  ]
}